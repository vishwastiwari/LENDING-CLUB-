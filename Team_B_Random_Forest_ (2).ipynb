{
  "nbformat": 4,
  "nbformat_minor": 0,
  "metadata": {
    "colab": {
      "name": " Team B - Random Forest .ipynb",
      "provenance": [],
      "collapsed_sections": [],
      "machine_shape": "hm"
    },
    "kernelspec": {
      "display_name": "Python 3",
      "name": "python3"
    },
    "language_info": {
      "name": "python"
    }
  },
  "cells": [
    {
      "cell_type": "markdown",
      "metadata": {
        "id": "0MLqdCZIYyXT"
      },
      "source": [
        "# <h1><font color='red'>Capstone Project - Lending Club"
      ]
    },
    {
      "cell_type": "markdown",
      "metadata": {
        "id": "XCSWDYvUZTpu"
      },
      "source": [
        "<h3><font color='green'>Introduction</font><br></h3>\n",
        "\n",
        "\"LendingClub is a US peer-to-peer lending company, headquartered in San Francisco, California. It was the first peer-to-peer lender to register its offerings as securities with the Securities and Exchange Commission (SEC), and to offer loan trading on a secondary market. LendingClub is the world's largest peer-to-peer lending platform.\"   "
      ]
    },
    {
      "cell_type": "markdown",
      "metadata": {
        "id": "8GHNwQBdassb"
      },
      "source": [
        "<h3><font color='maroon'><b>Problem Statement:</b></font></h3><br>Goal is to try find a better prediction model to prevent investing on '\"bad loans\"."
      ]
    },
    {
      "cell_type": "markdown",
      "metadata": {
        "id": "ji6FgWdoJRfm"
      },
      "source": [
        "# **Loading the required libraries**"
      ]
    },
    {
      "cell_type": "code",
      "metadata": {
        "id": "MtkFcBz_JVgx",
        "colab": {
          "base_uri": "https://localhost:8080/"
        },
        "outputId": "075f05a5-3e6c-4be2-ad90-9f8011cb8258"
      },
      "source": [
        "import pandas as pd\n",
        "import numpy as np\n",
        "import seaborn as sns\n",
        "import warnings\n",
        "import matplotlib.pyplot as plt\n",
        "%matplotlib inline\n",
        "\n",
        "# To ignore any warnings\n",
        "import warnings \n",
        "warnings.filterwarnings(\"ignore\")\n",
        "\n",
        "from google.colab import drive\n",
        "drive.mount('/content/drive')"
      ],
      "execution_count": null,
      "outputs": [
        {
          "output_type": "stream",
          "text": [
            "Drive already mounted at /content/drive; to attempt to forcibly remount, call drive.mount(\"/content/drive\", force_remount=True).\n"
          ],
          "name": "stdout"
        }
      ]
    },
    {
      "cell_type": "markdown",
      "metadata": {
        "id": "5MZ2xCDXLZQH"
      },
      "source": [
        "# **Loading the data and creating a dataframe**"
      ]
    },
    {
      "cell_type": "code",
      "metadata": {
        "id": "XUSAY00ILaym"
      },
      "source": [
        " # Importing accepted dataset in csv format as the data received is in .txt format and then converted to excel.\n",
        "df = pd.read_csv(r'/content/drive/MyDrive/Project folder/accepted_2007_to_2018Q4.csv',encoding = \"ISO-8859-1\", low_memory=False)\n"
      ],
      "execution_count": null,
      "outputs": []
    },
    {
      "cell_type": "markdown",
      "metadata": {
        "id": "wC3CCXaCi_Zq"
      },
      "source": [
        "# **Data Description**"
      ]
    },
    {
      "cell_type": "code",
      "metadata": {
        "id": "_lW9RdrKjFsR",
        "colab": {
          "base_uri": "https://localhost:8080/"
        },
        "outputId": "ec90c355-19e5-4ec9-aed4-190e5066277f"
      },
      "source": [
        "# Checking the number of observations and number of variables in the dataset\n",
        "df.shape"
      ],
      "execution_count": null,
      "outputs": [
        {
          "output_type": "execute_result",
          "data": {
            "text/plain": [
              "(2260701, 151)"
            ]
          },
          "metadata": {
            "tags": []
          },
          "execution_count": 3
        }
      ]
    },
    {
      "cell_type": "code",
      "metadata": {
        "id": "a0xEcoUIo5q4"
      },
      "source": [
        "# we want to increase it, because in this case there are a lot of column names\n",
        "pd.options.display.max_rows = 1000"
      ],
      "execution_count": null,
      "outputs": []
    },
    {
      "cell_type": "code",
      "metadata": {
        "id": "esp_DAIxvKFT",
        "colab": {
          "base_uri": "https://localhost:8080/",
          "height": 1000
        },
        "outputId": "0a633252-7e8a-4c0f-eada-ea761f8ecd84"
      },
      "source": [
        "# Viewing the top 5 rows of the dataset of accepted\n",
        "# the .T is transposing the matrix.\n",
        "df.head().T"
      ],
      "execution_count": null,
      "outputs": [
        {
          "output_type": "execute_result",
          "data": {
            "text/html": [
              "<div>\n",
              "<style scoped>\n",
              "    .dataframe tbody tr th:only-of-type {\n",
              "        vertical-align: middle;\n",
              "    }\n",
              "\n",
              "    .dataframe tbody tr th {\n",
              "        vertical-align: top;\n",
              "    }\n",
              "\n",
              "    .dataframe thead th {\n",
              "        text-align: right;\n",
              "    }\n",
              "</style>\n",
              "<table border=\"1\" class=\"dataframe\">\n",
              "  <thead>\n",
              "    <tr style=\"text-align: right;\">\n",
              "      <th></th>\n",
              "      <th>0</th>\n",
              "      <th>1</th>\n",
              "      <th>2</th>\n",
              "      <th>3</th>\n",
              "      <th>4</th>\n",
              "    </tr>\n",
              "  </thead>\n",
              "  <tbody>\n",
              "    <tr>\n",
              "      <th>id</th>\n",
              "      <td>68407277</td>\n",
              "      <td>68355089</td>\n",
              "      <td>68341763</td>\n",
              "      <td>66310712</td>\n",
              "      <td>68476807</td>\n",
              "    </tr>\n",
              "    <tr>\n",
              "      <th>member_id</th>\n",
              "      <td>NaN</td>\n",
              "      <td>NaN</td>\n",
              "      <td>NaN</td>\n",
              "      <td>NaN</td>\n",
              "      <td>NaN</td>\n",
              "    </tr>\n",
              "    <tr>\n",
              "      <th>loan_amnt</th>\n",
              "      <td>3600</td>\n",
              "      <td>24700</td>\n",
              "      <td>20000</td>\n",
              "      <td>35000</td>\n",
              "      <td>10400</td>\n",
              "    </tr>\n",
              "    <tr>\n",
              "      <th>funded_amnt</th>\n",
              "      <td>3600</td>\n",
              "      <td>24700</td>\n",
              "      <td>20000</td>\n",
              "      <td>35000</td>\n",
              "      <td>10400</td>\n",
              "    </tr>\n",
              "    <tr>\n",
              "      <th>funded_amnt_inv</th>\n",
              "      <td>3600</td>\n",
              "      <td>24700</td>\n",
              "      <td>20000</td>\n",
              "      <td>35000</td>\n",
              "      <td>10400</td>\n",
              "    </tr>\n",
              "    <tr>\n",
              "      <th>term</th>\n",
              "      <td>36 months</td>\n",
              "      <td>36 months</td>\n",
              "      <td>60 months</td>\n",
              "      <td>60 months</td>\n",
              "      <td>60 months</td>\n",
              "    </tr>\n",
              "    <tr>\n",
              "      <th>int_rate</th>\n",
              "      <td>13.99</td>\n",
              "      <td>11.99</td>\n",
              "      <td>10.78</td>\n",
              "      <td>14.85</td>\n",
              "      <td>22.45</td>\n",
              "    </tr>\n",
              "    <tr>\n",
              "      <th>installment</th>\n",
              "      <td>123.03</td>\n",
              "      <td>820.28</td>\n",
              "      <td>432.66</td>\n",
              "      <td>829.9</td>\n",
              "      <td>289.91</td>\n",
              "    </tr>\n",
              "    <tr>\n",
              "      <th>grade</th>\n",
              "      <td>C</td>\n",
              "      <td>C</td>\n",
              "      <td>B</td>\n",
              "      <td>C</td>\n",
              "      <td>F</td>\n",
              "    </tr>\n",
              "    <tr>\n",
              "      <th>sub_grade</th>\n",
              "      <td>C4</td>\n",
              "      <td>C1</td>\n",
              "      <td>B4</td>\n",
              "      <td>C5</td>\n",
              "      <td>F1</td>\n",
              "    </tr>\n",
              "    <tr>\n",
              "      <th>emp_title</th>\n",
              "      <td>leadman</td>\n",
              "      <td>Engineer</td>\n",
              "      <td>truck driver</td>\n",
              "      <td>Information Systems Officer</td>\n",
              "      <td>Contract Specialist</td>\n",
              "    </tr>\n",
              "    <tr>\n",
              "      <th>emp_length</th>\n",
              "      <td>10+ years</td>\n",
              "      <td>10+ years</td>\n",
              "      <td>10+ years</td>\n",
              "      <td>10+ years</td>\n",
              "      <td>3 years</td>\n",
              "    </tr>\n",
              "    <tr>\n",
              "      <th>home_ownership</th>\n",
              "      <td>MORTGAGE</td>\n",
              "      <td>MORTGAGE</td>\n",
              "      <td>MORTGAGE</td>\n",
              "      <td>MORTGAGE</td>\n",
              "      <td>MORTGAGE</td>\n",
              "    </tr>\n",
              "    <tr>\n",
              "      <th>annual_inc</th>\n",
              "      <td>55000</td>\n",
              "      <td>65000</td>\n",
              "      <td>63000</td>\n",
              "      <td>110000</td>\n",
              "      <td>104433</td>\n",
              "    </tr>\n",
              "    <tr>\n",
              "      <th>verification_status</th>\n",
              "      <td>Not Verified</td>\n",
              "      <td>Not Verified</td>\n",
              "      <td>Not Verified</td>\n",
              "      <td>Source Verified</td>\n",
              "      <td>Source Verified</td>\n",
              "    </tr>\n",
              "    <tr>\n",
              "      <th>issue_d</th>\n",
              "      <td>Dec-2015</td>\n",
              "      <td>Dec-2015</td>\n",
              "      <td>Dec-2015</td>\n",
              "      <td>Dec-2015</td>\n",
              "      <td>Dec-2015</td>\n",
              "    </tr>\n",
              "    <tr>\n",
              "      <th>loan_status</th>\n",
              "      <td>Fully Paid</td>\n",
              "      <td>Fully Paid</td>\n",
              "      <td>Fully Paid</td>\n",
              "      <td>Current</td>\n",
              "      <td>Fully Paid</td>\n",
              "    </tr>\n",
              "    <tr>\n",
              "      <th>pymnt_plan</th>\n",
              "      <td>n</td>\n",
              "      <td>n</td>\n",
              "      <td>n</td>\n",
              "      <td>n</td>\n",
              "      <td>n</td>\n",
              "    </tr>\n",
              "    <tr>\n",
              "      <th>url</th>\n",
              "      <td>https://lendingclub.com/browse/loanDetail.acti...</td>\n",
              "      <td>https://lendingclub.com/browse/loanDetail.acti...</td>\n",
              "      <td>https://lendingclub.com/browse/loanDetail.acti...</td>\n",
              "      <td>https://lendingclub.com/browse/loanDetail.acti...</td>\n",
              "      <td>https://lendingclub.com/browse/loanDetail.acti...</td>\n",
              "    </tr>\n",
              "    <tr>\n",
              "      <th>desc</th>\n",
              "      <td>NaN</td>\n",
              "      <td>NaN</td>\n",
              "      <td>NaN</td>\n",
              "      <td>NaN</td>\n",
              "      <td>NaN</td>\n",
              "    </tr>\n",
              "    <tr>\n",
              "      <th>purpose</th>\n",
              "      <td>debt_consolidation</td>\n",
              "      <td>small_business</td>\n",
              "      <td>home_improvement</td>\n",
              "      <td>debt_consolidation</td>\n",
              "      <td>major_purchase</td>\n",
              "    </tr>\n",
              "    <tr>\n",
              "      <th>title</th>\n",
              "      <td>Debt consolidation</td>\n",
              "      <td>Business</td>\n",
              "      <td>NaN</td>\n",
              "      <td>Debt consolidation</td>\n",
              "      <td>Major purchase</td>\n",
              "    </tr>\n",
              "    <tr>\n",
              "      <th>zip_code</th>\n",
              "      <td>190xx</td>\n",
              "      <td>577xx</td>\n",
              "      <td>605xx</td>\n",
              "      <td>076xx</td>\n",
              "      <td>174xx</td>\n",
              "    </tr>\n",
              "    <tr>\n",
              "      <th>addr_state</th>\n",
              "      <td>PA</td>\n",
              "      <td>SD</td>\n",
              "      <td>IL</td>\n",
              "      <td>NJ</td>\n",
              "      <td>PA</td>\n",
              "    </tr>\n",
              "    <tr>\n",
              "      <th>dti</th>\n",
              "      <td>5.91</td>\n",
              "      <td>16.06</td>\n",
              "      <td>10.78</td>\n",
              "      <td>17.06</td>\n",
              "      <td>25.37</td>\n",
              "    </tr>\n",
              "    <tr>\n",
              "      <th>delinq_2yrs</th>\n",
              "      <td>0</td>\n",
              "      <td>1</td>\n",
              "      <td>0</td>\n",
              "      <td>0</td>\n",
              "      <td>1</td>\n",
              "    </tr>\n",
              "    <tr>\n",
              "      <th>earliest_cr_line</th>\n",
              "      <td>Aug-2003</td>\n",
              "      <td>Dec-1999</td>\n",
              "      <td>Aug-2000</td>\n",
              "      <td>Sep-2008</td>\n",
              "      <td>Jun-1998</td>\n",
              "    </tr>\n",
              "    <tr>\n",
              "      <th>fico_range_low</th>\n",
              "      <td>675</td>\n",
              "      <td>715</td>\n",
              "      <td>695</td>\n",
              "      <td>785</td>\n",
              "      <td>695</td>\n",
              "    </tr>\n",
              "    <tr>\n",
              "      <th>fico_range_high</th>\n",
              "      <td>679</td>\n",
              "      <td>719</td>\n",
              "      <td>699</td>\n",
              "      <td>789</td>\n",
              "      <td>699</td>\n",
              "    </tr>\n",
              "    <tr>\n",
              "      <th>inq_last_6mths</th>\n",
              "      <td>1</td>\n",
              "      <td>4</td>\n",
              "      <td>0</td>\n",
              "      <td>0</td>\n",
              "      <td>3</td>\n",
              "    </tr>\n",
              "    <tr>\n",
              "      <th>mths_since_last_delinq</th>\n",
              "      <td>30</td>\n",
              "      <td>6</td>\n",
              "      <td>NaN</td>\n",
              "      <td>NaN</td>\n",
              "      <td>12</td>\n",
              "    </tr>\n",
              "    <tr>\n",
              "      <th>mths_since_last_record</th>\n",
              "      <td>NaN</td>\n",
              "      <td>NaN</td>\n",
              "      <td>NaN</td>\n",
              "      <td>NaN</td>\n",
              "      <td>NaN</td>\n",
              "    </tr>\n",
              "    <tr>\n",
              "      <th>open_acc</th>\n",
              "      <td>7</td>\n",
              "      <td>22</td>\n",
              "      <td>6</td>\n",
              "      <td>13</td>\n",
              "      <td>12</td>\n",
              "    </tr>\n",
              "    <tr>\n",
              "      <th>pub_rec</th>\n",
              "      <td>0</td>\n",
              "      <td>0</td>\n",
              "      <td>0</td>\n",
              "      <td>0</td>\n",
              "      <td>0</td>\n",
              "    </tr>\n",
              "    <tr>\n",
              "      <th>revol_bal</th>\n",
              "      <td>2765</td>\n",
              "      <td>21470</td>\n",
              "      <td>7869</td>\n",
              "      <td>7802</td>\n",
              "      <td>21929</td>\n",
              "    </tr>\n",
              "    <tr>\n",
              "      <th>revol_util</th>\n",
              "      <td>29.7</td>\n",
              "      <td>19.2</td>\n",
              "      <td>56.2</td>\n",
              "      <td>11.6</td>\n",
              "      <td>64.5</td>\n",
              "    </tr>\n",
              "    <tr>\n",
              "      <th>total_acc</th>\n",
              "      <td>13</td>\n",
              "      <td>38</td>\n",
              "      <td>18</td>\n",
              "      <td>17</td>\n",
              "      <td>35</td>\n",
              "    </tr>\n",
              "    <tr>\n",
              "      <th>initial_list_status</th>\n",
              "      <td>w</td>\n",
              "      <td>w</td>\n",
              "      <td>w</td>\n",
              "      <td>w</td>\n",
              "      <td>w</td>\n",
              "    </tr>\n",
              "    <tr>\n",
              "      <th>out_prncp</th>\n",
              "      <td>0</td>\n",
              "      <td>0</td>\n",
              "      <td>0</td>\n",
              "      <td>15897.6</td>\n",
              "      <td>0</td>\n",
              "    </tr>\n",
              "    <tr>\n",
              "      <th>out_prncp_inv</th>\n",
              "      <td>0</td>\n",
              "      <td>0</td>\n",
              "      <td>0</td>\n",
              "      <td>15897.6</td>\n",
              "      <td>0</td>\n",
              "    </tr>\n",
              "    <tr>\n",
              "      <th>total_pymnt</th>\n",
              "      <td>4421.72</td>\n",
              "      <td>25679.7</td>\n",
              "      <td>22705.9</td>\n",
              "      <td>31464</td>\n",
              "      <td>11740.5</td>\n",
              "    </tr>\n",
              "    <tr>\n",
              "      <th>total_pymnt_inv</th>\n",
              "      <td>4421.72</td>\n",
              "      <td>25679.7</td>\n",
              "      <td>22705.9</td>\n",
              "      <td>31464</td>\n",
              "      <td>11740.5</td>\n",
              "    </tr>\n",
              "    <tr>\n",
              "      <th>total_rec_prncp</th>\n",
              "      <td>3600</td>\n",
              "      <td>24700</td>\n",
              "      <td>20000</td>\n",
              "      <td>19102.3</td>\n",
              "      <td>10400</td>\n",
              "    </tr>\n",
              "    <tr>\n",
              "      <th>total_rec_int</th>\n",
              "      <td>821.72</td>\n",
              "      <td>979.66</td>\n",
              "      <td>2705.92</td>\n",
              "      <td>12361.7</td>\n",
              "      <td>1340.5</td>\n",
              "    </tr>\n",
              "    <tr>\n",
              "      <th>total_rec_late_fee</th>\n",
              "      <td>0</td>\n",
              "      <td>0</td>\n",
              "      <td>0</td>\n",
              "      <td>0</td>\n",
              "      <td>0</td>\n",
              "    </tr>\n",
              "    <tr>\n",
              "      <th>recoveries</th>\n",
              "      <td>0</td>\n",
              "      <td>0</td>\n",
              "      <td>0</td>\n",
              "      <td>0</td>\n",
              "      <td>0</td>\n",
              "    </tr>\n",
              "    <tr>\n",
              "      <th>collection_recovery_fee</th>\n",
              "      <td>0</td>\n",
              "      <td>0</td>\n",
              "      <td>0</td>\n",
              "      <td>0</td>\n",
              "      <td>0</td>\n",
              "    </tr>\n",
              "    <tr>\n",
              "      <th>last_pymnt_d</th>\n",
              "      <td>Jan-2019</td>\n",
              "      <td>Jun-2016</td>\n",
              "      <td>Jun-2017</td>\n",
              "      <td>Feb-2019</td>\n",
              "      <td>Jul-2016</td>\n",
              "    </tr>\n",
              "    <tr>\n",
              "      <th>last_pymnt_amnt</th>\n",
              "      <td>122.67</td>\n",
              "      <td>926.35</td>\n",
              "      <td>15813.3</td>\n",
              "      <td>829.9</td>\n",
              "      <td>10129</td>\n",
              "    </tr>\n",
              "    <tr>\n",
              "      <th>next_pymnt_d</th>\n",
              "      <td>NaN</td>\n",
              "      <td>NaN</td>\n",
              "      <td>NaN</td>\n",
              "      <td>Apr-2019</td>\n",
              "      <td>NaN</td>\n",
              "    </tr>\n",
              "    <tr>\n",
              "      <th>last_credit_pull_d</th>\n",
              "      <td>Mar-2019</td>\n",
              "      <td>Mar-2019</td>\n",
              "      <td>Mar-2019</td>\n",
              "      <td>Mar-2019</td>\n",
              "      <td>Mar-2018</td>\n",
              "    </tr>\n",
              "    <tr>\n",
              "      <th>last_fico_range_high</th>\n",
              "      <td>564</td>\n",
              "      <td>699</td>\n",
              "      <td>704</td>\n",
              "      <td>679</td>\n",
              "      <td>704</td>\n",
              "    </tr>\n",
              "    <tr>\n",
              "      <th>last_fico_range_low</th>\n",
              "      <td>560</td>\n",
              "      <td>695</td>\n",
              "      <td>700</td>\n",
              "      <td>675</td>\n",
              "      <td>700</td>\n",
              "    </tr>\n",
              "    <tr>\n",
              "      <th>collections_12_mths_ex_med</th>\n",
              "      <td>0</td>\n",
              "      <td>0</td>\n",
              "      <td>0</td>\n",
              "      <td>0</td>\n",
              "      <td>0</td>\n",
              "    </tr>\n",
              "    <tr>\n",
              "      <th>mths_since_last_major_derog</th>\n",
              "      <td>30</td>\n",
              "      <td>NaN</td>\n",
              "      <td>NaN</td>\n",
              "      <td>NaN</td>\n",
              "      <td>NaN</td>\n",
              "    </tr>\n",
              "    <tr>\n",
              "      <th>policy_code</th>\n",
              "      <td>1</td>\n",
              "      <td>1</td>\n",
              "      <td>1</td>\n",
              "      <td>1</td>\n",
              "      <td>1</td>\n",
              "    </tr>\n",
              "    <tr>\n",
              "      <th>application_type</th>\n",
              "      <td>Individual</td>\n",
              "      <td>Individual</td>\n",
              "      <td>Joint App</td>\n",
              "      <td>Individual</td>\n",
              "      <td>Individual</td>\n",
              "    </tr>\n",
              "    <tr>\n",
              "      <th>annual_inc_joint</th>\n",
              "      <td>NaN</td>\n",
              "      <td>NaN</td>\n",
              "      <td>71000</td>\n",
              "      <td>NaN</td>\n",
              "      <td>NaN</td>\n",
              "    </tr>\n",
              "    <tr>\n",
              "      <th>dti_joint</th>\n",
              "      <td>NaN</td>\n",
              "      <td>NaN</td>\n",
              "      <td>13.85</td>\n",
              "      <td>NaN</td>\n",
              "      <td>NaN</td>\n",
              "    </tr>\n",
              "    <tr>\n",
              "      <th>verification_status_joint</th>\n",
              "      <td>NaN</td>\n",
              "      <td>NaN</td>\n",
              "      <td>Not Verified</td>\n",
              "      <td>NaN</td>\n",
              "      <td>NaN</td>\n",
              "    </tr>\n",
              "    <tr>\n",
              "      <th>acc_now_delinq</th>\n",
              "      <td>0</td>\n",
              "      <td>0</td>\n",
              "      <td>0</td>\n",
              "      <td>0</td>\n",
              "      <td>0</td>\n",
              "    </tr>\n",
              "    <tr>\n",
              "      <th>tot_coll_amt</th>\n",
              "      <td>722</td>\n",
              "      <td>0</td>\n",
              "      <td>0</td>\n",
              "      <td>0</td>\n",
              "      <td>0</td>\n",
              "    </tr>\n",
              "    <tr>\n",
              "      <th>tot_cur_bal</th>\n",
              "      <td>144904</td>\n",
              "      <td>204396</td>\n",
              "      <td>189699</td>\n",
              "      <td>301500</td>\n",
              "      <td>331730</td>\n",
              "    </tr>\n",
              "    <tr>\n",
              "      <th>open_acc_6m</th>\n",
              "      <td>2</td>\n",
              "      <td>1</td>\n",
              "      <td>0</td>\n",
              "      <td>1</td>\n",
              "      <td>1</td>\n",
              "    </tr>\n",
              "    <tr>\n",
              "      <th>open_act_il</th>\n",
              "      <td>2</td>\n",
              "      <td>1</td>\n",
              "      <td>1</td>\n",
              "      <td>1</td>\n",
              "      <td>3</td>\n",
              "    </tr>\n",
              "    <tr>\n",
              "      <th>open_il_12m</th>\n",
              "      <td>0</td>\n",
              "      <td>0</td>\n",
              "      <td>0</td>\n",
              "      <td>0</td>\n",
              "      <td>0</td>\n",
              "    </tr>\n",
              "    <tr>\n",
              "      <th>open_il_24m</th>\n",
              "      <td>1</td>\n",
              "      <td>1</td>\n",
              "      <td>4</td>\n",
              "      <td>1</td>\n",
              "      <td>3</td>\n",
              "    </tr>\n",
              "    <tr>\n",
              "      <th>mths_since_rcnt_il</th>\n",
              "      <td>21</td>\n",
              "      <td>19</td>\n",
              "      <td>19</td>\n",
              "      <td>23</td>\n",
              "      <td>14</td>\n",
              "    </tr>\n",
              "    <tr>\n",
              "      <th>total_bal_il</th>\n",
              "      <td>4981</td>\n",
              "      <td>18005</td>\n",
              "      <td>10827</td>\n",
              "      <td>12609</td>\n",
              "      <td>73839</td>\n",
              "    </tr>\n",
              "    <tr>\n",
              "      <th>il_util</th>\n",
              "      <td>36</td>\n",
              "      <td>73</td>\n",
              "      <td>73</td>\n",
              "      <td>70</td>\n",
              "      <td>84</td>\n",
              "    </tr>\n",
              "    <tr>\n",
              "      <th>open_rv_12m</th>\n",
              "      <td>3</td>\n",
              "      <td>2</td>\n",
              "      <td>0</td>\n",
              "      <td>1</td>\n",
              "      <td>4</td>\n",
              "    </tr>\n",
              "    <tr>\n",
              "      <th>open_rv_24m</th>\n",
              "      <td>3</td>\n",
              "      <td>3</td>\n",
              "      <td>2</td>\n",
              "      <td>1</td>\n",
              "      <td>7</td>\n",
              "    </tr>\n",
              "    <tr>\n",
              "      <th>max_bal_bc</th>\n",
              "      <td>722</td>\n",
              "      <td>6472</td>\n",
              "      <td>2081</td>\n",
              "      <td>6987</td>\n",
              "      <td>9702</td>\n",
              "    </tr>\n",
              "    <tr>\n",
              "      <th>all_util</th>\n",
              "      <td>34</td>\n",
              "      <td>29</td>\n",
              "      <td>65</td>\n",
              "      <td>45</td>\n",
              "      <td>78</td>\n",
              "    </tr>\n",
              "    <tr>\n",
              "      <th>total_rev_hi_lim</th>\n",
              "      <td>9300</td>\n",
              "      <td>111800</td>\n",
              "      <td>14000</td>\n",
              "      <td>67300</td>\n",
              "      <td>34000</td>\n",
              "    </tr>\n",
              "    <tr>\n",
              "      <th>inq_fi</th>\n",
              "      <td>3</td>\n",
              "      <td>0</td>\n",
              "      <td>2</td>\n",
              "      <td>0</td>\n",
              "      <td>2</td>\n",
              "    </tr>\n",
              "    <tr>\n",
              "      <th>total_cu_tl</th>\n",
              "      <td>1</td>\n",
              "      <td>0</td>\n",
              "      <td>5</td>\n",
              "      <td>1</td>\n",
              "      <td>1</td>\n",
              "    </tr>\n",
              "    <tr>\n",
              "      <th>inq_last_12m</th>\n",
              "      <td>4</td>\n",
              "      <td>6</td>\n",
              "      <td>1</td>\n",
              "      <td>0</td>\n",
              "      <td>3</td>\n",
              "    </tr>\n",
              "    <tr>\n",
              "      <th>acc_open_past_24mths</th>\n",
              "      <td>4</td>\n",
              "      <td>4</td>\n",
              "      <td>6</td>\n",
              "      <td>2</td>\n",
              "      <td>10</td>\n",
              "    </tr>\n",
              "    <tr>\n",
              "      <th>avg_cur_bal</th>\n",
              "      <td>20701</td>\n",
              "      <td>9733</td>\n",
              "      <td>31617</td>\n",
              "      <td>23192</td>\n",
              "      <td>27644</td>\n",
              "    </tr>\n",
              "    <tr>\n",
              "      <th>bc_open_to_buy</th>\n",
              "      <td>1506</td>\n",
              "      <td>57830</td>\n",
              "      <td>2737</td>\n",
              "      <td>54962</td>\n",
              "      <td>4567</td>\n",
              "    </tr>\n",
              "    <tr>\n",
              "      <th>bc_util</th>\n",
              "      <td>37.2</td>\n",
              "      <td>27.1</td>\n",
              "      <td>55.9</td>\n",
              "      <td>12.1</td>\n",
              "      <td>77.5</td>\n",
              "    </tr>\n",
              "    <tr>\n",
              "      <th>chargeoff_within_12_mths</th>\n",
              "      <td>0</td>\n",
              "      <td>0</td>\n",
              "      <td>0</td>\n",
              "      <td>0</td>\n",
              "      <td>0</td>\n",
              "    </tr>\n",
              "    <tr>\n",
              "      <th>delinq_amnt</th>\n",
              "      <td>0</td>\n",
              "      <td>0</td>\n",
              "      <td>0</td>\n",
              "      <td>0</td>\n",
              "      <td>0</td>\n",
              "    </tr>\n",
              "    <tr>\n",
              "      <th>mo_sin_old_il_acct</th>\n",
              "      <td>148</td>\n",
              "      <td>113</td>\n",
              "      <td>125</td>\n",
              "      <td>36</td>\n",
              "      <td>128</td>\n",
              "    </tr>\n",
              "    <tr>\n",
              "      <th>mo_sin_old_rev_tl_op</th>\n",
              "      <td>128</td>\n",
              "      <td>192</td>\n",
              "      <td>184</td>\n",
              "      <td>87</td>\n",
              "      <td>210</td>\n",
              "    </tr>\n",
              "    <tr>\n",
              "      <th>mo_sin_rcnt_rev_tl_op</th>\n",
              "      <td>3</td>\n",
              "      <td>2</td>\n",
              "      <td>14</td>\n",
              "      <td>2</td>\n",
              "      <td>4</td>\n",
              "    </tr>\n",
              "    <tr>\n",
              "      <th>mo_sin_rcnt_tl</th>\n",
              "      <td>3</td>\n",
              "      <td>2</td>\n",
              "      <td>14</td>\n",
              "      <td>2</td>\n",
              "      <td>4</td>\n",
              "    </tr>\n",
              "    <tr>\n",
              "      <th>mort_acc</th>\n",
              "      <td>1</td>\n",
              "      <td>4</td>\n",
              "      <td>5</td>\n",
              "      <td>1</td>\n",
              "      <td>6</td>\n",
              "    </tr>\n",
              "    <tr>\n",
              "      <th>mths_since_recent_bc</th>\n",
              "      <td>4</td>\n",
              "      <td>2</td>\n",
              "      <td>101</td>\n",
              "      <td>2</td>\n",
              "      <td>4</td>\n",
              "    </tr>\n",
              "    <tr>\n",
              "      <th>mths_since_recent_bc_dlq</th>\n",
              "      <td>69</td>\n",
              "      <td>NaN</td>\n",
              "      <td>NaN</td>\n",
              "      <td>NaN</td>\n",
              "      <td>12</td>\n",
              "    </tr>\n",
              "    <tr>\n",
              "      <th>mths_since_recent_inq</th>\n",
              "      <td>4</td>\n",
              "      <td>0</td>\n",
              "      <td>10</td>\n",
              "      <td>NaN</td>\n",
              "      <td>1</td>\n",
              "    </tr>\n",
              "    <tr>\n",
              "      <th>mths_since_recent_revol_delinq</th>\n",
              "      <td>69</td>\n",
              "      <td>6</td>\n",
              "      <td>NaN</td>\n",
              "      <td>NaN</td>\n",
              "      <td>12</td>\n",
              "    </tr>\n",
              "    <tr>\n",
              "      <th>num_accts_ever_120_pd</th>\n",
              "      <td>2</td>\n",
              "      <td>0</td>\n",
              "      <td>0</td>\n",
              "      <td>0</td>\n",
              "      <td>0</td>\n",
              "    </tr>\n",
              "    <tr>\n",
              "      <th>num_actv_bc_tl</th>\n",
              "      <td>2</td>\n",
              "      <td>5</td>\n",
              "      <td>2</td>\n",
              "      <td>4</td>\n",
              "      <td>4</td>\n",
              "    </tr>\n",
              "    <tr>\n",
              "      <th>num_actv_rev_tl</th>\n",
              "      <td>4</td>\n",
              "      <td>5</td>\n",
              "      <td>3</td>\n",
              "      <td>5</td>\n",
              "      <td>6</td>\n",
              "    </tr>\n",
              "    <tr>\n",
              "      <th>num_bc_sats</th>\n",
              "      <td>2</td>\n",
              "      <td>13</td>\n",
              "      <td>2</td>\n",
              "      <td>8</td>\n",
              "      <td>5</td>\n",
              "    </tr>\n",
              "    <tr>\n",
              "      <th>num_bc_tl</th>\n",
              "      <td>5</td>\n",
              "      <td>17</td>\n",
              "      <td>4</td>\n",
              "      <td>10</td>\n",
              "      <td>9</td>\n",
              "    </tr>\n",
              "    <tr>\n",
              "      <th>num_il_tl</th>\n",
              "      <td>3</td>\n",
              "      <td>6</td>\n",
              "      <td>6</td>\n",
              "      <td>2</td>\n",
              "      <td>10</td>\n",
              "    </tr>\n",
              "    <tr>\n",
              "      <th>num_op_rev_tl</th>\n",
              "      <td>4</td>\n",
              "      <td>20</td>\n",
              "      <td>4</td>\n",
              "      <td>10</td>\n",
              "      <td>7</td>\n",
              "    </tr>\n",
              "    <tr>\n",
              "      <th>num_rev_accts</th>\n",
              "      <td>9</td>\n",
              "      <td>27</td>\n",
              "      <td>7</td>\n",
              "      <td>13</td>\n",
              "      <td>19</td>\n",
              "    </tr>\n",
              "    <tr>\n",
              "      <th>num_rev_tl_bal_gt_0</th>\n",
              "      <td>4</td>\n",
              "      <td>5</td>\n",
              "      <td>3</td>\n",
              "      <td>5</td>\n",
              "      <td>6</td>\n",
              "    </tr>\n",
              "    <tr>\n",
              "      <th>num_sats</th>\n",
              "      <td>7</td>\n",
              "      <td>22</td>\n",
              "      <td>6</td>\n",
              "      <td>13</td>\n",
              "      <td>12</td>\n",
              "    </tr>\n",
              "    <tr>\n",
              "      <th>num_tl_120dpd_2m</th>\n",
              "      <td>0</td>\n",
              "      <td>0</td>\n",
              "      <td>0</td>\n",
              "      <td>0</td>\n",
              "      <td>0</td>\n",
              "    </tr>\n",
              "    <tr>\n",
              "      <th>num_tl_30dpd</th>\n",
              "      <td>0</td>\n",
              "      <td>0</td>\n",
              "      <td>0</td>\n",
              "      <td>0</td>\n",
              "      <td>0</td>\n",
              "    </tr>\n",
              "    <tr>\n",
              "      <th>num_tl_90g_dpd_24m</th>\n",
              "      <td>0</td>\n",
              "      <td>0</td>\n",
              "      <td>0</td>\n",
              "      <td>0</td>\n",
              "      <td>0</td>\n",
              "    </tr>\n",
              "    <tr>\n",
              "      <th>num_tl_op_past_12m</th>\n",
              "      <td>3</td>\n",
              "      <td>2</td>\n",
              "      <td>0</td>\n",
              "      <td>1</td>\n",
              "      <td>4</td>\n",
              "    </tr>\n",
              "    <tr>\n",
              "      <th>pct_tl_nvr_dlq</th>\n",
              "      <td>76.9</td>\n",
              "      <td>97.4</td>\n",
              "      <td>100</td>\n",
              "      <td>100</td>\n",
              "      <td>96.6</td>\n",
              "    </tr>\n",
              "    <tr>\n",
              "      <th>percent_bc_gt_75</th>\n",
              "      <td>0</td>\n",
              "      <td>7.7</td>\n",
              "      <td>50</td>\n",
              "      <td>0</td>\n",
              "      <td>60</td>\n",
              "    </tr>\n",
              "    <tr>\n",
              "      <th>pub_rec_bankruptcies</th>\n",
              "      <td>0</td>\n",
              "      <td>0</td>\n",
              "      <td>0</td>\n",
              "      <td>0</td>\n",
              "      <td>0</td>\n",
              "    </tr>\n",
              "    <tr>\n",
              "      <th>tax_liens</th>\n",
              "      <td>0</td>\n",
              "      <td>0</td>\n",
              "      <td>0</td>\n",
              "      <td>0</td>\n",
              "      <td>0</td>\n",
              "    </tr>\n",
              "    <tr>\n",
              "      <th>tot_hi_cred_lim</th>\n",
              "      <td>178050</td>\n",
              "      <td>314017</td>\n",
              "      <td>218418</td>\n",
              "      <td>381215</td>\n",
              "      <td>439570</td>\n",
              "    </tr>\n",
              "    <tr>\n",
              "      <th>total_bal_ex_mort</th>\n",
              "      <td>7746</td>\n",
              "      <td>39475</td>\n",
              "      <td>18696</td>\n",
              "      <td>52226</td>\n",
              "      <td>95768</td>\n",
              "    </tr>\n",
              "    <tr>\n",
              "      <th>total_bc_limit</th>\n",
              "      <td>2400</td>\n",
              "      <td>79300</td>\n",
              "      <td>6200</td>\n",
              "      <td>62500</td>\n",
              "      <td>20300</td>\n",
              "    </tr>\n",
              "    <tr>\n",
              "      <th>total_il_high_credit_limit</th>\n",
              "      <td>13734</td>\n",
              "      <td>24667</td>\n",
              "      <td>14877</td>\n",
              "      <td>18000</td>\n",
              "      <td>88097</td>\n",
              "    </tr>\n",
              "    <tr>\n",
              "      <th>revol_bal_joint</th>\n",
              "      <td>NaN</td>\n",
              "      <td>NaN</td>\n",
              "      <td>NaN</td>\n",
              "      <td>NaN</td>\n",
              "      <td>NaN</td>\n",
              "    </tr>\n",
              "    <tr>\n",
              "      <th>sec_app_fico_range_low</th>\n",
              "      <td>NaN</td>\n",
              "      <td>NaN</td>\n",
              "      <td>NaN</td>\n",
              "      <td>NaN</td>\n",
              "      <td>NaN</td>\n",
              "    </tr>\n",
              "    <tr>\n",
              "      <th>sec_app_fico_range_high</th>\n",
              "      <td>NaN</td>\n",
              "      <td>NaN</td>\n",
              "      <td>NaN</td>\n",
              "      <td>NaN</td>\n",
              "      <td>NaN</td>\n",
              "    </tr>\n",
              "    <tr>\n",
              "      <th>sec_app_earliest_cr_line</th>\n",
              "      <td>NaN</td>\n",
              "      <td>NaN</td>\n",
              "      <td>NaN</td>\n",
              "      <td>NaN</td>\n",
              "      <td>NaN</td>\n",
              "    </tr>\n",
              "    <tr>\n",
              "      <th>sec_app_inq_last_6mths</th>\n",
              "      <td>NaN</td>\n",
              "      <td>NaN</td>\n",
              "      <td>NaN</td>\n",
              "      <td>NaN</td>\n",
              "      <td>NaN</td>\n",
              "    </tr>\n",
              "    <tr>\n",
              "      <th>sec_app_mort_acc</th>\n",
              "      <td>NaN</td>\n",
              "      <td>NaN</td>\n",
              "      <td>NaN</td>\n",
              "      <td>NaN</td>\n",
              "      <td>NaN</td>\n",
              "    </tr>\n",
              "    <tr>\n",
              "      <th>sec_app_open_acc</th>\n",
              "      <td>NaN</td>\n",
              "      <td>NaN</td>\n",
              "      <td>NaN</td>\n",
              "      <td>NaN</td>\n",
              "      <td>NaN</td>\n",
              "    </tr>\n",
              "    <tr>\n",
              "      <th>sec_app_revol_util</th>\n",
              "      <td>NaN</td>\n",
              "      <td>NaN</td>\n",
              "      <td>NaN</td>\n",
              "      <td>NaN</td>\n",
              "      <td>NaN</td>\n",
              "    </tr>\n",
              "    <tr>\n",
              "      <th>sec_app_open_act_il</th>\n",
              "      <td>NaN</td>\n",
              "      <td>NaN</td>\n",
              "      <td>NaN</td>\n",
              "      <td>NaN</td>\n",
              "      <td>NaN</td>\n",
              "    </tr>\n",
              "    <tr>\n",
              "      <th>sec_app_num_rev_accts</th>\n",
              "      <td>NaN</td>\n",
              "      <td>NaN</td>\n",
              "      <td>NaN</td>\n",
              "      <td>NaN</td>\n",
              "      <td>NaN</td>\n",
              "    </tr>\n",
              "    <tr>\n",
              "      <th>sec_app_chargeoff_within_12_mths</th>\n",
              "      <td>NaN</td>\n",
              "      <td>NaN</td>\n",
              "      <td>NaN</td>\n",
              "      <td>NaN</td>\n",
              "      <td>NaN</td>\n",
              "    </tr>\n",
              "    <tr>\n",
              "      <th>sec_app_collections_12_mths_ex_med</th>\n",
              "      <td>NaN</td>\n",
              "      <td>NaN</td>\n",
              "      <td>NaN</td>\n",
              "      <td>NaN</td>\n",
              "      <td>NaN</td>\n",
              "    </tr>\n",
              "    <tr>\n",
              "      <th>sec_app_mths_since_last_major_derog</th>\n",
              "      <td>NaN</td>\n",
              "      <td>NaN</td>\n",
              "      <td>NaN</td>\n",
              "      <td>NaN</td>\n",
              "      <td>NaN</td>\n",
              "    </tr>\n",
              "    <tr>\n",
              "      <th>hardship_flag</th>\n",
              "      <td>N</td>\n",
              "      <td>N</td>\n",
              "      <td>N</td>\n",
              "      <td>N</td>\n",
              "      <td>N</td>\n",
              "    </tr>\n",
              "    <tr>\n",
              "      <th>hardship_type</th>\n",
              "      <td>NaN</td>\n",
              "      <td>NaN</td>\n",
              "      <td>NaN</td>\n",
              "      <td>NaN</td>\n",
              "      <td>NaN</td>\n",
              "    </tr>\n",
              "    <tr>\n",
              "      <th>hardship_reason</th>\n",
              "      <td>NaN</td>\n",
              "      <td>NaN</td>\n",
              "      <td>NaN</td>\n",
              "      <td>NaN</td>\n",
              "      <td>NaN</td>\n",
              "    </tr>\n",
              "    <tr>\n",
              "      <th>hardship_status</th>\n",
              "      <td>NaN</td>\n",
              "      <td>NaN</td>\n",
              "      <td>NaN</td>\n",
              "      <td>NaN</td>\n",
              "      <td>NaN</td>\n",
              "    </tr>\n",
              "    <tr>\n",
              "      <th>deferral_term</th>\n",
              "      <td>NaN</td>\n",
              "      <td>NaN</td>\n",
              "      <td>NaN</td>\n",
              "      <td>NaN</td>\n",
              "      <td>NaN</td>\n",
              "    </tr>\n",
              "    <tr>\n",
              "      <th>hardship_amount</th>\n",
              "      <td>NaN</td>\n",
              "      <td>NaN</td>\n",
              "      <td>NaN</td>\n",
              "      <td>NaN</td>\n",
              "      <td>NaN</td>\n",
              "    </tr>\n",
              "    <tr>\n",
              "      <th>hardship_start_date</th>\n",
              "      <td>NaN</td>\n",
              "      <td>NaN</td>\n",
              "      <td>NaN</td>\n",
              "      <td>NaN</td>\n",
              "      <td>NaN</td>\n",
              "    </tr>\n",
              "    <tr>\n",
              "      <th>hardship_end_date</th>\n",
              "      <td>NaN</td>\n",
              "      <td>NaN</td>\n",
              "      <td>NaN</td>\n",
              "      <td>NaN</td>\n",
              "      <td>NaN</td>\n",
              "    </tr>\n",
              "    <tr>\n",
              "      <th>payment_plan_start_date</th>\n",
              "      <td>NaN</td>\n",
              "      <td>NaN</td>\n",
              "      <td>NaN</td>\n",
              "      <td>NaN</td>\n",
              "      <td>NaN</td>\n",
              "    </tr>\n",
              "    <tr>\n",
              "      <th>hardship_length</th>\n",
              "      <td>NaN</td>\n",
              "      <td>NaN</td>\n",
              "      <td>NaN</td>\n",
              "      <td>NaN</td>\n",
              "      <td>NaN</td>\n",
              "    </tr>\n",
              "    <tr>\n",
              "      <th>hardship_dpd</th>\n",
              "      <td>NaN</td>\n",
              "      <td>NaN</td>\n",
              "      <td>NaN</td>\n",
              "      <td>NaN</td>\n",
              "      <td>NaN</td>\n",
              "    </tr>\n",
              "    <tr>\n",
              "      <th>hardship_loan_status</th>\n",
              "      <td>NaN</td>\n",
              "      <td>NaN</td>\n",
              "      <td>NaN</td>\n",
              "      <td>NaN</td>\n",
              "      <td>NaN</td>\n",
              "    </tr>\n",
              "    <tr>\n",
              "      <th>orig_projected_additional_accrued_interest</th>\n",
              "      <td>NaN</td>\n",
              "      <td>NaN</td>\n",
              "      <td>NaN</td>\n",
              "      <td>NaN</td>\n",
              "      <td>NaN</td>\n",
              "    </tr>\n",
              "    <tr>\n",
              "      <th>hardship_payoff_balance_amount</th>\n",
              "      <td>NaN</td>\n",
              "      <td>NaN</td>\n",
              "      <td>NaN</td>\n",
              "      <td>NaN</td>\n",
              "      <td>NaN</td>\n",
              "    </tr>\n",
              "    <tr>\n",
              "      <th>hardship_last_payment_amount</th>\n",
              "      <td>NaN</td>\n",
              "      <td>NaN</td>\n",
              "      <td>NaN</td>\n",
              "      <td>NaN</td>\n",
              "      <td>NaN</td>\n",
              "    </tr>\n",
              "    <tr>\n",
              "      <th>disbursement_method</th>\n",
              "      <td>Cash</td>\n",
              "      <td>Cash</td>\n",
              "      <td>Cash</td>\n",
              "      <td>Cash</td>\n",
              "      <td>Cash</td>\n",
              "    </tr>\n",
              "    <tr>\n",
              "      <th>debt_settlement_flag</th>\n",
              "      <td>N</td>\n",
              "      <td>N</td>\n",
              "      <td>N</td>\n",
              "      <td>N</td>\n",
              "      <td>N</td>\n",
              "    </tr>\n",
              "    <tr>\n",
              "      <th>debt_settlement_flag_date</th>\n",
              "      <td>NaN</td>\n",
              "      <td>NaN</td>\n",
              "      <td>NaN</td>\n",
              "      <td>NaN</td>\n",
              "      <td>NaN</td>\n",
              "    </tr>\n",
              "    <tr>\n",
              "      <th>settlement_status</th>\n",
              "      <td>NaN</td>\n",
              "      <td>NaN</td>\n",
              "      <td>NaN</td>\n",
              "      <td>NaN</td>\n",
              "      <td>NaN</td>\n",
              "    </tr>\n",
              "    <tr>\n",
              "      <th>settlement_date</th>\n",
              "      <td>NaN</td>\n",
              "      <td>NaN</td>\n",
              "      <td>NaN</td>\n",
              "      <td>NaN</td>\n",
              "      <td>NaN</td>\n",
              "    </tr>\n",
              "    <tr>\n",
              "      <th>settlement_amount</th>\n",
              "      <td>NaN</td>\n",
              "      <td>NaN</td>\n",
              "      <td>NaN</td>\n",
              "      <td>NaN</td>\n",
              "      <td>NaN</td>\n",
              "    </tr>\n",
              "    <tr>\n",
              "      <th>settlement_percentage</th>\n",
              "      <td>NaN</td>\n",
              "      <td>NaN</td>\n",
              "      <td>NaN</td>\n",
              "      <td>NaN</td>\n",
              "      <td>NaN</td>\n",
              "    </tr>\n",
              "    <tr>\n",
              "      <th>settlement_term</th>\n",
              "      <td>NaN</td>\n",
              "      <td>NaN</td>\n",
              "      <td>NaN</td>\n",
              "      <td>NaN</td>\n",
              "      <td>NaN</td>\n",
              "    </tr>\n",
              "  </tbody>\n",
              "</table>\n",
              "</div>"
            ],
            "text/plain": [
              "                                                                                            0  ...                                                  4\n",
              "id                                                                                   68407277  ...                                           68476807\n",
              "member_id                                                                                 NaN  ...                                                NaN\n",
              "loan_amnt                                                                                3600  ...                                              10400\n",
              "funded_amnt                                                                              3600  ...                                              10400\n",
              "funded_amnt_inv                                                                          3600  ...                                              10400\n",
              "term                                                                                36 months  ...                                          60 months\n",
              "int_rate                                                                                13.99  ...                                              22.45\n",
              "installment                                                                            123.03  ...                                             289.91\n",
              "grade                                                                                       C  ...                                                  F\n",
              "sub_grade                                                                                  C4  ...                                                 F1\n",
              "emp_title                                                                             leadman  ...                                Contract Specialist\n",
              "emp_length                                                                          10+ years  ...                                            3 years\n",
              "home_ownership                                                                       MORTGAGE  ...                                           MORTGAGE\n",
              "annual_inc                                                                              55000  ...                                             104433\n",
              "verification_status                                                              Not Verified  ...                                    Source Verified\n",
              "issue_d                                                                              Dec-2015  ...                                           Dec-2015\n",
              "loan_status                                                                        Fully Paid  ...                                         Fully Paid\n",
              "pymnt_plan                                                                                  n  ...                                                  n\n",
              "url                                         https://lendingclub.com/browse/loanDetail.acti...  ...  https://lendingclub.com/browse/loanDetail.acti...\n",
              "desc                                                                                      NaN  ...                                                NaN\n",
              "purpose                                                                    debt_consolidation  ...                                     major_purchase\n",
              "title                                                                      Debt consolidation  ...                                     Major purchase\n",
              "zip_code                                                                                190xx  ...                                              174xx\n",
              "addr_state                                                                                 PA  ...                                                 PA\n",
              "dti                                                                                      5.91  ...                                              25.37\n",
              "delinq_2yrs                                                                                 0  ...                                                  1\n",
              "earliest_cr_line                                                                     Aug-2003  ...                                           Jun-1998\n",
              "fico_range_low                                                                            675  ...                                                695\n",
              "fico_range_high                                                                           679  ...                                                699\n",
              "inq_last_6mths                                                                              1  ...                                                  3\n",
              "mths_since_last_delinq                                                                     30  ...                                                 12\n",
              "mths_since_last_record                                                                    NaN  ...                                                NaN\n",
              "open_acc                                                                                    7  ...                                                 12\n",
              "pub_rec                                                                                     0  ...                                                  0\n",
              "revol_bal                                                                                2765  ...                                              21929\n",
              "revol_util                                                                               29.7  ...                                               64.5\n",
              "total_acc                                                                                  13  ...                                                 35\n",
              "initial_list_status                                                                         w  ...                                                  w\n",
              "out_prncp                                                                                   0  ...                                                  0\n",
              "out_prncp_inv                                                                               0  ...                                                  0\n",
              "total_pymnt                                                                           4421.72  ...                                            11740.5\n",
              "total_pymnt_inv                                                                       4421.72  ...                                            11740.5\n",
              "total_rec_prncp                                                                          3600  ...                                              10400\n",
              "total_rec_int                                                                          821.72  ...                                             1340.5\n",
              "total_rec_late_fee                                                                          0  ...                                                  0\n",
              "recoveries                                                                                  0  ...                                                  0\n",
              "collection_recovery_fee                                                                     0  ...                                                  0\n",
              "last_pymnt_d                                                                         Jan-2019  ...                                           Jul-2016\n",
              "last_pymnt_amnt                                                                        122.67  ...                                              10129\n",
              "next_pymnt_d                                                                              NaN  ...                                                NaN\n",
              "last_credit_pull_d                                                                   Mar-2019  ...                                           Mar-2018\n",
              "last_fico_range_high                                                                      564  ...                                                704\n",
              "last_fico_range_low                                                                       560  ...                                                700\n",
              "collections_12_mths_ex_med                                                                  0  ...                                                  0\n",
              "mths_since_last_major_derog                                                                30  ...                                                NaN\n",
              "policy_code                                                                                 1  ...                                                  1\n",
              "application_type                                                                   Individual  ...                                         Individual\n",
              "annual_inc_joint                                                                          NaN  ...                                                NaN\n",
              "dti_joint                                                                                 NaN  ...                                                NaN\n",
              "verification_status_joint                                                                 NaN  ...                                                NaN\n",
              "acc_now_delinq                                                                              0  ...                                                  0\n",
              "tot_coll_amt                                                                              722  ...                                                  0\n",
              "tot_cur_bal                                                                            144904  ...                                             331730\n",
              "open_acc_6m                                                                                 2  ...                                                  1\n",
              "open_act_il                                                                                 2  ...                                                  3\n",
              "open_il_12m                                                                                 0  ...                                                  0\n",
              "open_il_24m                                                                                 1  ...                                                  3\n",
              "mths_since_rcnt_il                                                                         21  ...                                                 14\n",
              "total_bal_il                                                                             4981  ...                                              73839\n",
              "il_util                                                                                    36  ...                                                 84\n",
              "open_rv_12m                                                                                 3  ...                                                  4\n",
              "open_rv_24m                                                                                 3  ...                                                  7\n",
              "max_bal_bc                                                                                722  ...                                               9702\n",
              "all_util                                                                                   34  ...                                                 78\n",
              "total_rev_hi_lim                                                                         9300  ...                                              34000\n",
              "inq_fi                                                                                      3  ...                                                  2\n",
              "total_cu_tl                                                                                 1  ...                                                  1\n",
              "inq_last_12m                                                                                4  ...                                                  3\n",
              "acc_open_past_24mths                                                                        4  ...                                                 10\n",
              "avg_cur_bal                                                                             20701  ...                                              27644\n",
              "bc_open_to_buy                                                                           1506  ...                                               4567\n",
              "bc_util                                                                                  37.2  ...                                               77.5\n",
              "chargeoff_within_12_mths                                                                    0  ...                                                  0\n",
              "delinq_amnt                                                                                 0  ...                                                  0\n",
              "mo_sin_old_il_acct                                                                        148  ...                                                128\n",
              "mo_sin_old_rev_tl_op                                                                      128  ...                                                210\n",
              "mo_sin_rcnt_rev_tl_op                                                                       3  ...                                                  4\n",
              "mo_sin_rcnt_tl                                                                              3  ...                                                  4\n",
              "mort_acc                                                                                    1  ...                                                  6\n",
              "mths_since_recent_bc                                                                        4  ...                                                  4\n",
              "mths_since_recent_bc_dlq                                                                   69  ...                                                 12\n",
              "mths_since_recent_inq                                                                       4  ...                                                  1\n",
              "mths_since_recent_revol_delinq                                                             69  ...                                                 12\n",
              "num_accts_ever_120_pd                                                                       2  ...                                                  0\n",
              "num_actv_bc_tl                                                                              2  ...                                                  4\n",
              "num_actv_rev_tl                                                                             4  ...                                                  6\n",
              "num_bc_sats                                                                                 2  ...                                                  5\n",
              "num_bc_tl                                                                                   5  ...                                                  9\n",
              "num_il_tl                                                                                   3  ...                                                 10\n",
              "num_op_rev_tl                                                                               4  ...                                                  7\n",
              "num_rev_accts                                                                               9  ...                                                 19\n",
              "num_rev_tl_bal_gt_0                                                                         4  ...                                                  6\n",
              "num_sats                                                                                    7  ...                                                 12\n",
              "num_tl_120dpd_2m                                                                            0  ...                                                  0\n",
              "num_tl_30dpd                                                                                0  ...                                                  0\n",
              "num_tl_90g_dpd_24m                                                                          0  ...                                                  0\n",
              "num_tl_op_past_12m                                                                          3  ...                                                  4\n",
              "pct_tl_nvr_dlq                                                                           76.9  ...                                               96.6\n",
              "percent_bc_gt_75                                                                            0  ...                                                 60\n",
              "pub_rec_bankruptcies                                                                        0  ...                                                  0\n",
              "tax_liens                                                                                   0  ...                                                  0\n",
              "tot_hi_cred_lim                                                                        178050  ...                                             439570\n",
              "total_bal_ex_mort                                                                        7746  ...                                              95768\n",
              "total_bc_limit                                                                           2400  ...                                              20300\n",
              "total_il_high_credit_limit                                                              13734  ...                                              88097\n",
              "revol_bal_joint                                                                           NaN  ...                                                NaN\n",
              "sec_app_fico_range_low                                                                    NaN  ...                                                NaN\n",
              "sec_app_fico_range_high                                                                   NaN  ...                                                NaN\n",
              "sec_app_earliest_cr_line                                                                  NaN  ...                                                NaN\n",
              "sec_app_inq_last_6mths                                                                    NaN  ...                                                NaN\n",
              "sec_app_mort_acc                                                                          NaN  ...                                                NaN\n",
              "sec_app_open_acc                                                                          NaN  ...                                                NaN\n",
              "sec_app_revol_util                                                                        NaN  ...                                                NaN\n",
              "sec_app_open_act_il                                                                       NaN  ...                                                NaN\n",
              "sec_app_num_rev_accts                                                                     NaN  ...                                                NaN\n",
              "sec_app_chargeoff_within_12_mths                                                          NaN  ...                                                NaN\n",
              "sec_app_collections_12_mths_ex_med                                                        NaN  ...                                                NaN\n",
              "sec_app_mths_since_last_major_derog                                                       NaN  ...                                                NaN\n",
              "hardship_flag                                                                               N  ...                                                  N\n",
              "hardship_type                                                                             NaN  ...                                                NaN\n",
              "hardship_reason                                                                           NaN  ...                                                NaN\n",
              "hardship_status                                                                           NaN  ...                                                NaN\n",
              "deferral_term                                                                             NaN  ...                                                NaN\n",
              "hardship_amount                                                                           NaN  ...                                                NaN\n",
              "hardship_start_date                                                                       NaN  ...                                                NaN\n",
              "hardship_end_date                                                                         NaN  ...                                                NaN\n",
              "payment_plan_start_date                                                                   NaN  ...                                                NaN\n",
              "hardship_length                                                                           NaN  ...                                                NaN\n",
              "hardship_dpd                                                                              NaN  ...                                                NaN\n",
              "hardship_loan_status                                                                      NaN  ...                                                NaN\n",
              "orig_projected_additional_accrued_interest                                                NaN  ...                                                NaN\n",
              "hardship_payoff_balance_amount                                                            NaN  ...                                                NaN\n",
              "hardship_last_payment_amount                                                              NaN  ...                                                NaN\n",
              "disbursement_method                                                                      Cash  ...                                               Cash\n",
              "debt_settlement_flag                                                                        N  ...                                                  N\n",
              "debt_settlement_flag_date                                                                 NaN  ...                                                NaN\n",
              "settlement_status                                                                         NaN  ...                                                NaN\n",
              "settlement_date                                                                           NaN  ...                                                NaN\n",
              "settlement_amount                                                                         NaN  ...                                                NaN\n",
              "settlement_percentage                                                                     NaN  ...                                                NaN\n",
              "settlement_term                                                                           NaN  ...                                                NaN\n",
              "\n",
              "[151 rows x 5 columns]"
            ]
          },
          "metadata": {
            "tags": []
          },
          "execution_count": 5
        }
      ]
    },
    {
      "cell_type": "code",
      "metadata": {
        "id": "15_L5Lxyv74Y",
        "colab": {
          "base_uri": "https://localhost:8080/",
          "height": 487
        },
        "outputId": "14e003eb-0215-4b0c-87f8-6f7d475b75c7"
      },
      "source": [
        "# Viewing the last 5 rows of the dataset of accepted\n",
        "df.tail()"
      ],
      "execution_count": null,
      "outputs": [
        {
          "output_type": "execute_result",
          "data": {
            "text/html": [
              "<div>\n",
              "<style scoped>\n",
              "    .dataframe tbody tr th:only-of-type {\n",
              "        vertical-align: middle;\n",
              "    }\n",
              "\n",
              "    .dataframe tbody tr th {\n",
              "        vertical-align: top;\n",
              "    }\n",
              "\n",
              "    .dataframe thead th {\n",
              "        text-align: right;\n",
              "    }\n",
              "</style>\n",
              "<table border=\"1\" class=\"dataframe\">\n",
              "  <thead>\n",
              "    <tr style=\"text-align: right;\">\n",
              "      <th></th>\n",
              "      <th>id</th>\n",
              "      <th>member_id</th>\n",
              "      <th>loan_amnt</th>\n",
              "      <th>funded_amnt</th>\n",
              "      <th>funded_amnt_inv</th>\n",
              "      <th>term</th>\n",
              "      <th>int_rate</th>\n",
              "      <th>installment</th>\n",
              "      <th>grade</th>\n",
              "      <th>sub_grade</th>\n",
              "      <th>emp_title</th>\n",
              "      <th>emp_length</th>\n",
              "      <th>home_ownership</th>\n",
              "      <th>annual_inc</th>\n",
              "      <th>verification_status</th>\n",
              "      <th>issue_d</th>\n",
              "      <th>loan_status</th>\n",
              "      <th>pymnt_plan</th>\n",
              "      <th>url</th>\n",
              "      <th>desc</th>\n",
              "      <th>purpose</th>\n",
              "      <th>title</th>\n",
              "      <th>zip_code</th>\n",
              "      <th>addr_state</th>\n",
              "      <th>dti</th>\n",
              "      <th>delinq_2yrs</th>\n",
              "      <th>earliest_cr_line</th>\n",
              "      <th>fico_range_low</th>\n",
              "      <th>fico_range_high</th>\n",
              "      <th>inq_last_6mths</th>\n",
              "      <th>mths_since_last_delinq</th>\n",
              "      <th>mths_since_last_record</th>\n",
              "      <th>open_acc</th>\n",
              "      <th>pub_rec</th>\n",
              "      <th>revol_bal</th>\n",
              "      <th>revol_util</th>\n",
              "      <th>total_acc</th>\n",
              "      <th>initial_list_status</th>\n",
              "      <th>out_prncp</th>\n",
              "      <th>out_prncp_inv</th>\n",
              "      <th>...</th>\n",
              "      <th>tot_hi_cred_lim</th>\n",
              "      <th>total_bal_ex_mort</th>\n",
              "      <th>total_bc_limit</th>\n",
              "      <th>total_il_high_credit_limit</th>\n",
              "      <th>revol_bal_joint</th>\n",
              "      <th>sec_app_fico_range_low</th>\n",
              "      <th>sec_app_fico_range_high</th>\n",
              "      <th>sec_app_earliest_cr_line</th>\n",
              "      <th>sec_app_inq_last_6mths</th>\n",
              "      <th>sec_app_mort_acc</th>\n",
              "      <th>sec_app_open_acc</th>\n",
              "      <th>sec_app_revol_util</th>\n",
              "      <th>sec_app_open_act_il</th>\n",
              "      <th>sec_app_num_rev_accts</th>\n",
              "      <th>sec_app_chargeoff_within_12_mths</th>\n",
              "      <th>sec_app_collections_12_mths_ex_med</th>\n",
              "      <th>sec_app_mths_since_last_major_derog</th>\n",
              "      <th>hardship_flag</th>\n",
              "      <th>hardship_type</th>\n",
              "      <th>hardship_reason</th>\n",
              "      <th>hardship_status</th>\n",
              "      <th>deferral_term</th>\n",
              "      <th>hardship_amount</th>\n",
              "      <th>hardship_start_date</th>\n",
              "      <th>hardship_end_date</th>\n",
              "      <th>payment_plan_start_date</th>\n",
              "      <th>hardship_length</th>\n",
              "      <th>hardship_dpd</th>\n",
              "      <th>hardship_loan_status</th>\n",
              "      <th>orig_projected_additional_accrued_interest</th>\n",
              "      <th>hardship_payoff_balance_amount</th>\n",
              "      <th>hardship_last_payment_amount</th>\n",
              "      <th>disbursement_method</th>\n",
              "      <th>debt_settlement_flag</th>\n",
              "      <th>debt_settlement_flag_date</th>\n",
              "      <th>settlement_status</th>\n",
              "      <th>settlement_date</th>\n",
              "      <th>settlement_amount</th>\n",
              "      <th>settlement_percentage</th>\n",
              "      <th>settlement_term</th>\n",
              "    </tr>\n",
              "  </thead>\n",
              "  <tbody>\n",
              "    <tr>\n",
              "      <th>2260696</th>\n",
              "      <td>88985880</td>\n",
              "      <td>NaN</td>\n",
              "      <td>40000.0</td>\n",
              "      <td>40000.0</td>\n",
              "      <td>40000.0</td>\n",
              "      <td>60 months</td>\n",
              "      <td>10.49</td>\n",
              "      <td>859.56</td>\n",
              "      <td>B</td>\n",
              "      <td>B3</td>\n",
              "      <td>Vice President</td>\n",
              "      <td>9 years</td>\n",
              "      <td>MORTGAGE</td>\n",
              "      <td>227000.0</td>\n",
              "      <td>Verified</td>\n",
              "      <td>Oct-2016</td>\n",
              "      <td>Current</td>\n",
              "      <td>n</td>\n",
              "      <td>https://lendingclub.com/browse/loanDetail.acti...</td>\n",
              "      <td>NaN</td>\n",
              "      <td>debt_consolidation</td>\n",
              "      <td>NaN</td>\n",
              "      <td>907xx</td>\n",
              "      <td>CA</td>\n",
              "      <td>12.75</td>\n",
              "      <td>7.0</td>\n",
              "      <td>Feb-1995</td>\n",
              "      <td>705.0</td>\n",
              "      <td>709.0</td>\n",
              "      <td>1.0</td>\n",
              "      <td>9.0</td>\n",
              "      <td>NaN</td>\n",
              "      <td>5.0</td>\n",
              "      <td>0.0</td>\n",
              "      <td>8633.0</td>\n",
              "      <td>64.9</td>\n",
              "      <td>37.0</td>\n",
              "      <td>f</td>\n",
              "      <td>23252.59</td>\n",
              "      <td>23252.59</td>\n",
              "      <td>...</td>\n",
              "      <td>55970.0</td>\n",
              "      <td>28398.0</td>\n",
              "      <td>12300.0</td>\n",
              "      <td>42670.0</td>\n",
              "      <td>NaN</td>\n",
              "      <td>NaN</td>\n",
              "      <td>NaN</td>\n",
              "      <td>NaN</td>\n",
              "      <td>NaN</td>\n",
              "      <td>NaN</td>\n",
              "      <td>NaN</td>\n",
              "      <td>NaN</td>\n",
              "      <td>NaN</td>\n",
              "      <td>NaN</td>\n",
              "      <td>NaN</td>\n",
              "      <td>NaN</td>\n",
              "      <td>NaN</td>\n",
              "      <td>N</td>\n",
              "      <td>NaN</td>\n",
              "      <td>NaN</td>\n",
              "      <td>NaN</td>\n",
              "      <td>NaN</td>\n",
              "      <td>NaN</td>\n",
              "      <td>NaN</td>\n",
              "      <td>NaN</td>\n",
              "      <td>NaN</td>\n",
              "      <td>NaN</td>\n",
              "      <td>NaN</td>\n",
              "      <td>NaN</td>\n",
              "      <td>NaN</td>\n",
              "      <td>NaN</td>\n",
              "      <td>NaN</td>\n",
              "      <td>Cash</td>\n",
              "      <td>N</td>\n",
              "      <td>NaN</td>\n",
              "      <td>NaN</td>\n",
              "      <td>NaN</td>\n",
              "      <td>NaN</td>\n",
              "      <td>NaN</td>\n",
              "      <td>NaN</td>\n",
              "    </tr>\n",
              "    <tr>\n",
              "      <th>2260697</th>\n",
              "      <td>88224441</td>\n",
              "      <td>NaN</td>\n",
              "      <td>24000.0</td>\n",
              "      <td>24000.0</td>\n",
              "      <td>24000.0</td>\n",
              "      <td>60 months</td>\n",
              "      <td>14.49</td>\n",
              "      <td>564.56</td>\n",
              "      <td>C</td>\n",
              "      <td>C4</td>\n",
              "      <td>Program Manager</td>\n",
              "      <td>6 years</td>\n",
              "      <td>RENT</td>\n",
              "      <td>110000.0</td>\n",
              "      <td>Not Verified</td>\n",
              "      <td>Oct-2016</td>\n",
              "      <td>Charged Off</td>\n",
              "      <td>n</td>\n",
              "      <td>https://lendingclub.com/browse/loanDetail.acti...</td>\n",
              "      <td>NaN</td>\n",
              "      <td>debt_consolidation</td>\n",
              "      <td>Debt consolidation</td>\n",
              "      <td>334xx</td>\n",
              "      <td>FL</td>\n",
              "      <td>18.30</td>\n",
              "      <td>0.0</td>\n",
              "      <td>Jul-1999</td>\n",
              "      <td>660.0</td>\n",
              "      <td>664.0</td>\n",
              "      <td>0.0</td>\n",
              "      <td>67.0</td>\n",
              "      <td>72.0</td>\n",
              "      <td>10.0</td>\n",
              "      <td>1.0</td>\n",
              "      <td>17641.0</td>\n",
              "      <td>68.1</td>\n",
              "      <td>31.0</td>\n",
              "      <td>f</td>\n",
              "      <td>0.00</td>\n",
              "      <td>0.00</td>\n",
              "      <td>...</td>\n",
              "      <td>84664.0</td>\n",
              "      <td>62426.0</td>\n",
              "      <td>20700.0</td>\n",
              "      <td>58764.0</td>\n",
              "      <td>NaN</td>\n",
              "      <td>NaN</td>\n",
              "      <td>NaN</td>\n",
              "      <td>NaN</td>\n",
              "      <td>NaN</td>\n",
              "      <td>NaN</td>\n",
              "      <td>NaN</td>\n",
              "      <td>NaN</td>\n",
              "      <td>NaN</td>\n",
              "      <td>NaN</td>\n",
              "      <td>NaN</td>\n",
              "      <td>NaN</td>\n",
              "      <td>NaN</td>\n",
              "      <td>N</td>\n",
              "      <td>NaN</td>\n",
              "      <td>NaN</td>\n",
              "      <td>NaN</td>\n",
              "      <td>NaN</td>\n",
              "      <td>NaN</td>\n",
              "      <td>NaN</td>\n",
              "      <td>NaN</td>\n",
              "      <td>NaN</td>\n",
              "      <td>NaN</td>\n",
              "      <td>NaN</td>\n",
              "      <td>NaN</td>\n",
              "      <td>NaN</td>\n",
              "      <td>NaN</td>\n",
              "      <td>NaN</td>\n",
              "      <td>Cash</td>\n",
              "      <td>Y</td>\n",
              "      <td>Mar-2019</td>\n",
              "      <td>ACTIVE</td>\n",
              "      <td>Mar-2019</td>\n",
              "      <td>10000.0</td>\n",
              "      <td>44.82</td>\n",
              "      <td>1.0</td>\n",
              "    </tr>\n",
              "    <tr>\n",
              "      <th>2260698</th>\n",
              "      <td>88215728</td>\n",
              "      <td>NaN</td>\n",
              "      <td>14000.0</td>\n",
              "      <td>14000.0</td>\n",
              "      <td>14000.0</td>\n",
              "      <td>60 months</td>\n",
              "      <td>14.49</td>\n",
              "      <td>329.33</td>\n",
              "      <td>C</td>\n",
              "      <td>C4</td>\n",
              "      <td>Customer Service Technician</td>\n",
              "      <td>10+ years</td>\n",
              "      <td>MORTGAGE</td>\n",
              "      <td>95000.0</td>\n",
              "      <td>Verified</td>\n",
              "      <td>Oct-2016</td>\n",
              "      <td>Current</td>\n",
              "      <td>n</td>\n",
              "      <td>https://lendingclub.com/browse/loanDetail.acti...</td>\n",
              "      <td>NaN</td>\n",
              "      <td>debt_consolidation</td>\n",
              "      <td>NaN</td>\n",
              "      <td>770xx</td>\n",
              "      <td>TX</td>\n",
              "      <td>23.36</td>\n",
              "      <td>0.0</td>\n",
              "      <td>Jun-1996</td>\n",
              "      <td>660.0</td>\n",
              "      <td>664.0</td>\n",
              "      <td>1.0</td>\n",
              "      <td>37.0</td>\n",
              "      <td>NaN</td>\n",
              "      <td>8.0</td>\n",
              "      <td>0.0</td>\n",
              "      <td>7662.0</td>\n",
              "      <td>54.0</td>\n",
              "      <td>22.0</td>\n",
              "      <td>w</td>\n",
              "      <td>8456.12</td>\n",
              "      <td>8456.12</td>\n",
              "      <td>...</td>\n",
              "      <td>163804.0</td>\n",
              "      <td>44215.0</td>\n",
              "      <td>9500.0</td>\n",
              "      <td>34169.0</td>\n",
              "      <td>NaN</td>\n",
              "      <td>NaN</td>\n",
              "      <td>NaN</td>\n",
              "      <td>NaN</td>\n",
              "      <td>NaN</td>\n",
              "      <td>NaN</td>\n",
              "      <td>NaN</td>\n",
              "      <td>NaN</td>\n",
              "      <td>NaN</td>\n",
              "      <td>NaN</td>\n",
              "      <td>NaN</td>\n",
              "      <td>NaN</td>\n",
              "      <td>NaN</td>\n",
              "      <td>N</td>\n",
              "      <td>NaN</td>\n",
              "      <td>NaN</td>\n",
              "      <td>NaN</td>\n",
              "      <td>NaN</td>\n",
              "      <td>NaN</td>\n",
              "      <td>NaN</td>\n",
              "      <td>NaN</td>\n",
              "      <td>NaN</td>\n",
              "      <td>NaN</td>\n",
              "      <td>NaN</td>\n",
              "      <td>NaN</td>\n",
              "      <td>NaN</td>\n",
              "      <td>NaN</td>\n",
              "      <td>NaN</td>\n",
              "      <td>Cash</td>\n",
              "      <td>N</td>\n",
              "      <td>NaN</td>\n",
              "      <td>NaN</td>\n",
              "      <td>NaN</td>\n",
              "      <td>NaN</td>\n",
              "      <td>NaN</td>\n",
              "      <td>NaN</td>\n",
              "    </tr>\n",
              "    <tr>\n",
              "      <th>2260699</th>\n",
              "      <td>Total amount funded in policy code 1: 1465324575</td>\n",
              "      <td>NaN</td>\n",
              "      <td>NaN</td>\n",
              "      <td>NaN</td>\n",
              "      <td>NaN</td>\n",
              "      <td>NaN</td>\n",
              "      <td>NaN</td>\n",
              "      <td>NaN</td>\n",
              "      <td>NaN</td>\n",
              "      <td>NaN</td>\n",
              "      <td>NaN</td>\n",
              "      <td>NaN</td>\n",
              "      <td>NaN</td>\n",
              "      <td>NaN</td>\n",
              "      <td>NaN</td>\n",
              "      <td>NaN</td>\n",
              "      <td>NaN</td>\n",
              "      <td>NaN</td>\n",
              "      <td>NaN</td>\n",
              "      <td>NaN</td>\n",
              "      <td>NaN</td>\n",
              "      <td>NaN</td>\n",
              "      <td>NaN</td>\n",
              "      <td>NaN</td>\n",
              "      <td>NaN</td>\n",
              "      <td>NaN</td>\n",
              "      <td>NaN</td>\n",
              "      <td>NaN</td>\n",
              "      <td>NaN</td>\n",
              "      <td>NaN</td>\n",
              "      <td>NaN</td>\n",
              "      <td>NaN</td>\n",
              "      <td>NaN</td>\n",
              "      <td>NaN</td>\n",
              "      <td>NaN</td>\n",
              "      <td>NaN</td>\n",
              "      <td>NaN</td>\n",
              "      <td>NaN</td>\n",
              "      <td>NaN</td>\n",
              "      <td>NaN</td>\n",
              "      <td>...</td>\n",
              "      <td>NaN</td>\n",
              "      <td>NaN</td>\n",
              "      <td>NaN</td>\n",
              "      <td>NaN</td>\n",
              "      <td>NaN</td>\n",
              "      <td>NaN</td>\n",
              "      <td>NaN</td>\n",
              "      <td>NaN</td>\n",
              "      <td>NaN</td>\n",
              "      <td>NaN</td>\n",
              "      <td>NaN</td>\n",
              "      <td>NaN</td>\n",
              "      <td>NaN</td>\n",
              "      <td>NaN</td>\n",
              "      <td>NaN</td>\n",
              "      <td>NaN</td>\n",
              "      <td>NaN</td>\n",
              "      <td>NaN</td>\n",
              "      <td>NaN</td>\n",
              "      <td>NaN</td>\n",
              "      <td>NaN</td>\n",
              "      <td>NaN</td>\n",
              "      <td>NaN</td>\n",
              "      <td>NaN</td>\n",
              "      <td>NaN</td>\n",
              "      <td>NaN</td>\n",
              "      <td>NaN</td>\n",
              "      <td>NaN</td>\n",
              "      <td>NaN</td>\n",
              "      <td>NaN</td>\n",
              "      <td>NaN</td>\n",
              "      <td>NaN</td>\n",
              "      <td>NaN</td>\n",
              "      <td>NaN</td>\n",
              "      <td>NaN</td>\n",
              "      <td>NaN</td>\n",
              "      <td>NaN</td>\n",
              "      <td>NaN</td>\n",
              "      <td>NaN</td>\n",
              "      <td>NaN</td>\n",
              "    </tr>\n",
              "    <tr>\n",
              "      <th>2260700</th>\n",
              "      <td>Total amount funded in policy code 2: 521953170</td>\n",
              "      <td>NaN</td>\n",
              "      <td>NaN</td>\n",
              "      <td>NaN</td>\n",
              "      <td>NaN</td>\n",
              "      <td>NaN</td>\n",
              "      <td>NaN</td>\n",
              "      <td>NaN</td>\n",
              "      <td>NaN</td>\n",
              "      <td>NaN</td>\n",
              "      <td>NaN</td>\n",
              "      <td>NaN</td>\n",
              "      <td>NaN</td>\n",
              "      <td>NaN</td>\n",
              "      <td>NaN</td>\n",
              "      <td>NaN</td>\n",
              "      <td>NaN</td>\n",
              "      <td>NaN</td>\n",
              "      <td>NaN</td>\n",
              "      <td>NaN</td>\n",
              "      <td>NaN</td>\n",
              "      <td>NaN</td>\n",
              "      <td>NaN</td>\n",
              "      <td>NaN</td>\n",
              "      <td>NaN</td>\n",
              "      <td>NaN</td>\n",
              "      <td>NaN</td>\n",
              "      <td>NaN</td>\n",
              "      <td>NaN</td>\n",
              "      <td>NaN</td>\n",
              "      <td>NaN</td>\n",
              "      <td>NaN</td>\n",
              "      <td>NaN</td>\n",
              "      <td>NaN</td>\n",
              "      <td>NaN</td>\n",
              "      <td>NaN</td>\n",
              "      <td>NaN</td>\n",
              "      <td>NaN</td>\n",
              "      <td>NaN</td>\n",
              "      <td>NaN</td>\n",
              "      <td>...</td>\n",
              "      <td>NaN</td>\n",
              "      <td>NaN</td>\n",
              "      <td>NaN</td>\n",
              "      <td>NaN</td>\n",
              "      <td>NaN</td>\n",
              "      <td>NaN</td>\n",
              "      <td>NaN</td>\n",
              "      <td>NaN</td>\n",
              "      <td>NaN</td>\n",
              "      <td>NaN</td>\n",
              "      <td>NaN</td>\n",
              "      <td>NaN</td>\n",
              "      <td>NaN</td>\n",
              "      <td>NaN</td>\n",
              "      <td>NaN</td>\n",
              "      <td>NaN</td>\n",
              "      <td>NaN</td>\n",
              "      <td>NaN</td>\n",
              "      <td>NaN</td>\n",
              "      <td>NaN</td>\n",
              "      <td>NaN</td>\n",
              "      <td>NaN</td>\n",
              "      <td>NaN</td>\n",
              "      <td>NaN</td>\n",
              "      <td>NaN</td>\n",
              "      <td>NaN</td>\n",
              "      <td>NaN</td>\n",
              "      <td>NaN</td>\n",
              "      <td>NaN</td>\n",
              "      <td>NaN</td>\n",
              "      <td>NaN</td>\n",
              "      <td>NaN</td>\n",
              "      <td>NaN</td>\n",
              "      <td>NaN</td>\n",
              "      <td>NaN</td>\n",
              "      <td>NaN</td>\n",
              "      <td>NaN</td>\n",
              "      <td>NaN</td>\n",
              "      <td>NaN</td>\n",
              "      <td>NaN</td>\n",
              "    </tr>\n",
              "  </tbody>\n",
              "</table>\n",
              "<p>5 rows × 151 columns</p>\n",
              "</div>"
            ],
            "text/plain": [
              "                                                       id  ...  settlement_term\n",
              "2260696                                          88985880  ...              NaN\n",
              "2260697                                          88224441  ...              1.0\n",
              "2260698                                          88215728  ...              NaN\n",
              "2260699  Total amount funded in policy code 1: 1465324575  ...              NaN\n",
              "2260700   Total amount funded in policy code 2: 521953170  ...              NaN\n",
              "\n",
              "[5 rows x 151 columns]"
            ]
          },
          "metadata": {
            "tags": []
          },
          "execution_count": 6
        }
      ]
    },
    {
      "cell_type": "code",
      "metadata": {
        "id": "_pGPtGcowKve",
        "colab": {
          "base_uri": "https://localhost:8080/"
        },
        "outputId": "2990f2ba-addb-45e2-ed81-2b5f156452b8"
      },
      "source": [
        "# Checking the data types of variables\n",
        "# It will also help us to find the number of non-null (not missing) data points for each column\n",
        "# because this dataframe is so large, we have to force it to show the datatypes and non-null numbers with the arguments\n",
        "df.info(verbose=True, null_counts=True)"
      ],
      "execution_count": null,
      "outputs": [
        {
          "output_type": "stream",
          "text": [
            "<class 'pandas.core.frame.DataFrame'>\n",
            "RangeIndex: 2260701 entries, 0 to 2260700\n",
            "Data columns (total 151 columns):\n",
            " #   Column                                      Non-Null Count    Dtype  \n",
            "---  ------                                      --------------    -----  \n",
            " 0   id                                          2260701 non-null  object \n",
            " 1   member_id                                   0 non-null        float64\n",
            " 2   loan_amnt                                   2260668 non-null  float64\n",
            " 3   funded_amnt                                 2260668 non-null  float64\n",
            " 4   funded_amnt_inv                             2260668 non-null  float64\n",
            " 5   term                                        2260668 non-null  object \n",
            " 6   int_rate                                    2260668 non-null  float64\n",
            " 7   installment                                 2260668 non-null  float64\n",
            " 8   grade                                       2260668 non-null  object \n",
            " 9   sub_grade                                   2260668 non-null  object \n",
            " 10  emp_title                                   2093699 non-null  object \n",
            " 11  emp_length                                  2113761 non-null  object \n",
            " 12  home_ownership                              2260668 non-null  object \n",
            " 13  annual_inc                                  2260664 non-null  float64\n",
            " 14  verification_status                         2260668 non-null  object \n",
            " 15  issue_d                                     2260668 non-null  object \n",
            " 16  loan_status                                 2260668 non-null  object \n",
            " 17  pymnt_plan                                  2260668 non-null  object \n",
            " 18  url                                         2260668 non-null  object \n",
            " 19  desc                                        126067 non-null   object \n",
            " 20  purpose                                     2260668 non-null  object \n",
            " 21  title                                       2237343 non-null  object \n",
            " 22  zip_code                                    2260667 non-null  object \n",
            " 23  addr_state                                  2260668 non-null  object \n",
            " 24  dti                                         2258957 non-null  float64\n",
            " 25  delinq_2yrs                                 2260639 non-null  float64\n",
            " 26  earliest_cr_line                            2260639 non-null  object \n",
            " 27  fico_range_low                              2260668 non-null  float64\n",
            " 28  fico_range_high                             2260668 non-null  float64\n",
            " 29  inq_last_6mths                              2260638 non-null  float64\n",
            " 30  mths_since_last_delinq                      1102166 non-null  float64\n",
            " 31  mths_since_last_record                      359156 non-null   float64\n",
            " 32  open_acc                                    2260639 non-null  float64\n",
            " 33  pub_rec                                     2260639 non-null  float64\n",
            " 34  revol_bal                                   2260668 non-null  float64\n",
            " 35  revol_util                                  2258866 non-null  float64\n",
            " 36  total_acc                                   2260639 non-null  float64\n",
            " 37  initial_list_status                         2260668 non-null  object \n",
            " 38  out_prncp                                   2260668 non-null  float64\n",
            " 39  out_prncp_inv                               2260668 non-null  float64\n",
            " 40  total_pymnt                                 2260668 non-null  float64\n",
            " 41  total_pymnt_inv                             2260668 non-null  float64\n",
            " 42  total_rec_prncp                             2260668 non-null  float64\n",
            " 43  total_rec_int                               2260668 non-null  float64\n",
            " 44  total_rec_late_fee                          2260668 non-null  float64\n",
            " 45  recoveries                                  2260668 non-null  float64\n",
            " 46  collection_recovery_fee                     2260668 non-null  float64\n",
            " 47  last_pymnt_d                                2258241 non-null  object \n",
            " 48  last_pymnt_amnt                             2260668 non-null  float64\n",
            " 49  next_pymnt_d                                915358 non-null   object \n",
            " 50  last_credit_pull_d                          2260596 non-null  object \n",
            " 51  last_fico_range_high                        2260668 non-null  float64\n",
            " 52  last_fico_range_low                         2260668 non-null  float64\n",
            " 53  collections_12_mths_ex_med                  2260523 non-null  float64\n",
            " 54  mths_since_last_major_derog                 580775 non-null   float64\n",
            " 55  policy_code                                 2260668 non-null  float64\n",
            " 56  application_type                            2260668 non-null  object \n",
            " 57  annual_inc_joint                            120710 non-null   float64\n",
            " 58  dti_joint                                   120706 non-null   float64\n",
            " 59  verification_status_joint                   115730 non-null   object \n",
            " 60  acc_now_delinq                              2260639 non-null  float64\n",
            " 61  tot_coll_amt                                2190392 non-null  float64\n",
            " 62  tot_cur_bal                                 2190392 non-null  float64\n",
            " 63  open_acc_6m                                 1394538 non-null  float64\n",
            " 64  open_act_il                                 1394539 non-null  float64\n",
            " 65  open_il_12m                                 1394539 non-null  float64\n",
            " 66  open_il_24m                                 1394539 non-null  float64\n",
            " 67  mths_since_rcnt_il                          1350744 non-null  float64\n",
            " 68  total_bal_il                                1394539 non-null  float64\n",
            " 69  il_util                                     1191818 non-null  float64\n",
            " 70  open_rv_12m                                 1394539 non-null  float64\n",
            " 71  open_rv_24m                                 1394539 non-null  float64\n",
            " 72  max_bal_bc                                  1394539 non-null  float64\n",
            " 73  all_util                                    1394320 non-null  float64\n",
            " 74  total_rev_hi_lim                            2190392 non-null  float64\n",
            " 75  inq_fi                                      1394539 non-null  float64\n",
            " 76  total_cu_tl                                 1394538 non-null  float64\n",
            " 77  inq_last_12m                                1394538 non-null  float64\n",
            " 78  acc_open_past_24mths                        2210638 non-null  float64\n",
            " 79  avg_cur_bal                                 2190322 non-null  float64\n",
            " 80  bc_open_to_buy                              2185733 non-null  float64\n",
            " 81  bc_util                                     2184597 non-null  float64\n",
            " 82  chargeoff_within_12_mths                    2260523 non-null  float64\n",
            " 83  delinq_amnt                                 2260639 non-null  float64\n",
            " 84  mo_sin_old_il_acct                          2121597 non-null  float64\n",
            " 85  mo_sin_old_rev_tl_op                        2190391 non-null  float64\n",
            " 86  mo_sin_rcnt_rev_tl_op                       2190391 non-null  float64\n",
            " 87  mo_sin_rcnt_tl                              2190392 non-null  float64\n",
            " 88  mort_acc                                    2210638 non-null  float64\n",
            " 89  mths_since_recent_bc                        2187256 non-null  float64\n",
            " 90  mths_since_recent_bc_dlq                    519701 non-null   float64\n",
            " 91  mths_since_recent_inq                       1965233 non-null  float64\n",
            " 92  mths_since_recent_revol_delinq              740359 non-null   float64\n",
            " 93  num_accts_ever_120_pd                       2190392 non-null  float64\n",
            " 94  num_actv_bc_tl                              2190392 non-null  float64\n",
            " 95  num_actv_rev_tl                             2190392 non-null  float64\n",
            " 96  num_bc_sats                                 2202078 non-null  float64\n",
            " 97  num_bc_tl                                   2190392 non-null  float64\n",
            " 98  num_il_tl                                   2190392 non-null  float64\n",
            " 99  num_op_rev_tl                               2190392 non-null  float64\n",
            " 100 num_rev_accts                               2190391 non-null  float64\n",
            " 101 num_rev_tl_bal_gt_0                         2190392 non-null  float64\n",
            " 102 num_sats                                    2202078 non-null  float64\n",
            " 103 num_tl_120dpd_2m                            2107011 non-null  float64\n",
            " 104 num_tl_30dpd                                2190392 non-null  float64\n",
            " 105 num_tl_90g_dpd_24m                          2190392 non-null  float64\n",
            " 106 num_tl_op_past_12m                          2190392 non-null  float64\n",
            " 107 pct_tl_nvr_dlq                              2190237 non-null  float64\n",
            " 108 percent_bc_gt_75                            2185289 non-null  float64\n",
            " 109 pub_rec_bankruptcies                        2259303 non-null  float64\n",
            " 110 tax_liens                                   2260563 non-null  float64\n",
            " 111 tot_hi_cred_lim                             2190392 non-null  float64\n",
            " 112 total_bal_ex_mort                           2210638 non-null  float64\n",
            " 113 total_bc_limit                              2210638 non-null  float64\n",
            " 114 total_il_high_credit_limit                  2190392 non-null  float64\n",
            " 115 revol_bal_joint                             108020 non-null   float64\n",
            " 116 sec_app_fico_range_low                      108021 non-null   float64\n",
            " 117 sec_app_fico_range_high                     108021 non-null   float64\n",
            " 118 sec_app_earliest_cr_line                    108021 non-null   object \n",
            " 119 sec_app_inq_last_6mths                      108021 non-null   float64\n",
            " 120 sec_app_mort_acc                            108021 non-null   float64\n",
            " 121 sec_app_open_acc                            108021 non-null   float64\n",
            " 122 sec_app_revol_util                          106184 non-null   float64\n",
            " 123 sec_app_open_act_il                         108021 non-null   float64\n",
            " 124 sec_app_num_rev_accts                       108021 non-null   float64\n",
            " 125 sec_app_chargeoff_within_12_mths            108021 non-null   float64\n",
            " 126 sec_app_collections_12_mths_ex_med          108021 non-null   float64\n",
            " 127 sec_app_mths_since_last_major_derog         35942 non-null    float64\n",
            " 128 hardship_flag                               2260668 non-null  object \n",
            " 129 hardship_type                               10917 non-null    object \n",
            " 130 hardship_reason                             10917 non-null    object \n",
            " 131 hardship_status                             10917 non-null    object \n",
            " 132 deferral_term                               10917 non-null    float64\n",
            " 133 hardship_amount                             10917 non-null    float64\n",
            " 134 hardship_start_date                         10917 non-null    object \n",
            " 135 hardship_end_date                           10917 non-null    object \n",
            " 136 payment_plan_start_date                     10917 non-null    object \n",
            " 137 hardship_length                             10917 non-null    float64\n",
            " 138 hardship_dpd                                10917 non-null    float64\n",
            " 139 hardship_loan_status                        10917 non-null    object \n",
            " 140 orig_projected_additional_accrued_interest  8651 non-null     float64\n",
            " 141 hardship_payoff_balance_amount              10917 non-null    float64\n",
            " 142 hardship_last_payment_amount                10917 non-null    float64\n",
            " 143 disbursement_method                         2260668 non-null  object \n",
            " 144 debt_settlement_flag                        2260668 non-null  object \n",
            " 145 debt_settlement_flag_date                   34246 non-null    object \n",
            " 146 settlement_status                           34246 non-null    object \n",
            " 147 settlement_date                             34246 non-null    object \n",
            " 148 settlement_amount                           34246 non-null    float64\n",
            " 149 settlement_percentage                       34246 non-null    float64\n",
            " 150 settlement_term                             34246 non-null    float64\n",
            "dtypes: float64(113), object(38)\n",
            "memory usage: 2.5+ GB\n"
          ],
          "name": "stdout"
        }
      ]
    },
    {
      "cell_type": "code",
      "metadata": {
        "id": "MYNMoCTPw-Ig",
        "colab": {
          "base_uri": "https://localhost:8080/",
          "height": 344
        },
        "outputId": "6384fc4e-7ae9-48c1-90b9-0a0706b01ef8"
      },
      "source": [
        "#Summary statistics\n",
        "# Which will also help us to find the outliers\n",
        "df.describe()"
      ],
      "execution_count": null,
      "outputs": [
        {
          "output_type": "execute_result",
          "data": {
            "text/html": [
              "<div>\n",
              "<style scoped>\n",
              "    .dataframe tbody tr th:only-of-type {\n",
              "        vertical-align: middle;\n",
              "    }\n",
              "\n",
              "    .dataframe tbody tr th {\n",
              "        vertical-align: top;\n",
              "    }\n",
              "\n",
              "    .dataframe thead th {\n",
              "        text-align: right;\n",
              "    }\n",
              "</style>\n",
              "<table border=\"1\" class=\"dataframe\">\n",
              "  <thead>\n",
              "    <tr style=\"text-align: right;\">\n",
              "      <th></th>\n",
              "      <th>member_id</th>\n",
              "      <th>loan_amnt</th>\n",
              "      <th>funded_amnt</th>\n",
              "      <th>funded_amnt_inv</th>\n",
              "      <th>int_rate</th>\n",
              "      <th>installment</th>\n",
              "      <th>annual_inc</th>\n",
              "      <th>dti</th>\n",
              "      <th>delinq_2yrs</th>\n",
              "      <th>fico_range_low</th>\n",
              "      <th>fico_range_high</th>\n",
              "      <th>inq_last_6mths</th>\n",
              "      <th>mths_since_last_delinq</th>\n",
              "      <th>mths_since_last_record</th>\n",
              "      <th>open_acc</th>\n",
              "      <th>pub_rec</th>\n",
              "      <th>revol_bal</th>\n",
              "      <th>revol_util</th>\n",
              "      <th>total_acc</th>\n",
              "      <th>out_prncp</th>\n",
              "      <th>out_prncp_inv</th>\n",
              "      <th>total_pymnt</th>\n",
              "      <th>total_pymnt_inv</th>\n",
              "      <th>total_rec_prncp</th>\n",
              "      <th>total_rec_int</th>\n",
              "      <th>total_rec_late_fee</th>\n",
              "      <th>recoveries</th>\n",
              "      <th>collection_recovery_fee</th>\n",
              "      <th>last_pymnt_amnt</th>\n",
              "      <th>last_fico_range_high</th>\n",
              "      <th>last_fico_range_low</th>\n",
              "      <th>collections_12_mths_ex_med</th>\n",
              "      <th>mths_since_last_major_derog</th>\n",
              "      <th>policy_code</th>\n",
              "      <th>annual_inc_joint</th>\n",
              "      <th>dti_joint</th>\n",
              "      <th>acc_now_delinq</th>\n",
              "      <th>tot_coll_amt</th>\n",
              "      <th>tot_cur_bal</th>\n",
              "      <th>open_acc_6m</th>\n",
              "      <th>...</th>\n",
              "      <th>num_bc_tl</th>\n",
              "      <th>num_il_tl</th>\n",
              "      <th>num_op_rev_tl</th>\n",
              "      <th>num_rev_accts</th>\n",
              "      <th>num_rev_tl_bal_gt_0</th>\n",
              "      <th>num_sats</th>\n",
              "      <th>num_tl_120dpd_2m</th>\n",
              "      <th>num_tl_30dpd</th>\n",
              "      <th>num_tl_90g_dpd_24m</th>\n",
              "      <th>num_tl_op_past_12m</th>\n",
              "      <th>pct_tl_nvr_dlq</th>\n",
              "      <th>percent_bc_gt_75</th>\n",
              "      <th>pub_rec_bankruptcies</th>\n",
              "      <th>tax_liens</th>\n",
              "      <th>tot_hi_cred_lim</th>\n",
              "      <th>total_bal_ex_mort</th>\n",
              "      <th>total_bc_limit</th>\n",
              "      <th>total_il_high_credit_limit</th>\n",
              "      <th>revol_bal_joint</th>\n",
              "      <th>sec_app_fico_range_low</th>\n",
              "      <th>sec_app_fico_range_high</th>\n",
              "      <th>sec_app_inq_last_6mths</th>\n",
              "      <th>sec_app_mort_acc</th>\n",
              "      <th>sec_app_open_acc</th>\n",
              "      <th>sec_app_revol_util</th>\n",
              "      <th>sec_app_open_act_il</th>\n",
              "      <th>sec_app_num_rev_accts</th>\n",
              "      <th>sec_app_chargeoff_within_12_mths</th>\n",
              "      <th>sec_app_collections_12_mths_ex_med</th>\n",
              "      <th>sec_app_mths_since_last_major_derog</th>\n",
              "      <th>deferral_term</th>\n",
              "      <th>hardship_amount</th>\n",
              "      <th>hardship_length</th>\n",
              "      <th>hardship_dpd</th>\n",
              "      <th>orig_projected_additional_accrued_interest</th>\n",
              "      <th>hardship_payoff_balance_amount</th>\n",
              "      <th>hardship_last_payment_amount</th>\n",
              "      <th>settlement_amount</th>\n",
              "      <th>settlement_percentage</th>\n",
              "      <th>settlement_term</th>\n",
              "    </tr>\n",
              "  </thead>\n",
              "  <tbody>\n",
              "    <tr>\n",
              "      <th>count</th>\n",
              "      <td>0.0</td>\n",
              "      <td>2.260668e+06</td>\n",
              "      <td>2.260668e+06</td>\n",
              "      <td>2.260668e+06</td>\n",
              "      <td>2.260668e+06</td>\n",
              "      <td>2.260668e+06</td>\n",
              "      <td>2.260664e+06</td>\n",
              "      <td>2.258957e+06</td>\n",
              "      <td>2.260639e+06</td>\n",
              "      <td>2.260668e+06</td>\n",
              "      <td>2.260668e+06</td>\n",
              "      <td>2.260638e+06</td>\n",
              "      <td>1.102166e+06</td>\n",
              "      <td>359156.000000</td>\n",
              "      <td>2.260639e+06</td>\n",
              "      <td>2.260639e+06</td>\n",
              "      <td>2.260668e+06</td>\n",
              "      <td>2.258866e+06</td>\n",
              "      <td>2.260639e+06</td>\n",
              "      <td>2.260668e+06</td>\n",
              "      <td>2.260668e+06</td>\n",
              "      <td>2.260668e+06</td>\n",
              "      <td>2.260668e+06</td>\n",
              "      <td>2.260668e+06</td>\n",
              "      <td>2.260668e+06</td>\n",
              "      <td>2.260668e+06</td>\n",
              "      <td>2.260668e+06</td>\n",
              "      <td>2.260668e+06</td>\n",
              "      <td>2.260668e+06</td>\n",
              "      <td>2.260668e+06</td>\n",
              "      <td>2.260668e+06</td>\n",
              "      <td>2.260523e+06</td>\n",
              "      <td>580775.000000</td>\n",
              "      <td>2260668.0</td>\n",
              "      <td>1.207100e+05</td>\n",
              "      <td>120706.000000</td>\n",
              "      <td>2.260639e+06</td>\n",
              "      <td>2.190392e+06</td>\n",
              "      <td>2.190392e+06</td>\n",
              "      <td>1.394538e+06</td>\n",
              "      <td>...</td>\n",
              "      <td>2.190392e+06</td>\n",
              "      <td>2.190392e+06</td>\n",
              "      <td>2.190392e+06</td>\n",
              "      <td>2.190391e+06</td>\n",
              "      <td>2.190392e+06</td>\n",
              "      <td>2.202078e+06</td>\n",
              "      <td>2.107011e+06</td>\n",
              "      <td>2.190392e+06</td>\n",
              "      <td>2.190392e+06</td>\n",
              "      <td>2.190392e+06</td>\n",
              "      <td>2.190237e+06</td>\n",
              "      <td>2.185289e+06</td>\n",
              "      <td>2.259303e+06</td>\n",
              "      <td>2.260563e+06</td>\n",
              "      <td>2.190392e+06</td>\n",
              "      <td>2.210638e+06</td>\n",
              "      <td>2.210638e+06</td>\n",
              "      <td>2.190392e+06</td>\n",
              "      <td>1.080200e+05</td>\n",
              "      <td>108021.000000</td>\n",
              "      <td>108021.000000</td>\n",
              "      <td>108021.000000</td>\n",
              "      <td>108021.000000</td>\n",
              "      <td>108021.000000</td>\n",
              "      <td>106184.000000</td>\n",
              "      <td>108021.000000</td>\n",
              "      <td>108021.000000</td>\n",
              "      <td>108021.000000</td>\n",
              "      <td>108021.000000</td>\n",
              "      <td>35942.000000</td>\n",
              "      <td>10917.0</td>\n",
              "      <td>10917.000000</td>\n",
              "      <td>10917.0</td>\n",
              "      <td>10917.000000</td>\n",
              "      <td>8651.000000</td>\n",
              "      <td>10917.000000</td>\n",
              "      <td>10917.000000</td>\n",
              "      <td>34246.000000</td>\n",
              "      <td>34246.000000</td>\n",
              "      <td>34246.000000</td>\n",
              "    </tr>\n",
              "    <tr>\n",
              "      <th>mean</th>\n",
              "      <td>NaN</td>\n",
              "      <td>1.504693e+04</td>\n",
              "      <td>1.504166e+04</td>\n",
              "      <td>1.502344e+04</td>\n",
              "      <td>1.309283e+01</td>\n",
              "      <td>4.458068e+02</td>\n",
              "      <td>7.799243e+04</td>\n",
              "      <td>1.882420e+01</td>\n",
              "      <td>3.068792e-01</td>\n",
              "      <td>6.985882e+02</td>\n",
              "      <td>7.025884e+02</td>\n",
              "      <td>5.768354e-01</td>\n",
              "      <td>3.454092e+01</td>\n",
              "      <td>72.312842</td>\n",
              "      <td>1.161240e+01</td>\n",
              "      <td>1.975278e-01</td>\n",
              "      <td>1.665846e+04</td>\n",
              "      <td>5.033770e+01</td>\n",
              "      <td>2.416255e+01</td>\n",
              "      <td>4.206891e+03</td>\n",
              "      <td>4.205965e+03</td>\n",
              "      <td>1.208256e+04</td>\n",
              "      <td>1.206439e+04</td>\n",
              "      <td>9.505772e+03</td>\n",
              "      <td>2.431388e+03</td>\n",
              "      <td>1.518453e+00</td>\n",
              "      <td>1.438791e+02</td>\n",
              "      <td>2.398257e+01</td>\n",
              "      <td>3.429346e+03</td>\n",
              "      <td>6.876610e+02</td>\n",
              "      <td>6.755397e+02</td>\n",
              "      <td>1.814580e-02</td>\n",
              "      <td>44.164220</td>\n",
              "      <td>1.0</td>\n",
              "      <td>1.236246e+05</td>\n",
              "      <td>19.251817</td>\n",
              "      <td>4.147942e-03</td>\n",
              "      <td>2.327317e+02</td>\n",
              "      <td>1.424922e+05</td>\n",
              "      <td>9.344199e-01</td>\n",
              "      <td>...</td>\n",
              "      <td>7.726402e+00</td>\n",
              "      <td>8.413439e+00</td>\n",
              "      <td>8.246523e+00</td>\n",
              "      <td>1.400463e+01</td>\n",
              "      <td>5.577951e+00</td>\n",
              "      <td>1.162813e+01</td>\n",
              "      <td>6.373958e-04</td>\n",
              "      <td>2.813652e-03</td>\n",
              "      <td>8.293767e-02</td>\n",
              "      <td>2.076755e+00</td>\n",
              "      <td>9.411458e+01</td>\n",
              "      <td>4.243513e+01</td>\n",
              "      <td>1.281935e-01</td>\n",
              "      <td>4.677109e-02</td>\n",
              "      <td>1.782428e+05</td>\n",
              "      <td>5.102294e+04</td>\n",
              "      <td>2.319377e+04</td>\n",
              "      <td>4.373201e+04</td>\n",
              "      <td>3.361728e+04</td>\n",
              "      <td>669.755603</td>\n",
              "      <td>673.755631</td>\n",
              "      <td>0.633256</td>\n",
              "      <td>1.538997</td>\n",
              "      <td>11.469455</td>\n",
              "      <td>58.169101</td>\n",
              "      <td>3.010554</td>\n",
              "      <td>12.533072</td>\n",
              "      <td>0.046352</td>\n",
              "      <td>0.077568</td>\n",
              "      <td>36.937928</td>\n",
              "      <td>3.0</td>\n",
              "      <td>155.045981</td>\n",
              "      <td>3.0</td>\n",
              "      <td>13.743886</td>\n",
              "      <td>454.798089</td>\n",
              "      <td>11636.883942</td>\n",
              "      <td>193.994321</td>\n",
              "      <td>5010.664267</td>\n",
              "      <td>47.780365</td>\n",
              "      <td>13.191322</td>\n",
              "    </tr>\n",
              "    <tr>\n",
              "      <th>std</th>\n",
              "      <td>NaN</td>\n",
              "      <td>9.190245e+03</td>\n",
              "      <td>9.188413e+03</td>\n",
              "      <td>9.192332e+03</td>\n",
              "      <td>4.832138e+00</td>\n",
              "      <td>2.671735e+02</td>\n",
              "      <td>1.126962e+05</td>\n",
              "      <td>1.418333e+01</td>\n",
              "      <td>8.672303e-01</td>\n",
              "      <td>3.301038e+01</td>\n",
              "      <td>3.301124e+01</td>\n",
              "      <td>8.859632e-01</td>\n",
              "      <td>2.190047e+01</td>\n",
              "      <td>26.464094</td>\n",
              "      <td>5.640861e+00</td>\n",
              "      <td>5.705150e-01</td>\n",
              "      <td>2.294831e+04</td>\n",
              "      <td>2.471307e+01</td>\n",
              "      <td>1.198753e+01</td>\n",
              "      <td>7.343239e+03</td>\n",
              "      <td>7.342333e+03</td>\n",
              "      <td>9.901383e+03</td>\n",
              "      <td>9.896992e+03</td>\n",
              "      <td>8.321852e+03</td>\n",
              "      <td>2.679738e+03</td>\n",
              "      <td>1.184159e+01</td>\n",
              "      <td>7.481640e+02</td>\n",
              "      <td>1.312256e+02</td>\n",
              "      <td>6.018248e+03</td>\n",
              "      <td>7.297044e+01</td>\n",
              "      <td>1.110976e+02</td>\n",
              "      <td>1.508131e-01</td>\n",
              "      <td>21.533121</td>\n",
              "      <td>0.0</td>\n",
              "      <td>7.416135e+04</td>\n",
              "      <td>7.822086</td>\n",
              "      <td>6.961656e-02</td>\n",
              "      <td>8.518462e+03</td>\n",
              "      <td>1.606926e+05</td>\n",
              "      <td>1.140700e+00</td>\n",
              "      <td>...</td>\n",
              "      <td>4.701430e+00</td>\n",
              "      <td>7.359114e+00</td>\n",
              "      <td>4.683928e+00</td>\n",
              "      <td>8.038868e+00</td>\n",
              "      <td>3.293434e+00</td>\n",
              "      <td>5.644027e+00</td>\n",
              "      <td>2.710643e-02</td>\n",
              "      <td>5.616522e-02</td>\n",
              "      <td>4.935732e-01</td>\n",
              "      <td>1.830711e+00</td>\n",
              "      <td>9.036140e+00</td>\n",
              "      <td>3.621616e+01</td>\n",
              "      <td>3.646130e-01</td>\n",
              "      <td>3.775338e-01</td>\n",
              "      <td>1.815748e+05</td>\n",
              "      <td>4.991124e+04</td>\n",
              "      <td>2.300656e+04</td>\n",
              "      <td>4.507298e+04</td>\n",
              "      <td>2.815387e+04</td>\n",
              "      <td>44.729163</td>\n",
              "      <td>44.729272</td>\n",
              "      <td>0.993401</td>\n",
              "      <td>1.760569</td>\n",
              "      <td>6.627271</td>\n",
              "      <td>25.548212</td>\n",
              "      <td>3.275893</td>\n",
              "      <td>8.150964</td>\n",
              "      <td>0.411496</td>\n",
              "      <td>0.407996</td>\n",
              "      <td>23.924584</td>\n",
              "      <td>0.0</td>\n",
              "      <td>129.040594</td>\n",
              "      <td>0.0</td>\n",
              "      <td>9.671178</td>\n",
              "      <td>375.385500</td>\n",
              "      <td>7625.988281</td>\n",
              "      <td>198.629496</td>\n",
              "      <td>3693.122590</td>\n",
              "      <td>7.311822</td>\n",
              "      <td>8.159980</td>\n",
              "    </tr>\n",
              "    <tr>\n",
              "      <th>min</th>\n",
              "      <td>NaN</td>\n",
              "      <td>5.000000e+02</td>\n",
              "      <td>5.000000e+02</td>\n",
              "      <td>0.000000e+00</td>\n",
              "      <td>5.310000e+00</td>\n",
              "      <td>4.930000e+00</td>\n",
              "      <td>0.000000e+00</td>\n",
              "      <td>-1.000000e+00</td>\n",
              "      <td>0.000000e+00</td>\n",
              "      <td>6.100000e+02</td>\n",
              "      <td>6.140000e+02</td>\n",
              "      <td>0.000000e+00</td>\n",
              "      <td>0.000000e+00</td>\n",
              "      <td>0.000000</td>\n",
              "      <td>0.000000e+00</td>\n",
              "      <td>0.000000e+00</td>\n",
              "      <td>0.000000e+00</td>\n",
              "      <td>0.000000e+00</td>\n",
              "      <td>1.000000e+00</td>\n",
              "      <td>0.000000e+00</td>\n",
              "      <td>0.000000e+00</td>\n",
              "      <td>0.000000e+00</td>\n",
              "      <td>0.000000e+00</td>\n",
              "      <td>0.000000e+00</td>\n",
              "      <td>0.000000e+00</td>\n",
              "      <td>-9.500000e-09</td>\n",
              "      <td>0.000000e+00</td>\n",
              "      <td>0.000000e+00</td>\n",
              "      <td>0.000000e+00</td>\n",
              "      <td>0.000000e+00</td>\n",
              "      <td>0.000000e+00</td>\n",
              "      <td>0.000000e+00</td>\n",
              "      <td>0.000000</td>\n",
              "      <td>1.0</td>\n",
              "      <td>5.693510e+03</td>\n",
              "      <td>0.000000</td>\n",
              "      <td>0.000000e+00</td>\n",
              "      <td>0.000000e+00</td>\n",
              "      <td>0.000000e+00</td>\n",
              "      <td>0.000000e+00</td>\n",
              "      <td>...</td>\n",
              "      <td>0.000000e+00</td>\n",
              "      <td>0.000000e+00</td>\n",
              "      <td>0.000000e+00</td>\n",
              "      <td>0.000000e+00</td>\n",
              "      <td>0.000000e+00</td>\n",
              "      <td>0.000000e+00</td>\n",
              "      <td>0.000000e+00</td>\n",
              "      <td>0.000000e+00</td>\n",
              "      <td>0.000000e+00</td>\n",
              "      <td>0.000000e+00</td>\n",
              "      <td>0.000000e+00</td>\n",
              "      <td>0.000000e+00</td>\n",
              "      <td>0.000000e+00</td>\n",
              "      <td>0.000000e+00</td>\n",
              "      <td>0.000000e+00</td>\n",
              "      <td>0.000000e+00</td>\n",
              "      <td>0.000000e+00</td>\n",
              "      <td>0.000000e+00</td>\n",
              "      <td>0.000000e+00</td>\n",
              "      <td>540.000000</td>\n",
              "      <td>544.000000</td>\n",
              "      <td>0.000000</td>\n",
              "      <td>0.000000</td>\n",
              "      <td>0.000000</td>\n",
              "      <td>0.000000</td>\n",
              "      <td>0.000000</td>\n",
              "      <td>0.000000</td>\n",
              "      <td>0.000000</td>\n",
              "      <td>0.000000</td>\n",
              "      <td>0.000000</td>\n",
              "      <td>3.0</td>\n",
              "      <td>0.640000</td>\n",
              "      <td>3.0</td>\n",
              "      <td>0.000000</td>\n",
              "      <td>1.920000</td>\n",
              "      <td>55.730000</td>\n",
              "      <td>0.010000</td>\n",
              "      <td>44.210000</td>\n",
              "      <td>0.200000</td>\n",
              "      <td>0.000000</td>\n",
              "    </tr>\n",
              "    <tr>\n",
              "      <th>25%</th>\n",
              "      <td>NaN</td>\n",
              "      <td>8.000000e+03</td>\n",
              "      <td>8.000000e+03</td>\n",
              "      <td>8.000000e+03</td>\n",
              "      <td>9.490000e+00</td>\n",
              "      <td>2.516500e+02</td>\n",
              "      <td>4.600000e+04</td>\n",
              "      <td>1.189000e+01</td>\n",
              "      <td>0.000000e+00</td>\n",
              "      <td>6.750000e+02</td>\n",
              "      <td>6.790000e+02</td>\n",
              "      <td>0.000000e+00</td>\n",
              "      <td>1.600000e+01</td>\n",
              "      <td>55.000000</td>\n",
              "      <td>8.000000e+00</td>\n",
              "      <td>0.000000e+00</td>\n",
              "      <td>5.950000e+03</td>\n",
              "      <td>3.150000e+01</td>\n",
              "      <td>1.500000e+01</td>\n",
              "      <td>0.000000e+00</td>\n",
              "      <td>0.000000e+00</td>\n",
              "      <td>4.546458e+03</td>\n",
              "      <td>4.531800e+03</td>\n",
              "      <td>3.000000e+03</td>\n",
              "      <td>7.281875e+02</td>\n",
              "      <td>0.000000e+00</td>\n",
              "      <td>0.000000e+00</td>\n",
              "      <td>0.000000e+00</td>\n",
              "      <td>3.103300e+02</td>\n",
              "      <td>6.540000e+02</td>\n",
              "      <td>6.500000e+02</td>\n",
              "      <td>0.000000e+00</td>\n",
              "      <td>27.000000</td>\n",
              "      <td>1.0</td>\n",
              "      <td>8.340000e+04</td>\n",
              "      <td>13.530000</td>\n",
              "      <td>0.000000e+00</td>\n",
              "      <td>0.000000e+00</td>\n",
              "      <td>2.909200e+04</td>\n",
              "      <td>0.000000e+00</td>\n",
              "      <td>...</td>\n",
              "      <td>4.000000e+00</td>\n",
              "      <td>3.000000e+00</td>\n",
              "      <td>5.000000e+00</td>\n",
              "      <td>8.000000e+00</td>\n",
              "      <td>3.000000e+00</td>\n",
              "      <td>8.000000e+00</td>\n",
              "      <td>0.000000e+00</td>\n",
              "      <td>0.000000e+00</td>\n",
              "      <td>0.000000e+00</td>\n",
              "      <td>1.000000e+00</td>\n",
              "      <td>9.130000e+01</td>\n",
              "      <td>0.000000e+00</td>\n",
              "      <td>0.000000e+00</td>\n",
              "      <td>0.000000e+00</td>\n",
              "      <td>5.073100e+04</td>\n",
              "      <td>2.089200e+04</td>\n",
              "      <td>8.300000e+03</td>\n",
              "      <td>1.500000e+04</td>\n",
              "      <td>1.510675e+04</td>\n",
              "      <td>645.000000</td>\n",
              "      <td>649.000000</td>\n",
              "      <td>0.000000</td>\n",
              "      <td>0.000000</td>\n",
              "      <td>7.000000</td>\n",
              "      <td>39.800000</td>\n",
              "      <td>1.000000</td>\n",
              "      <td>7.000000</td>\n",
              "      <td>0.000000</td>\n",
              "      <td>0.000000</td>\n",
              "      <td>16.000000</td>\n",
              "      <td>3.0</td>\n",
              "      <td>59.440000</td>\n",
              "      <td>3.0</td>\n",
              "      <td>5.000000</td>\n",
              "      <td>175.230000</td>\n",
              "      <td>5627.000000</td>\n",
              "      <td>44.440000</td>\n",
              "      <td>2208.000000</td>\n",
              "      <td>45.000000</td>\n",
              "      <td>6.000000</td>\n",
              "    </tr>\n",
              "    <tr>\n",
              "      <th>50%</th>\n",
              "      <td>NaN</td>\n",
              "      <td>1.290000e+04</td>\n",
              "      <td>1.287500e+04</td>\n",
              "      <td>1.280000e+04</td>\n",
              "      <td>1.262000e+01</td>\n",
              "      <td>3.779900e+02</td>\n",
              "      <td>6.500000e+04</td>\n",
              "      <td>1.784000e+01</td>\n",
              "      <td>0.000000e+00</td>\n",
              "      <td>6.900000e+02</td>\n",
              "      <td>6.940000e+02</td>\n",
              "      <td>0.000000e+00</td>\n",
              "      <td>3.100000e+01</td>\n",
              "      <td>74.000000</td>\n",
              "      <td>1.100000e+01</td>\n",
              "      <td>0.000000e+00</td>\n",
              "      <td>1.132400e+04</td>\n",
              "      <td>5.030000e+01</td>\n",
              "      <td>2.200000e+01</td>\n",
              "      <td>0.000000e+00</td>\n",
              "      <td>0.000000e+00</td>\n",
              "      <td>9.329720e+03</td>\n",
              "      <td>9.309675e+03</td>\n",
              "      <td>7.000000e+03</td>\n",
              "      <td>1.525940e+03</td>\n",
              "      <td>0.000000e+00</td>\n",
              "      <td>0.000000e+00</td>\n",
              "      <td>0.000000e+00</td>\n",
              "      <td>6.005700e+02</td>\n",
              "      <td>6.990000e+02</td>\n",
              "      <td>6.950000e+02</td>\n",
              "      <td>0.000000e+00</td>\n",
              "      <td>44.000000</td>\n",
              "      <td>1.0</td>\n",
              "      <td>1.100000e+05</td>\n",
              "      <td>18.840000</td>\n",
              "      <td>0.000000e+00</td>\n",
              "      <td>0.000000e+00</td>\n",
              "      <td>7.924000e+04</td>\n",
              "      <td>1.000000e+00</td>\n",
              "      <td>...</td>\n",
              "      <td>7.000000e+00</td>\n",
              "      <td>6.000000e+00</td>\n",
              "      <td>7.000000e+00</td>\n",
              "      <td>1.200000e+01</td>\n",
              "      <td>5.000000e+00</td>\n",
              "      <td>1.100000e+01</td>\n",
              "      <td>0.000000e+00</td>\n",
              "      <td>0.000000e+00</td>\n",
              "      <td>0.000000e+00</td>\n",
              "      <td>2.000000e+00</td>\n",
              "      <td>1.000000e+02</td>\n",
              "      <td>3.750000e+01</td>\n",
              "      <td>0.000000e+00</td>\n",
              "      <td>0.000000e+00</td>\n",
              "      <td>1.142985e+05</td>\n",
              "      <td>3.786400e+04</td>\n",
              "      <td>1.630000e+04</td>\n",
              "      <td>3.269600e+04</td>\n",
              "      <td>2.651650e+04</td>\n",
              "      <td>670.000000</td>\n",
              "      <td>674.000000</td>\n",
              "      <td>0.000000</td>\n",
              "      <td>1.000000</td>\n",
              "      <td>10.000000</td>\n",
              "      <td>60.200000</td>\n",
              "      <td>2.000000</td>\n",
              "      <td>11.000000</td>\n",
              "      <td>0.000000</td>\n",
              "      <td>0.000000</td>\n",
              "      <td>36.000000</td>\n",
              "      <td>3.0</td>\n",
              "      <td>119.140000</td>\n",
              "      <td>3.0</td>\n",
              "      <td>15.000000</td>\n",
              "      <td>352.770000</td>\n",
              "      <td>10028.390000</td>\n",
              "      <td>133.160000</td>\n",
              "      <td>4146.110000</td>\n",
              "      <td>45.000000</td>\n",
              "      <td>14.000000</td>\n",
              "    </tr>\n",
              "    <tr>\n",
              "      <th>75%</th>\n",
              "      <td>NaN</td>\n",
              "      <td>2.000000e+04</td>\n",
              "      <td>2.000000e+04</td>\n",
              "      <td>2.000000e+04</td>\n",
              "      <td>1.599000e+01</td>\n",
              "      <td>5.933200e+02</td>\n",
              "      <td>9.300000e+04</td>\n",
              "      <td>2.449000e+01</td>\n",
              "      <td>0.000000e+00</td>\n",
              "      <td>7.150000e+02</td>\n",
              "      <td>7.190000e+02</td>\n",
              "      <td>1.000000e+00</td>\n",
              "      <td>5.000000e+01</td>\n",
              "      <td>92.000000</td>\n",
              "      <td>1.400000e+01</td>\n",
              "      <td>0.000000e+00</td>\n",
              "      <td>2.024600e+04</td>\n",
              "      <td>6.940000e+01</td>\n",
              "      <td>3.100000e+01</td>\n",
              "      <td>6.149940e+03</td>\n",
              "      <td>6.146310e+03</td>\n",
              "      <td>1.694087e+04</td>\n",
              "      <td>1.691671e+04</td>\n",
              "      <td>1.389910e+04</td>\n",
              "      <td>3.108062e+03</td>\n",
              "      <td>0.000000e+00</td>\n",
              "      <td>0.000000e+00</td>\n",
              "      <td>0.000000e+00</td>\n",
              "      <td>3.743750e+03</td>\n",
              "      <td>7.340000e+02</td>\n",
              "      <td>7.300000e+02</td>\n",
              "      <td>0.000000e+00</td>\n",
              "      <td>62.000000</td>\n",
              "      <td>1.0</td>\n",
              "      <td>1.479950e+05</td>\n",
              "      <td>24.620000</td>\n",
              "      <td>0.000000e+00</td>\n",
              "      <td>0.000000e+00</td>\n",
              "      <td>2.132040e+05</td>\n",
              "      <td>1.000000e+00</td>\n",
              "      <td>...</td>\n",
              "      <td>1.000000e+01</td>\n",
              "      <td>1.100000e+01</td>\n",
              "      <td>1.000000e+01</td>\n",
              "      <td>1.800000e+01</td>\n",
              "      <td>7.000000e+00</td>\n",
              "      <td>1.400000e+01</td>\n",
              "      <td>0.000000e+00</td>\n",
              "      <td>0.000000e+00</td>\n",
              "      <td>0.000000e+00</td>\n",
              "      <td>3.000000e+00</td>\n",
              "      <td>1.000000e+02</td>\n",
              "      <td>7.140000e+01</td>\n",
              "      <td>0.000000e+00</td>\n",
              "      <td>0.000000e+00</td>\n",
              "      <td>2.577550e+05</td>\n",
              "      <td>6.435000e+04</td>\n",
              "      <td>3.030000e+04</td>\n",
              "      <td>5.880425e+04</td>\n",
              "      <td>4.376900e+04</td>\n",
              "      <td>695.000000</td>\n",
              "      <td>699.000000</td>\n",
              "      <td>1.000000</td>\n",
              "      <td>2.000000</td>\n",
              "      <td>15.000000</td>\n",
              "      <td>78.600000</td>\n",
              "      <td>4.000000</td>\n",
              "      <td>17.000000</td>\n",
              "      <td>0.000000</td>\n",
              "      <td>0.000000</td>\n",
              "      <td>56.000000</td>\n",
              "      <td>3.0</td>\n",
              "      <td>213.260000</td>\n",
              "      <td>3.0</td>\n",
              "      <td>22.000000</td>\n",
              "      <td>620.175000</td>\n",
              "      <td>16151.890000</td>\n",
              "      <td>284.190000</td>\n",
              "      <td>6850.172500</td>\n",
              "      <td>50.000000</td>\n",
              "      <td>18.000000</td>\n",
              "    </tr>\n",
              "    <tr>\n",
              "      <th>max</th>\n",
              "      <td>NaN</td>\n",
              "      <td>4.000000e+04</td>\n",
              "      <td>4.000000e+04</td>\n",
              "      <td>4.000000e+04</td>\n",
              "      <td>3.099000e+01</td>\n",
              "      <td>1.719830e+03</td>\n",
              "      <td>1.100000e+08</td>\n",
              "      <td>9.990000e+02</td>\n",
              "      <td>5.800000e+01</td>\n",
              "      <td>8.450000e+02</td>\n",
              "      <td>8.500000e+02</td>\n",
              "      <td>3.300000e+01</td>\n",
              "      <td>2.260000e+02</td>\n",
              "      <td>129.000000</td>\n",
              "      <td>1.010000e+02</td>\n",
              "      <td>8.600000e+01</td>\n",
              "      <td>2.904836e+06</td>\n",
              "      <td>8.923000e+02</td>\n",
              "      <td>1.760000e+02</td>\n",
              "      <td>4.000000e+04</td>\n",
              "      <td>4.000000e+04</td>\n",
              "      <td>6.329688e+04</td>\n",
              "      <td>6.329688e+04</td>\n",
              "      <td>4.000000e+04</td>\n",
              "      <td>2.819250e+04</td>\n",
              "      <td>1.484340e+03</td>\n",
              "      <td>3.985955e+04</td>\n",
              "      <td>7.174719e+03</td>\n",
              "      <td>4.219205e+04</td>\n",
              "      <td>8.500000e+02</td>\n",
              "      <td>8.450000e+02</td>\n",
              "      <td>2.000000e+01</td>\n",
              "      <td>226.000000</td>\n",
              "      <td>1.0</td>\n",
              "      <td>7.874821e+06</td>\n",
              "      <td>69.490000</td>\n",
              "      <td>1.400000e+01</td>\n",
              "      <td>9.152545e+06</td>\n",
              "      <td>9.971659e+06</td>\n",
              "      <td>1.800000e+01</td>\n",
              "      <td>...</td>\n",
              "      <td>8.600000e+01</td>\n",
              "      <td>1.590000e+02</td>\n",
              "      <td>9.100000e+01</td>\n",
              "      <td>1.510000e+02</td>\n",
              "      <td>6.500000e+01</td>\n",
              "      <td>1.010000e+02</td>\n",
              "      <td>7.000000e+00</td>\n",
              "      <td>4.000000e+00</td>\n",
              "      <td>5.800000e+01</td>\n",
              "      <td>3.200000e+01</td>\n",
              "      <td>1.000000e+02</td>\n",
              "      <td>1.000000e+02</td>\n",
              "      <td>1.200000e+01</td>\n",
              "      <td>8.500000e+01</td>\n",
              "      <td>9.999999e+06</td>\n",
              "      <td>3.408095e+06</td>\n",
              "      <td>1.569000e+06</td>\n",
              "      <td>2.118996e+06</td>\n",
              "      <td>1.110019e+06</td>\n",
              "      <td>845.000000</td>\n",
              "      <td>850.000000</td>\n",
              "      <td>6.000000</td>\n",
              "      <td>27.000000</td>\n",
              "      <td>82.000000</td>\n",
              "      <td>434.300000</td>\n",
              "      <td>43.000000</td>\n",
              "      <td>106.000000</td>\n",
              "      <td>21.000000</td>\n",
              "      <td>23.000000</td>\n",
              "      <td>185.000000</td>\n",
              "      <td>3.0</td>\n",
              "      <td>943.940000</td>\n",
              "      <td>3.0</td>\n",
              "      <td>37.000000</td>\n",
              "      <td>2680.890000</td>\n",
              "      <td>40306.410000</td>\n",
              "      <td>1407.860000</td>\n",
              "      <td>33601.000000</td>\n",
              "      <td>521.350000</td>\n",
              "      <td>181.000000</td>\n",
              "    </tr>\n",
              "  </tbody>\n",
              "</table>\n",
              "<p>8 rows × 113 columns</p>\n",
              "</div>"
            ],
            "text/plain": [
              "       member_id     loan_amnt  ...  settlement_percentage  settlement_term\n",
              "count        0.0  2.260668e+06  ...           34246.000000     34246.000000\n",
              "mean         NaN  1.504693e+04  ...              47.780365        13.191322\n",
              "std          NaN  9.190245e+03  ...               7.311822         8.159980\n",
              "min          NaN  5.000000e+02  ...               0.200000         0.000000\n",
              "25%          NaN  8.000000e+03  ...              45.000000         6.000000\n",
              "50%          NaN  1.290000e+04  ...              45.000000        14.000000\n",
              "75%          NaN  2.000000e+04  ...              50.000000        18.000000\n",
              "max          NaN  4.000000e+04  ...             521.350000       181.000000\n",
              "\n",
              "[8 rows x 113 columns]"
            ]
          },
          "metadata": {
            "tags": []
          },
          "execution_count": 8
        }
      ]
    },
    {
      "cell_type": "markdown",
      "metadata": {
        "id": "tXca1o26xB5L"
      },
      "source": [
        "# Creating target variable/ Data Cleaning"
      ]
    },
    {
      "cell_type": "code",
      "metadata": {
        "id": "ITzlLt5fmRj8",
        "colab": {
          "base_uri": "https://localhost:8080/"
        },
        "outputId": "e28ebe59-3fb9-467c-806b-0bb8c7cba1b1"
      },
      "source": [
        "df['loan_status'].value_counts()"
      ],
      "execution_count": null,
      "outputs": [
        {
          "output_type": "execute_result",
          "data": {
            "text/plain": [
              "Fully Paid                                             1076751\n",
              "Current                                                 878317\n",
              "Charged Off                                             268559\n",
              "Late (31-120 days)                                       21467\n",
              "In Grace Period                                           8436\n",
              "Late (16-30 days)                                         4349\n",
              "Does not meet the credit policy. Status:Fully Paid        1988\n",
              "Does not meet the credit policy. Status:Charged Off        761\n",
              "Default                                                     40\n",
              "Name: loan_status, dtype: int64"
            ]
          },
          "metadata": {
            "tags": []
          },
          "execution_count": 9
        }
      ]
    },
    {
      "cell_type": "code",
      "metadata": {
        "id": "tmYyMaKjj9c_"
      },
      "source": [
        "# Taking only important loans status:\n",
        "#.isin() is a trick for checking if something is in a list\n",
        "df = df.loc[df['loan_status'].isin(['Fully Paid','Charged Off','Late (31-120 days)','In Grace Period',                                          \n",
        "                                    'Late (16-30 days)','Does not meet the credit policy. Status:Fully Paid','Does not meet the credit policy. Status:Charged Off', 'Default',])]"
      ],
      "execution_count": null,
      "outputs": []
    },
    {
      "cell_type": "code",
      "metadata": {
        "id": "QUXqHT0EJu8K"
      },
      "source": [
        "# reseting the index\n",
        "df.reset_index(drop=True,inplace=True)"
      ],
      "execution_count": null,
      "outputs": []
    },
    {
      "cell_type": "code",
      "metadata": {
        "colab": {
          "base_uri": "https://localhost:8080/"
        },
        "id": "9Zf-hRSXe65v",
        "outputId": "c4ee4052-c5b9-4adc-ab9f-ffb6c2167124"
      },
      "source": [
        "# Combining all values except current to default column.\n",
        "df['loan_status'] = df['loan_status'].replace({'Charged Off':'Default','Late (31-120 days)':'Default','In Grace Period':'Default',                                         \n",
        "                                    'Late (16-30 days)':'Default','Does not meet the credit policy. Status:Fully Paid':'Default','Does not meet the credit policy. Status:Charged Off':'Default'})\n",
        "df['loan_status'].value_counts()"
      ],
      "execution_count": null,
      "outputs": [
        {
          "output_type": "execute_result",
          "data": {
            "text/plain": [
              "Fully Paid    1076751\n",
              "Default        305600\n",
              "Name: loan_status, dtype: int64"
            ]
          },
          "metadata": {
            "tags": []
          },
          "execution_count": 12
        }
      ]
    },
    {
      "cell_type": "code",
      "metadata": {
        "colab": {
          "base_uri": "https://localhost:8080/"
        },
        "id": "uCWHzie-gUCY",
        "outputId": "48acef77-e9f9-4a6d-bc3d-356ad9b19cb5"
      },
      "source": [
        "# Loan status has too many unique values so instead we are creating a new var taking the default as 1 and rest 0.\n",
        "target = [1 if i=='Default' else 0 for i in df['loan_status']]\n",
        "df['target'] = target\n",
        "df['target'].value_counts()"
      ],
      "execution_count": null,
      "outputs": [
        {
          "output_type": "execute_result",
          "data": {
            "text/plain": [
              "0    1076751\n",
              "1     305600\n",
              "Name: target, dtype: int64"
            ]
          },
          "metadata": {
            "tags": []
          },
          "execution_count": 13
        }
      ]
    },
    {
      "cell_type": "markdown",
      "metadata": {
        "id": "zW-qMiMg1Qiv"
      },
      "source": [
        "***our target feature is not balanced***"
      ]
    },
    {
      "cell_type": "markdown",
      "metadata": {
        "id": "Ob7mBReE5_I_"
      },
      "source": [
        "***Changing the date string to date object***"
      ]
    },
    {
      "cell_type": "code",
      "metadata": {
        "id": "YaMNHK0K5o9D"
      },
      "source": [
        "df['issue_d']= pd.to_datetime(df['issue_d'],errors='coerce')\n",
        "df['earliest_cr_line']= pd.to_datetime(df['earliest_cr_line'],errors='coerce')"
      ],
      "execution_count": null,
      "outputs": []
    },
    {
      "cell_type": "markdown",
      "metadata": {
        "id": "NygyG279gsJ6"
      },
      "source": [
        "**In order to create fico score a new variable we need to add fico score hing and low divided by 2.**"
      ]
    },
    {
      "cell_type": "code",
      "metadata": {
        "id": "67ksTTUjg0hB"
      },
      "source": [
        "# creating a new column fico_score\n",
        "df['fico_score']=round((df['fico_range_high']+df['fico_range_low'])/2,2)"
      ],
      "execution_count": null,
      "outputs": []
    },
    {
      "cell_type": "markdown",
      "metadata": {
        "id": "YMpveLNshNsH"
      },
      "source": [
        "***Creating new column total income for joint account holder.***"
      ]
    },
    {
      "cell_type": "code",
      "metadata": {
        "id": "oJxYrDJQhMlV"
      },
      "source": [
        "# creating new column total_annual_inc\n",
        "df['total_annual_inc']=df['annual_inc']+df['annual_inc_joint']"
      ],
      "execution_count": null,
      "outputs": []
    },
    {
      "cell_type": "code",
      "metadata": {
        "id": "j1V6JMFcnzhF"
      },
      "source": [
        "# creating a new column dti joint\n",
        "df['dti_jnt']=round((df['dti']+df['dti_joint'])/2,2)"
      ],
      "execution_count": null,
      "outputs": []
    },
    {
      "cell_type": "code",
      "metadata": {
        "id": "-fv1QbtQtMYi"
      },
      "source": [
        "# credit_ratio column\n",
        "df['credit_ratio']=round(df['open_acc']/df['total_acc'],3)\n",
        "\n",
        "# installment_ratio\n",
        "df['installment_ratio']=round(df['installment']/df['loan_amnt'],3)"
      ],
      "execution_count": null,
      "outputs": []
    },
    {
      "cell_type": "code",
      "metadata": {
        "colab": {
          "base_uri": "https://localhost:8080/",
          "height": 336
        },
        "id": "vas9DL9RiqM1",
        "outputId": "4d718e2e-ab32-4c08-9be6-235dc3d120c9"
      },
      "source": [
        "df.head()"
      ],
      "execution_count": null,
      "outputs": [
        {
          "output_type": "execute_result",
          "data": {
            "text/html": [
              "<div>\n",
              "<style scoped>\n",
              "    .dataframe tbody tr th:only-of-type {\n",
              "        vertical-align: middle;\n",
              "    }\n",
              "\n",
              "    .dataframe tbody tr th {\n",
              "        vertical-align: top;\n",
              "    }\n",
              "\n",
              "    .dataframe thead th {\n",
              "        text-align: right;\n",
              "    }\n",
              "</style>\n",
              "<table border=\"1\" class=\"dataframe\">\n",
              "  <thead>\n",
              "    <tr style=\"text-align: right;\">\n",
              "      <th></th>\n",
              "      <th>id</th>\n",
              "      <th>member_id</th>\n",
              "      <th>loan_amnt</th>\n",
              "      <th>funded_amnt</th>\n",
              "      <th>funded_amnt_inv</th>\n",
              "      <th>term</th>\n",
              "      <th>int_rate</th>\n",
              "      <th>installment</th>\n",
              "      <th>grade</th>\n",
              "      <th>sub_grade</th>\n",
              "      <th>emp_title</th>\n",
              "      <th>emp_length</th>\n",
              "      <th>home_ownership</th>\n",
              "      <th>annual_inc</th>\n",
              "      <th>verification_status</th>\n",
              "      <th>issue_d</th>\n",
              "      <th>loan_status</th>\n",
              "      <th>pymnt_plan</th>\n",
              "      <th>url</th>\n",
              "      <th>desc</th>\n",
              "      <th>purpose</th>\n",
              "      <th>title</th>\n",
              "      <th>zip_code</th>\n",
              "      <th>addr_state</th>\n",
              "      <th>dti</th>\n",
              "      <th>delinq_2yrs</th>\n",
              "      <th>earliest_cr_line</th>\n",
              "      <th>fico_range_low</th>\n",
              "      <th>fico_range_high</th>\n",
              "      <th>inq_last_6mths</th>\n",
              "      <th>mths_since_last_delinq</th>\n",
              "      <th>mths_since_last_record</th>\n",
              "      <th>open_acc</th>\n",
              "      <th>pub_rec</th>\n",
              "      <th>revol_bal</th>\n",
              "      <th>revol_util</th>\n",
              "      <th>total_acc</th>\n",
              "      <th>initial_list_status</th>\n",
              "      <th>out_prncp</th>\n",
              "      <th>out_prncp_inv</th>\n",
              "      <th>...</th>\n",
              "      <th>sec_app_fico_range_high</th>\n",
              "      <th>sec_app_earliest_cr_line</th>\n",
              "      <th>sec_app_inq_last_6mths</th>\n",
              "      <th>sec_app_mort_acc</th>\n",
              "      <th>sec_app_open_acc</th>\n",
              "      <th>sec_app_revol_util</th>\n",
              "      <th>sec_app_open_act_il</th>\n",
              "      <th>sec_app_num_rev_accts</th>\n",
              "      <th>sec_app_chargeoff_within_12_mths</th>\n",
              "      <th>sec_app_collections_12_mths_ex_med</th>\n",
              "      <th>sec_app_mths_since_last_major_derog</th>\n",
              "      <th>hardship_flag</th>\n",
              "      <th>hardship_type</th>\n",
              "      <th>hardship_reason</th>\n",
              "      <th>hardship_status</th>\n",
              "      <th>deferral_term</th>\n",
              "      <th>hardship_amount</th>\n",
              "      <th>hardship_start_date</th>\n",
              "      <th>hardship_end_date</th>\n",
              "      <th>payment_plan_start_date</th>\n",
              "      <th>hardship_length</th>\n",
              "      <th>hardship_dpd</th>\n",
              "      <th>hardship_loan_status</th>\n",
              "      <th>orig_projected_additional_accrued_interest</th>\n",
              "      <th>hardship_payoff_balance_amount</th>\n",
              "      <th>hardship_last_payment_amount</th>\n",
              "      <th>disbursement_method</th>\n",
              "      <th>debt_settlement_flag</th>\n",
              "      <th>debt_settlement_flag_date</th>\n",
              "      <th>settlement_status</th>\n",
              "      <th>settlement_date</th>\n",
              "      <th>settlement_amount</th>\n",
              "      <th>settlement_percentage</th>\n",
              "      <th>settlement_term</th>\n",
              "      <th>target</th>\n",
              "      <th>fico_score</th>\n",
              "      <th>total_annual_inc</th>\n",
              "      <th>dti_jnt</th>\n",
              "      <th>credit_ratio</th>\n",
              "      <th>installment_ratio</th>\n",
              "    </tr>\n",
              "  </thead>\n",
              "  <tbody>\n",
              "    <tr>\n",
              "      <th>0</th>\n",
              "      <td>68407277</td>\n",
              "      <td>NaN</td>\n",
              "      <td>3600.0</td>\n",
              "      <td>3600.0</td>\n",
              "      <td>3600.0</td>\n",
              "      <td>36 months</td>\n",
              "      <td>13.99</td>\n",
              "      <td>123.03</td>\n",
              "      <td>C</td>\n",
              "      <td>C4</td>\n",
              "      <td>leadman</td>\n",
              "      <td>10+ years</td>\n",
              "      <td>MORTGAGE</td>\n",
              "      <td>55000.0</td>\n",
              "      <td>Not Verified</td>\n",
              "      <td>2015-12-01</td>\n",
              "      <td>Fully Paid</td>\n",
              "      <td>n</td>\n",
              "      <td>https://lendingclub.com/browse/loanDetail.acti...</td>\n",
              "      <td>NaN</td>\n",
              "      <td>debt_consolidation</td>\n",
              "      <td>Debt consolidation</td>\n",
              "      <td>190xx</td>\n",
              "      <td>PA</td>\n",
              "      <td>5.91</td>\n",
              "      <td>0.0</td>\n",
              "      <td>2003-08-01</td>\n",
              "      <td>675.0</td>\n",
              "      <td>679.0</td>\n",
              "      <td>1.0</td>\n",
              "      <td>30.0</td>\n",
              "      <td>NaN</td>\n",
              "      <td>7.0</td>\n",
              "      <td>0.0</td>\n",
              "      <td>2765.0</td>\n",
              "      <td>29.7</td>\n",
              "      <td>13.0</td>\n",
              "      <td>w</td>\n",
              "      <td>0.0</td>\n",
              "      <td>0.0</td>\n",
              "      <td>...</td>\n",
              "      <td>NaN</td>\n",
              "      <td>NaN</td>\n",
              "      <td>NaN</td>\n",
              "      <td>NaN</td>\n",
              "      <td>NaN</td>\n",
              "      <td>NaN</td>\n",
              "      <td>NaN</td>\n",
              "      <td>NaN</td>\n",
              "      <td>NaN</td>\n",
              "      <td>NaN</td>\n",
              "      <td>NaN</td>\n",
              "      <td>N</td>\n",
              "      <td>NaN</td>\n",
              "      <td>NaN</td>\n",
              "      <td>NaN</td>\n",
              "      <td>NaN</td>\n",
              "      <td>NaN</td>\n",
              "      <td>NaN</td>\n",
              "      <td>NaN</td>\n",
              "      <td>NaN</td>\n",
              "      <td>NaN</td>\n",
              "      <td>NaN</td>\n",
              "      <td>NaN</td>\n",
              "      <td>NaN</td>\n",
              "      <td>NaN</td>\n",
              "      <td>NaN</td>\n",
              "      <td>Cash</td>\n",
              "      <td>N</td>\n",
              "      <td>NaN</td>\n",
              "      <td>NaN</td>\n",
              "      <td>NaN</td>\n",
              "      <td>NaN</td>\n",
              "      <td>NaN</td>\n",
              "      <td>NaN</td>\n",
              "      <td>0</td>\n",
              "      <td>677.0</td>\n",
              "      <td>NaN</td>\n",
              "      <td>NaN</td>\n",
              "      <td>0.538</td>\n",
              "      <td>0.034</td>\n",
              "    </tr>\n",
              "    <tr>\n",
              "      <th>1</th>\n",
              "      <td>68355089</td>\n",
              "      <td>NaN</td>\n",
              "      <td>24700.0</td>\n",
              "      <td>24700.0</td>\n",
              "      <td>24700.0</td>\n",
              "      <td>36 months</td>\n",
              "      <td>11.99</td>\n",
              "      <td>820.28</td>\n",
              "      <td>C</td>\n",
              "      <td>C1</td>\n",
              "      <td>Engineer</td>\n",
              "      <td>10+ years</td>\n",
              "      <td>MORTGAGE</td>\n",
              "      <td>65000.0</td>\n",
              "      <td>Not Verified</td>\n",
              "      <td>2015-12-01</td>\n",
              "      <td>Fully Paid</td>\n",
              "      <td>n</td>\n",
              "      <td>https://lendingclub.com/browse/loanDetail.acti...</td>\n",
              "      <td>NaN</td>\n",
              "      <td>small_business</td>\n",
              "      <td>Business</td>\n",
              "      <td>577xx</td>\n",
              "      <td>SD</td>\n",
              "      <td>16.06</td>\n",
              "      <td>1.0</td>\n",
              "      <td>1999-12-01</td>\n",
              "      <td>715.0</td>\n",
              "      <td>719.0</td>\n",
              "      <td>4.0</td>\n",
              "      <td>6.0</td>\n",
              "      <td>NaN</td>\n",
              "      <td>22.0</td>\n",
              "      <td>0.0</td>\n",
              "      <td>21470.0</td>\n",
              "      <td>19.2</td>\n",
              "      <td>38.0</td>\n",
              "      <td>w</td>\n",
              "      <td>0.0</td>\n",
              "      <td>0.0</td>\n",
              "      <td>...</td>\n",
              "      <td>NaN</td>\n",
              "      <td>NaN</td>\n",
              "      <td>NaN</td>\n",
              "      <td>NaN</td>\n",
              "      <td>NaN</td>\n",
              "      <td>NaN</td>\n",
              "      <td>NaN</td>\n",
              "      <td>NaN</td>\n",
              "      <td>NaN</td>\n",
              "      <td>NaN</td>\n",
              "      <td>NaN</td>\n",
              "      <td>N</td>\n",
              "      <td>NaN</td>\n",
              "      <td>NaN</td>\n",
              "      <td>NaN</td>\n",
              "      <td>NaN</td>\n",
              "      <td>NaN</td>\n",
              "      <td>NaN</td>\n",
              "      <td>NaN</td>\n",
              "      <td>NaN</td>\n",
              "      <td>NaN</td>\n",
              "      <td>NaN</td>\n",
              "      <td>NaN</td>\n",
              "      <td>NaN</td>\n",
              "      <td>NaN</td>\n",
              "      <td>NaN</td>\n",
              "      <td>Cash</td>\n",
              "      <td>N</td>\n",
              "      <td>NaN</td>\n",
              "      <td>NaN</td>\n",
              "      <td>NaN</td>\n",
              "      <td>NaN</td>\n",
              "      <td>NaN</td>\n",
              "      <td>NaN</td>\n",
              "      <td>0</td>\n",
              "      <td>717.0</td>\n",
              "      <td>NaN</td>\n",
              "      <td>NaN</td>\n",
              "      <td>0.579</td>\n",
              "      <td>0.033</td>\n",
              "    </tr>\n",
              "    <tr>\n",
              "      <th>2</th>\n",
              "      <td>68341763</td>\n",
              "      <td>NaN</td>\n",
              "      <td>20000.0</td>\n",
              "      <td>20000.0</td>\n",
              "      <td>20000.0</td>\n",
              "      <td>60 months</td>\n",
              "      <td>10.78</td>\n",
              "      <td>432.66</td>\n",
              "      <td>B</td>\n",
              "      <td>B4</td>\n",
              "      <td>truck driver</td>\n",
              "      <td>10+ years</td>\n",
              "      <td>MORTGAGE</td>\n",
              "      <td>63000.0</td>\n",
              "      <td>Not Verified</td>\n",
              "      <td>2015-12-01</td>\n",
              "      <td>Fully Paid</td>\n",
              "      <td>n</td>\n",
              "      <td>https://lendingclub.com/browse/loanDetail.acti...</td>\n",
              "      <td>NaN</td>\n",
              "      <td>home_improvement</td>\n",
              "      <td>NaN</td>\n",
              "      <td>605xx</td>\n",
              "      <td>IL</td>\n",
              "      <td>10.78</td>\n",
              "      <td>0.0</td>\n",
              "      <td>2000-08-01</td>\n",
              "      <td>695.0</td>\n",
              "      <td>699.0</td>\n",
              "      <td>0.0</td>\n",
              "      <td>NaN</td>\n",
              "      <td>NaN</td>\n",
              "      <td>6.0</td>\n",
              "      <td>0.0</td>\n",
              "      <td>7869.0</td>\n",
              "      <td>56.2</td>\n",
              "      <td>18.0</td>\n",
              "      <td>w</td>\n",
              "      <td>0.0</td>\n",
              "      <td>0.0</td>\n",
              "      <td>...</td>\n",
              "      <td>NaN</td>\n",
              "      <td>NaN</td>\n",
              "      <td>NaN</td>\n",
              "      <td>NaN</td>\n",
              "      <td>NaN</td>\n",
              "      <td>NaN</td>\n",
              "      <td>NaN</td>\n",
              "      <td>NaN</td>\n",
              "      <td>NaN</td>\n",
              "      <td>NaN</td>\n",
              "      <td>NaN</td>\n",
              "      <td>N</td>\n",
              "      <td>NaN</td>\n",
              "      <td>NaN</td>\n",
              "      <td>NaN</td>\n",
              "      <td>NaN</td>\n",
              "      <td>NaN</td>\n",
              "      <td>NaN</td>\n",
              "      <td>NaN</td>\n",
              "      <td>NaN</td>\n",
              "      <td>NaN</td>\n",
              "      <td>NaN</td>\n",
              "      <td>NaN</td>\n",
              "      <td>NaN</td>\n",
              "      <td>NaN</td>\n",
              "      <td>NaN</td>\n",
              "      <td>Cash</td>\n",
              "      <td>N</td>\n",
              "      <td>NaN</td>\n",
              "      <td>NaN</td>\n",
              "      <td>NaN</td>\n",
              "      <td>NaN</td>\n",
              "      <td>NaN</td>\n",
              "      <td>NaN</td>\n",
              "      <td>0</td>\n",
              "      <td>697.0</td>\n",
              "      <td>134000.0</td>\n",
              "      <td>12.32</td>\n",
              "      <td>0.333</td>\n",
              "      <td>0.022</td>\n",
              "    </tr>\n",
              "    <tr>\n",
              "      <th>3</th>\n",
              "      <td>68476807</td>\n",
              "      <td>NaN</td>\n",
              "      <td>10400.0</td>\n",
              "      <td>10400.0</td>\n",
              "      <td>10400.0</td>\n",
              "      <td>60 months</td>\n",
              "      <td>22.45</td>\n",
              "      <td>289.91</td>\n",
              "      <td>F</td>\n",
              "      <td>F1</td>\n",
              "      <td>Contract Specialist</td>\n",
              "      <td>3 years</td>\n",
              "      <td>MORTGAGE</td>\n",
              "      <td>104433.0</td>\n",
              "      <td>Source Verified</td>\n",
              "      <td>2015-12-01</td>\n",
              "      <td>Fully Paid</td>\n",
              "      <td>n</td>\n",
              "      <td>https://lendingclub.com/browse/loanDetail.acti...</td>\n",
              "      <td>NaN</td>\n",
              "      <td>major_purchase</td>\n",
              "      <td>Major purchase</td>\n",
              "      <td>174xx</td>\n",
              "      <td>PA</td>\n",
              "      <td>25.37</td>\n",
              "      <td>1.0</td>\n",
              "      <td>1998-06-01</td>\n",
              "      <td>695.0</td>\n",
              "      <td>699.0</td>\n",
              "      <td>3.0</td>\n",
              "      <td>12.0</td>\n",
              "      <td>NaN</td>\n",
              "      <td>12.0</td>\n",
              "      <td>0.0</td>\n",
              "      <td>21929.0</td>\n",
              "      <td>64.5</td>\n",
              "      <td>35.0</td>\n",
              "      <td>w</td>\n",
              "      <td>0.0</td>\n",
              "      <td>0.0</td>\n",
              "      <td>...</td>\n",
              "      <td>NaN</td>\n",
              "      <td>NaN</td>\n",
              "      <td>NaN</td>\n",
              "      <td>NaN</td>\n",
              "      <td>NaN</td>\n",
              "      <td>NaN</td>\n",
              "      <td>NaN</td>\n",
              "      <td>NaN</td>\n",
              "      <td>NaN</td>\n",
              "      <td>NaN</td>\n",
              "      <td>NaN</td>\n",
              "      <td>N</td>\n",
              "      <td>NaN</td>\n",
              "      <td>NaN</td>\n",
              "      <td>NaN</td>\n",
              "      <td>NaN</td>\n",
              "      <td>NaN</td>\n",
              "      <td>NaN</td>\n",
              "      <td>NaN</td>\n",
              "      <td>NaN</td>\n",
              "      <td>NaN</td>\n",
              "      <td>NaN</td>\n",
              "      <td>NaN</td>\n",
              "      <td>NaN</td>\n",
              "      <td>NaN</td>\n",
              "      <td>NaN</td>\n",
              "      <td>Cash</td>\n",
              "      <td>N</td>\n",
              "      <td>NaN</td>\n",
              "      <td>NaN</td>\n",
              "      <td>NaN</td>\n",
              "      <td>NaN</td>\n",
              "      <td>NaN</td>\n",
              "      <td>NaN</td>\n",
              "      <td>0</td>\n",
              "      <td>697.0</td>\n",
              "      <td>NaN</td>\n",
              "      <td>NaN</td>\n",
              "      <td>0.343</td>\n",
              "      <td>0.028</td>\n",
              "    </tr>\n",
              "    <tr>\n",
              "      <th>4</th>\n",
              "      <td>68426831</td>\n",
              "      <td>NaN</td>\n",
              "      <td>11950.0</td>\n",
              "      <td>11950.0</td>\n",
              "      <td>11950.0</td>\n",
              "      <td>36 months</td>\n",
              "      <td>13.44</td>\n",
              "      <td>405.18</td>\n",
              "      <td>C</td>\n",
              "      <td>C3</td>\n",
              "      <td>Veterinary Tecnician</td>\n",
              "      <td>4 years</td>\n",
              "      <td>RENT</td>\n",
              "      <td>34000.0</td>\n",
              "      <td>Source Verified</td>\n",
              "      <td>2015-12-01</td>\n",
              "      <td>Fully Paid</td>\n",
              "      <td>n</td>\n",
              "      <td>https://lendingclub.com/browse/loanDetail.acti...</td>\n",
              "      <td>NaN</td>\n",
              "      <td>debt_consolidation</td>\n",
              "      <td>Debt consolidation</td>\n",
              "      <td>300xx</td>\n",
              "      <td>GA</td>\n",
              "      <td>10.20</td>\n",
              "      <td>0.0</td>\n",
              "      <td>1987-10-01</td>\n",
              "      <td>690.0</td>\n",
              "      <td>694.0</td>\n",
              "      <td>0.0</td>\n",
              "      <td>NaN</td>\n",
              "      <td>NaN</td>\n",
              "      <td>5.0</td>\n",
              "      <td>0.0</td>\n",
              "      <td>8822.0</td>\n",
              "      <td>68.4</td>\n",
              "      <td>6.0</td>\n",
              "      <td>w</td>\n",
              "      <td>0.0</td>\n",
              "      <td>0.0</td>\n",
              "      <td>...</td>\n",
              "      <td>NaN</td>\n",
              "      <td>NaN</td>\n",
              "      <td>NaN</td>\n",
              "      <td>NaN</td>\n",
              "      <td>NaN</td>\n",
              "      <td>NaN</td>\n",
              "      <td>NaN</td>\n",
              "      <td>NaN</td>\n",
              "      <td>NaN</td>\n",
              "      <td>NaN</td>\n",
              "      <td>NaN</td>\n",
              "      <td>N</td>\n",
              "      <td>NaN</td>\n",
              "      <td>NaN</td>\n",
              "      <td>NaN</td>\n",
              "      <td>NaN</td>\n",
              "      <td>NaN</td>\n",
              "      <td>NaN</td>\n",
              "      <td>NaN</td>\n",
              "      <td>NaN</td>\n",
              "      <td>NaN</td>\n",
              "      <td>NaN</td>\n",
              "      <td>NaN</td>\n",
              "      <td>NaN</td>\n",
              "      <td>NaN</td>\n",
              "      <td>NaN</td>\n",
              "      <td>Cash</td>\n",
              "      <td>N</td>\n",
              "      <td>NaN</td>\n",
              "      <td>NaN</td>\n",
              "      <td>NaN</td>\n",
              "      <td>NaN</td>\n",
              "      <td>NaN</td>\n",
              "      <td>NaN</td>\n",
              "      <td>0</td>\n",
              "      <td>692.0</td>\n",
              "      <td>NaN</td>\n",
              "      <td>NaN</td>\n",
              "      <td>0.833</td>\n",
              "      <td>0.034</td>\n",
              "    </tr>\n",
              "  </tbody>\n",
              "</table>\n",
              "<p>5 rows × 157 columns</p>\n",
              "</div>"
            ],
            "text/plain": [
              "         id  member_id  loan_amnt  ...  dti_jnt  credit_ratio installment_ratio\n",
              "0  68407277        NaN     3600.0  ...      NaN         0.538             0.034\n",
              "1  68355089        NaN    24700.0  ...      NaN         0.579             0.033\n",
              "2  68341763        NaN    20000.0  ...    12.32         0.333             0.022\n",
              "3  68476807        NaN    10400.0  ...      NaN         0.343             0.028\n",
              "4  68426831        NaN    11950.0  ...      NaN         0.833             0.034\n",
              "\n",
              "[5 rows x 157 columns]"
            ]
          },
          "metadata": {
            "tags": []
          },
          "execution_count": 19
        }
      ]
    },
    {
      "cell_type": "markdown",
      "metadata": {
        "id": "a06T9rp2iEEt"
      },
      "source": [
        "# **Taking only those variables which is important for the modelling.**"
      ]
    },
    {
      "cell_type": "code",
      "metadata": {
        "id": "k9_fz0nYtZoo"
      },
      "source": [
        "Features_ind=['annual_inc','dti','fico_score','home_ownership','installment','int_rate','loan_amnt','earliest_cr_line','issue_d','grade','sub_grade',\n",
        "                                     'mort_acc','term','verification_status','zip_code','open_acc','total_acc','revol_util','credit_ratio','installment_ratio','target']\n",
        "\n",
        "Features_jnt=['total_annual_inc','fico_score','home_ownership','installment','int_rate','loan_amnt','earliest_cr_line','issue_d','grade','sub_grade',  \n",
        "                                     'dti_jnt','mort_acc','term','verification_status_joint','zip_code','open_acc','total_acc','revol_util','credit_ratio','installment_ratio','target']"
      ],
      "execution_count": null,
      "outputs": []
    },
    {
      "cell_type": "code",
      "metadata": {
        "colab": {
          "base_uri": "https://localhost:8080/"
        },
        "id": "WGEH7qusuxCE",
        "outputId": "8aee4501-1b19-438a-de3f-64cd7bcc59cc"
      },
      "source": [
        "df.application_type.value_counts()"
      ],
      "execution_count": null,
      "outputs": [
        {
          "output_type": "execute_result",
          "data": {
            "text/plain": [
              "Individual    1352767\n",
              "Joint App       29584\n",
              "Name: application_type, dtype: int64"
            ]
          },
          "metadata": {
            "tags": []
          },
          "execution_count": 21
        }
      ]
    },
    {
      "cell_type": "markdown",
      "metadata": {
        "id": "WHGDymldu3R9"
      },
      "source": [
        "***Separating the main dataframe to indivodual acc and Joint acc.***"
      ]
    },
    {
      "cell_type": "code",
      "metadata": {
        "colab": {
          "base_uri": "https://localhost:8080/"
        },
        "id": "1r4iF3ESuuHr",
        "outputId": "026b2f2d-8977-4e02-ff1a-7817539f6c5f"
      },
      "source": [
        "# Creating new dffor individual account type based on important features.\n",
        "\n",
        "ind_df=df[df['application_type']=='Individual']\n",
        "ind_df=ind_df[Features_ind]\n",
        "\n",
        "print('Shape of individual dataframe',ind_df.shape,end='\\n\\n')\n",
        "\n",
        "# reseting the index of individual dataframe\n",
        "\n",
        "ind_df.reset_index(drop=True,inplace=True)"
      ],
      "execution_count": null,
      "outputs": [
        {
          "output_type": "stream",
          "text": [
            "Shape of individual dataframe (1352767, 21)\n",
            "\n"
          ],
          "name": "stdout"
        }
      ]
    },
    {
      "cell_type": "code",
      "metadata": {
        "colab": {
          "base_uri": "https://localhost:8080/",
          "height": 307
        },
        "id": "6OaGHdyzvnR1",
        "outputId": "6df6b830-b2e1-421e-b7a4-6f8f223e0830"
      },
      "source": [
        "ind_df.head(5)"
      ],
      "execution_count": null,
      "outputs": [
        {
          "output_type": "execute_result",
          "data": {
            "text/html": [
              "<div>\n",
              "<style scoped>\n",
              "    .dataframe tbody tr th:only-of-type {\n",
              "        vertical-align: middle;\n",
              "    }\n",
              "\n",
              "    .dataframe tbody tr th {\n",
              "        vertical-align: top;\n",
              "    }\n",
              "\n",
              "    .dataframe thead th {\n",
              "        text-align: right;\n",
              "    }\n",
              "</style>\n",
              "<table border=\"1\" class=\"dataframe\">\n",
              "  <thead>\n",
              "    <tr style=\"text-align: right;\">\n",
              "      <th></th>\n",
              "      <th>annual_inc</th>\n",
              "      <th>dti</th>\n",
              "      <th>fico_score</th>\n",
              "      <th>home_ownership</th>\n",
              "      <th>installment</th>\n",
              "      <th>int_rate</th>\n",
              "      <th>loan_amnt</th>\n",
              "      <th>earliest_cr_line</th>\n",
              "      <th>issue_d</th>\n",
              "      <th>grade</th>\n",
              "      <th>sub_grade</th>\n",
              "      <th>mort_acc</th>\n",
              "      <th>term</th>\n",
              "      <th>verification_status</th>\n",
              "      <th>zip_code</th>\n",
              "      <th>open_acc</th>\n",
              "      <th>total_acc</th>\n",
              "      <th>revol_util</th>\n",
              "      <th>credit_ratio</th>\n",
              "      <th>installment_ratio</th>\n",
              "      <th>target</th>\n",
              "    </tr>\n",
              "  </thead>\n",
              "  <tbody>\n",
              "    <tr>\n",
              "      <th>0</th>\n",
              "      <td>55000.0</td>\n",
              "      <td>5.91</td>\n",
              "      <td>677.0</td>\n",
              "      <td>MORTGAGE</td>\n",
              "      <td>123.03</td>\n",
              "      <td>13.99</td>\n",
              "      <td>3600.0</td>\n",
              "      <td>2003-08-01</td>\n",
              "      <td>2015-12-01</td>\n",
              "      <td>C</td>\n",
              "      <td>C4</td>\n",
              "      <td>1.0</td>\n",
              "      <td>36 months</td>\n",
              "      <td>Not Verified</td>\n",
              "      <td>190xx</td>\n",
              "      <td>7.0</td>\n",
              "      <td>13.0</td>\n",
              "      <td>29.7</td>\n",
              "      <td>0.538</td>\n",
              "      <td>0.034</td>\n",
              "      <td>0</td>\n",
              "    </tr>\n",
              "    <tr>\n",
              "      <th>1</th>\n",
              "      <td>65000.0</td>\n",
              "      <td>16.06</td>\n",
              "      <td>717.0</td>\n",
              "      <td>MORTGAGE</td>\n",
              "      <td>820.28</td>\n",
              "      <td>11.99</td>\n",
              "      <td>24700.0</td>\n",
              "      <td>1999-12-01</td>\n",
              "      <td>2015-12-01</td>\n",
              "      <td>C</td>\n",
              "      <td>C1</td>\n",
              "      <td>4.0</td>\n",
              "      <td>36 months</td>\n",
              "      <td>Not Verified</td>\n",
              "      <td>577xx</td>\n",
              "      <td>22.0</td>\n",
              "      <td>38.0</td>\n",
              "      <td>19.2</td>\n",
              "      <td>0.579</td>\n",
              "      <td>0.033</td>\n",
              "      <td>0</td>\n",
              "    </tr>\n",
              "    <tr>\n",
              "      <th>2</th>\n",
              "      <td>104433.0</td>\n",
              "      <td>25.37</td>\n",
              "      <td>697.0</td>\n",
              "      <td>MORTGAGE</td>\n",
              "      <td>289.91</td>\n",
              "      <td>22.45</td>\n",
              "      <td>10400.0</td>\n",
              "      <td>1998-06-01</td>\n",
              "      <td>2015-12-01</td>\n",
              "      <td>F</td>\n",
              "      <td>F1</td>\n",
              "      <td>6.0</td>\n",
              "      <td>60 months</td>\n",
              "      <td>Source Verified</td>\n",
              "      <td>174xx</td>\n",
              "      <td>12.0</td>\n",
              "      <td>35.0</td>\n",
              "      <td>64.5</td>\n",
              "      <td>0.343</td>\n",
              "      <td>0.028</td>\n",
              "      <td>0</td>\n",
              "    </tr>\n",
              "    <tr>\n",
              "      <th>3</th>\n",
              "      <td>34000.0</td>\n",
              "      <td>10.20</td>\n",
              "      <td>692.0</td>\n",
              "      <td>RENT</td>\n",
              "      <td>405.18</td>\n",
              "      <td>13.44</td>\n",
              "      <td>11950.0</td>\n",
              "      <td>1987-10-01</td>\n",
              "      <td>2015-12-01</td>\n",
              "      <td>C</td>\n",
              "      <td>C3</td>\n",
              "      <td>0.0</td>\n",
              "      <td>36 months</td>\n",
              "      <td>Source Verified</td>\n",
              "      <td>300xx</td>\n",
              "      <td>5.0</td>\n",
              "      <td>6.0</td>\n",
              "      <td>68.4</td>\n",
              "      <td>0.833</td>\n",
              "      <td>0.034</td>\n",
              "      <td>0</td>\n",
              "    </tr>\n",
              "    <tr>\n",
              "      <th>4</th>\n",
              "      <td>180000.0</td>\n",
              "      <td>14.67</td>\n",
              "      <td>682.0</td>\n",
              "      <td>MORTGAGE</td>\n",
              "      <td>637.58</td>\n",
              "      <td>9.17</td>\n",
              "      <td>20000.0</td>\n",
              "      <td>1990-06-01</td>\n",
              "      <td>2015-12-01</td>\n",
              "      <td>B</td>\n",
              "      <td>B2</td>\n",
              "      <td>4.0</td>\n",
              "      <td>36 months</td>\n",
              "      <td>Not Verified</td>\n",
              "      <td>550xx</td>\n",
              "      <td>12.0</td>\n",
              "      <td>27.0</td>\n",
              "      <td>84.5</td>\n",
              "      <td>0.444</td>\n",
              "      <td>0.032</td>\n",
              "      <td>0</td>\n",
              "    </tr>\n",
              "  </tbody>\n",
              "</table>\n",
              "</div>"
            ],
            "text/plain": [
              "   annual_inc    dti  fico_score  ... credit_ratio  installment_ratio  target\n",
              "0     55000.0   5.91       677.0  ...        0.538              0.034       0\n",
              "1     65000.0  16.06       717.0  ...        0.579              0.033       0\n",
              "2    104433.0  25.37       697.0  ...        0.343              0.028       0\n",
              "3     34000.0  10.20       692.0  ...        0.833              0.034       0\n",
              "4    180000.0  14.67       682.0  ...        0.444              0.032       0\n",
              "\n",
              "[5 rows x 21 columns]"
            ]
          },
          "metadata": {
            "tags": []
          },
          "execution_count": 23
        }
      ]
    },
    {
      "cell_type": "code",
      "metadata": {
        "colab": {
          "base_uri": "https://localhost:8080/"
        },
        "id": "RvBilW23vuT3",
        "outputId": "7aa2e7dc-0d4e-4e56-f446-88553e2eb40d"
      },
      "source": [
        "# creating new df for joint account type based on important features.\n",
        "jnt_df=df[df['application_type']=='Joint App']\n",
        "jnt_df=jnt_df[Features_jnt]\n",
        "\n",
        "print('Shape of Joint dataframe',jnt_df.shape,end='\\n\\n')\n",
        "\n",
        "# reseting the index of joint dataframe\n",
        "\n",
        "jnt_df.reset_index(drop=True,inplace=True)"
      ],
      "execution_count": null,
      "outputs": [
        {
          "output_type": "stream",
          "text": [
            "Shape of Joint dataframe (29584, 21)\n",
            "\n"
          ],
          "name": "stdout"
        }
      ]
    },
    {
      "cell_type": "code",
      "metadata": {
        "colab": {
          "base_uri": "https://localhost:8080/",
          "height": 307
        },
        "id": "9oYf_Bljwmtm",
        "outputId": "3abaaae9-5b72-4ad6-fda1-1d415beddf87"
      },
      "source": [
        "jnt_df.head(5)"
      ],
      "execution_count": null,
      "outputs": [
        {
          "output_type": "execute_result",
          "data": {
            "text/html": [
              "<div>\n",
              "<style scoped>\n",
              "    .dataframe tbody tr th:only-of-type {\n",
              "        vertical-align: middle;\n",
              "    }\n",
              "\n",
              "    .dataframe tbody tr th {\n",
              "        vertical-align: top;\n",
              "    }\n",
              "\n",
              "    .dataframe thead th {\n",
              "        text-align: right;\n",
              "    }\n",
              "</style>\n",
              "<table border=\"1\" class=\"dataframe\">\n",
              "  <thead>\n",
              "    <tr style=\"text-align: right;\">\n",
              "      <th></th>\n",
              "      <th>total_annual_inc</th>\n",
              "      <th>fico_score</th>\n",
              "      <th>home_ownership</th>\n",
              "      <th>installment</th>\n",
              "      <th>int_rate</th>\n",
              "      <th>loan_amnt</th>\n",
              "      <th>earliest_cr_line</th>\n",
              "      <th>issue_d</th>\n",
              "      <th>grade</th>\n",
              "      <th>sub_grade</th>\n",
              "      <th>dti_jnt</th>\n",
              "      <th>mort_acc</th>\n",
              "      <th>term</th>\n",
              "      <th>verification_status_joint</th>\n",
              "      <th>zip_code</th>\n",
              "      <th>open_acc</th>\n",
              "      <th>total_acc</th>\n",
              "      <th>revol_util</th>\n",
              "      <th>credit_ratio</th>\n",
              "      <th>installment_ratio</th>\n",
              "      <th>target</th>\n",
              "    </tr>\n",
              "  </thead>\n",
              "  <tbody>\n",
              "    <tr>\n",
              "      <th>0</th>\n",
              "      <td>134000.00</td>\n",
              "      <td>697.0</td>\n",
              "      <td>MORTGAGE</td>\n",
              "      <td>432.66</td>\n",
              "      <td>10.78</td>\n",
              "      <td>20000.0</td>\n",
              "      <td>2000-08-01</td>\n",
              "      <td>2015-12-01</td>\n",
              "      <td>B</td>\n",
              "      <td>B4</td>\n",
              "      <td>12.32</td>\n",
              "      <td>5.0</td>\n",
              "      <td>60 months</td>\n",
              "      <td>Not Verified</td>\n",
              "      <td>605xx</td>\n",
              "      <td>6.0</td>\n",
              "      <td>18.0</td>\n",
              "      <td>56.2</td>\n",
              "      <td>0.333</td>\n",
              "      <td>0.022</td>\n",
              "      <td>0</td>\n",
              "    </tr>\n",
              "    <tr>\n",
              "      <th>1</th>\n",
              "      <td>142000.00</td>\n",
              "      <td>667.0</td>\n",
              "      <td>MORTGAGE</td>\n",
              "      <td>498.15</td>\n",
              "      <td>11.99</td>\n",
              "      <td>15000.0</td>\n",
              "      <td>2004-08-01</td>\n",
              "      <td>2015-12-01</td>\n",
              "      <td>C</td>\n",
              "      <td>C1</td>\n",
              "      <td>16.48</td>\n",
              "      <td>1.0</td>\n",
              "      <td>36 months</td>\n",
              "      <td>Not Verified</td>\n",
              "      <td>919xx</td>\n",
              "      <td>9.0</td>\n",
              "      <td>16.0</td>\n",
              "      <td>88.3</td>\n",
              "      <td>0.562</td>\n",
              "      <td>0.033</td>\n",
              "      <td>0</td>\n",
              "    </tr>\n",
              "    <tr>\n",
              "      <th>2</th>\n",
              "      <td>156749.00</td>\n",
              "      <td>682.0</td>\n",
              "      <td>MORTGAGE</td>\n",
              "      <td>678.37</td>\n",
              "      <td>23.13</td>\n",
              "      <td>24000.0</td>\n",
              "      <td>1998-07-01</td>\n",
              "      <td>2015-12-01</td>\n",
              "      <td>F</td>\n",
              "      <td>F2</td>\n",
              "      <td>30.57</td>\n",
              "      <td>1.0</td>\n",
              "      <td>60 months</td>\n",
              "      <td>Not Verified</td>\n",
              "      <td>773xx</td>\n",
              "      <td>13.0</td>\n",
              "      <td>22.0</td>\n",
              "      <td>73.1</td>\n",
              "      <td>0.591</td>\n",
              "      <td>0.028</td>\n",
              "      <td>0</td>\n",
              "    </tr>\n",
              "    <tr>\n",
              "      <th>3</th>\n",
              "      <td>213000.00</td>\n",
              "      <td>677.0</td>\n",
              "      <td>MORTGAGE</td>\n",
              "      <td>551.50</td>\n",
              "      <td>13.44</td>\n",
              "      <td>24000.0</td>\n",
              "      <td>2001-06-01</td>\n",
              "      <td>2015-12-01</td>\n",
              "      <td>C</td>\n",
              "      <td>C3</td>\n",
              "      <td>22.73</td>\n",
              "      <td>2.0</td>\n",
              "      <td>60 months</td>\n",
              "      <td>Not Verified</td>\n",
              "      <td>646xx</td>\n",
              "      <td>13.0</td>\n",
              "      <td>24.0</td>\n",
              "      <td>53.3</td>\n",
              "      <td>0.542</td>\n",
              "      <td>0.023</td>\n",
              "      <td>0</td>\n",
              "    </tr>\n",
              "    <tr>\n",
              "      <th>4</th>\n",
              "      <td>123872.64</td>\n",
              "      <td>682.0</td>\n",
              "      <td>RENT</td>\n",
              "      <td>320.70</td>\n",
              "      <td>18.99</td>\n",
              "      <td>8750.0</td>\n",
              "      <td>1998-08-01</td>\n",
              "      <td>2015-12-01</td>\n",
              "      <td>E</td>\n",
              "      <td>E1</td>\n",
              "      <td>31.89</td>\n",
              "      <td>0.0</td>\n",
              "      <td>36 months</td>\n",
              "      <td>Not Verified</td>\n",
              "      <td>606xx</td>\n",
              "      <td>9.0</td>\n",
              "      <td>12.0</td>\n",
              "      <td>96.5</td>\n",
              "      <td>0.750</td>\n",
              "      <td>0.037</td>\n",
              "      <td>1</td>\n",
              "    </tr>\n",
              "  </tbody>\n",
              "</table>\n",
              "</div>"
            ],
            "text/plain": [
              "   total_annual_inc  fico_score  ... installment_ratio  target\n",
              "0         134000.00       697.0  ...             0.022       0\n",
              "1         142000.00       667.0  ...             0.033       0\n",
              "2         156749.00       682.0  ...             0.028       0\n",
              "3         213000.00       677.0  ...             0.023       0\n",
              "4         123872.64       682.0  ...             0.037       1\n",
              "\n",
              "[5 rows x 21 columns]"
            ]
          },
          "metadata": {
            "tags": []
          },
          "execution_count": 25
        }
      ]
    },
    {
      "cell_type": "markdown",
      "metadata": {
        "id": "oBLFJ10Gwz0E"
      },
      "source": [
        "# Handling the null and missing values of the dataframes."
      ]
    },
    {
      "cell_type": "code",
      "metadata": {
        "id": "mSgZ6e2Ey4j-"
      },
      "source": [
        "# Replacing the missing values in the data which is present as an underline.\n",
        "ind_df=ind_df.replace('_', np.nan)\n",
        "jnt_df=jnt_df.replace('_', np.nan)"
      ],
      "execution_count": null,
      "outputs": []
    },
    {
      "cell_type": "code",
      "metadata": {
        "id": "KIUYobotxcx0"
      },
      "source": [
        "#Lets handle the missing values for the individual acc type."
      ],
      "execution_count": null,
      "outputs": []
    },
    {
      "cell_type": "code",
      "metadata": {
        "colab": {
          "base_uri": "https://localhost:8080/"
        },
        "id": "x8K1kIXVEYUg",
        "outputId": "e0347457-48d3-42e5-df09-d3ab942ed185"
      },
      "source": [
        "ind_df.isnull().sum()"
      ],
      "execution_count": null,
      "outputs": [
        {
          "output_type": "execute_result",
          "data": {
            "text/plain": [
              "annual_inc                 4\n",
              "dti                        0\n",
              "fico_score                 0\n",
              "home_ownership             0\n",
              "installment                0\n",
              "int_rate                   0\n",
              "loan_amnt                  0\n",
              "earliest_cr_line          29\n",
              "issue_d                    0\n",
              "grade                      0\n",
              "sub_grade                  0\n",
              "mort_acc               50030\n",
              "term                       0\n",
              "verification_status        0\n",
              "zip_code                   1\n",
              "open_acc                  29\n",
              "total_acc                 29\n",
              "revol_util               880\n",
              "credit_ratio              29\n",
              "installment_ratio          0\n",
              "target                     0\n",
              "dtype: int64"
            ]
          },
          "metadata": {
            "tags": []
          },
          "execution_count": 28
        }
      ]
    },
    {
      "cell_type": "code",
      "metadata": {
        "colab": {
          "base_uri": "https://localhost:8080/"
        },
        "id": "lCAYmj3vKyj8",
        "outputId": "5b6e242f-9969-4864-b5fc-2b6865f1f54a"
      },
      "source": [
        "# Separating the Numerical/Date-Time variables and the Categorical variables for individual dataset.\n",
        "num_vars = ind_df.columns[ind_df.dtypes != 'object']\n",
        "cat_vars = ind_df.columns[ind_df.dtypes == 'object']\n",
        "\n",
        "print(num_vars)\n",
        "print()\n",
        "print(cat_vars)"
      ],
      "execution_count": null,
      "outputs": [
        {
          "output_type": "stream",
          "text": [
            "Index(['annual_inc', 'dti', 'fico_score', 'installment', 'int_rate',\n",
            "       'loan_amnt', 'earliest_cr_line', 'issue_d', 'mort_acc', 'open_acc',\n",
            "       'total_acc', 'revol_util', 'credit_ratio', 'installment_ratio',\n",
            "       'target'],\n",
            "      dtype='object')\n",
            "\n",
            "Index(['home_ownership', 'grade', 'sub_grade', 'term', 'verification_status',\n",
            "       'zip_code'],\n",
            "      dtype='object')\n"
          ],
          "name": "stdout"
        }
      ]
    },
    {
      "cell_type": "code",
      "metadata": {
        "id": "qdBH82d2Tx6f"
      },
      "source": [
        "# Replacing the missing values with mean for numerical variables for individual data.\n",
        "for value in ['revol_util', 'mort_acc','annual_inc','open_acc','total_acc','credit_ratio']:\n",
        "    ind_df[value].fillna(round(ind_df[value].mean(),0),inplace=True)"
      ],
      "execution_count": null,
      "outputs": []
    },
    {
      "cell_type": "code",
      "metadata": {
        "id": "vmpsS8sSPWBg"
      },
      "source": [
        "# Replacing the missing values with mode for categorical variables for individual data.\n",
        "for value in ['zip_code','earliest_cr_line']:\n",
        "   ind_df[value].fillna(ind_df[value].mode()[0],inplace=True)"
      ],
      "execution_count": null,
      "outputs": []
    },
    {
      "cell_type": "code",
      "metadata": {
        "id": "L7TKZmWgUJXb",
        "colab": {
          "base_uri": "https://localhost:8080/"
        },
        "outputId": "aa0be8bb-a864-4c22-a612-9d8cfe3d37ec"
      },
      "source": [
        "ind_df.isnull().sum()"
      ],
      "execution_count": null,
      "outputs": [
        {
          "output_type": "execute_result",
          "data": {
            "text/plain": [
              "annual_inc             0\n",
              "dti                    0\n",
              "fico_score             0\n",
              "home_ownership         0\n",
              "installment            0\n",
              "int_rate               0\n",
              "loan_amnt              0\n",
              "earliest_cr_line       0\n",
              "issue_d                0\n",
              "grade                  0\n",
              "sub_grade              0\n",
              "mort_acc               0\n",
              "term                   0\n",
              "verification_status    0\n",
              "zip_code               0\n",
              "open_acc               0\n",
              "total_acc              0\n",
              "revol_util             0\n",
              "credit_ratio           0\n",
              "installment_ratio      0\n",
              "target                 0\n",
              "dtype: int64"
            ]
          },
          "metadata": {
            "tags": []
          },
          "execution_count": 32
        }
      ]
    },
    {
      "cell_type": "markdown",
      "metadata": {
        "id": "tTfYDX5O0BNK"
      },
      "source": [
        "***Creating a new col credit history***"
      ]
    },
    {
      "cell_type": "code",
      "metadata": {
        "id": "360_JyRrx8yX"
      },
      "source": [
        "# credit_history column\n",
        "\n",
        "ind_df['credit_history']=ind_df.issue_d-ind_df.earliest_cr_line\n"
      ],
      "execution_count": null,
      "outputs": []
    },
    {
      "cell_type": "markdown",
      "metadata": {
        "id": "sWQMbFu_ImOn"
      },
      "source": [
        "**Handling missing values for joint acc type**"
      ]
    },
    {
      "cell_type": "code",
      "metadata": {
        "colab": {
          "base_uri": "https://localhost:8080/"
        },
        "id": "cZDJp6UsEQDW",
        "outputId": "484fbf6d-acef-4e90-955f-9c5ee152c111"
      },
      "source": [
        "jnt_df.isnull().sum()"
      ],
      "execution_count": null,
      "outputs": [
        {
          "output_type": "execute_result",
          "data": {
            "text/plain": [
              "total_annual_inc               0\n",
              "fico_score                     0\n",
              "home_ownership                 0\n",
              "installment                    0\n",
              "int_rate                       0\n",
              "loan_amnt                      0\n",
              "earliest_cr_line               0\n",
              "issue_d                        0\n",
              "grade                          0\n",
              "sub_grade                      0\n",
              "dti_jnt                      415\n",
              "mort_acc                       0\n",
              "term                           0\n",
              "verification_status_joint    256\n",
              "zip_code                       0\n",
              "open_acc                       0\n",
              "total_acc                      0\n",
              "revol_util                    55\n",
              "credit_ratio                   0\n",
              "installment_ratio              0\n",
              "target                         0\n",
              "dtype: int64"
            ]
          },
          "metadata": {
            "tags": []
          },
          "execution_count": 34
        }
      ]
    },
    {
      "cell_type": "code",
      "metadata": {
        "id": "e4qhqY18JtAt"
      },
      "source": [
        "# Replacing the missing values with mean for numerical variables for jnt data.\n",
        "for value in ['dti_jnt', 'revol_util']:\n",
        "    jnt_df[value].fillna(round(jnt_df[value].mean(),0),inplace=True)"
      ],
      "execution_count": null,
      "outputs": []
    },
    {
      "cell_type": "code",
      "metadata": {
        "id": "vjRnmArUJ8D3"
      },
      "source": [
        "# Replacing the missing values with mode for categorical variables for jnt data.\n",
        "for value in ['verification_status_joint']:\n",
        "   jnt_df[value].fillna(jnt_df[value].mode()[0],inplace=True)"
      ],
      "execution_count": null,
      "outputs": []
    },
    {
      "cell_type": "markdown",
      "metadata": {
        "id": "kHI8sCKj9Xw8"
      },
      "source": [
        "**Creating a new col credit history which is the difference between issue_d and earliest_cr_line.**"
      ]
    },
    {
      "cell_type": "code",
      "metadata": {
        "id": "VsO-TqYj-QqR"
      },
      "source": [
        "# credit_history column\n",
        "\n",
        "jnt_df['credit_history']=jnt_df.issue_d-jnt_df.earliest_cr_line\n"
      ],
      "execution_count": null,
      "outputs": []
    },
    {
      "cell_type": "code",
      "metadata": {
        "colab": {
          "base_uri": "https://localhost:8080/"
        },
        "id": "1B3wA-fmKPqY",
        "outputId": "a20e0a8c-5d99-4160-c65b-1deeb0b21f85"
      },
      "source": [
        "jnt_df.isnull().sum()"
      ],
      "execution_count": null,
      "outputs": [
        {
          "output_type": "execute_result",
          "data": {
            "text/plain": [
              "total_annual_inc             0\n",
              "fico_score                   0\n",
              "home_ownership               0\n",
              "installment                  0\n",
              "int_rate                     0\n",
              "loan_amnt                    0\n",
              "earliest_cr_line             0\n",
              "issue_d                      0\n",
              "grade                        0\n",
              "sub_grade                    0\n",
              "dti_jnt                      0\n",
              "mort_acc                     0\n",
              "term                         0\n",
              "verification_status_joint    0\n",
              "zip_code                     0\n",
              "open_acc                     0\n",
              "total_acc                    0\n",
              "revol_util                   0\n",
              "credit_ratio                 0\n",
              "installment_ratio            0\n",
              "target                       0\n",
              "credit_history               0\n",
              "dtype: int64"
            ]
          },
          "metadata": {
            "tags": []
          },
          "execution_count": 38
        }
      ]
    },
    {
      "cell_type": "markdown",
      "metadata": {
        "id": "zsapxB1taNWP"
      },
      "source": [
        " ***All null values are handled successfully in  individual and joint dataframe***"
      ]
    },
    {
      "cell_type": "markdown",
      "metadata": {
        "id": "q7VbhXRWgufX"
      },
      "source": [
        "## Handling Skewness in dataframe"
      ]
    },
    {
      "cell_type": "code",
      "metadata": {
        "colab": {
          "base_uri": "https://localhost:8080/"
        },
        "id": "cGSBK_h82PXu",
        "outputId": "0bfbd753-1a7f-4ba7-c259-c25efabba201"
      },
      "source": [
        "# checking for outlier tendency\n",
        "ind_df.kurtosis(axis=0).sort_values(ascending=False)"
      ],
      "execution_count": null,
      "outputs": [
        {
          "output_type": "execute_result",
          "data": {
            "text/plain": [
              "annual_inc           4825.617098\n",
              "mort_acc                5.512899\n",
              "open_acc                3.358042\n",
              "fico_score              1.684800\n",
              "total_acc               1.678005\n",
              "installment             0.756935\n",
              "int_rate                0.489858\n",
              "revol_util              0.243249\n",
              "installment_ratio       0.129324\n",
              "loan_amnt              -0.077001\n",
              "credit_ratio           -0.082144\n",
              "target                 -0.142210\n",
              "dti                    -0.500895\n",
              "dtype: float64"
            ]
          },
          "metadata": {
            "tags": []
          },
          "execution_count": 39
        }
      ]
    },
    {
      "cell_type": "code",
      "metadata": {
        "colab": {
          "base_uri": "https://localhost:8080/"
        },
        "id": "kga6P2842PXv",
        "outputId": "b3b4f757-30b8-4112-f4ac-07523c6357a6"
      },
      "source": [
        "# Separating the Numerical column from accepted dataset.\n",
        "num_vars = list(ind_df.columns[ind_df.dtypes == 'float64'])\n",
        "\n",
        "print(len(num_vars))"
      ],
      "execution_count": null,
      "outputs": [
        {
          "output_type": "stream",
          "text": [
            "12\n"
          ],
          "name": "stdout"
        }
      ]
    },
    {
      "cell_type": "code",
      "metadata": {
        "colab": {
          "base_uri": "https://localhost:8080/",
          "height": 963
        },
        "id": "XWowxZdJ2PXv",
        "outputId": "8661f6c1-157b-4e80-fddf-f0d873a5ee01"
      },
      "source": [
        "# plotting boxplot\n",
        "plt.figure(figsize=(30, 20))\n",
        "i, j = 3,4\n",
        "for k in range(1, 12):\n",
        "    plt.subplot(i, j, k)\n",
        "    sns.boxplot(ind_df[num_vars[k-1]])"
      ],
      "execution_count": null,
      "outputs": [
        {
          "output_type": "display_data",
          "data": {
            "image/png": "[encoded data removed]",
            "text/plain": [
              "<Figure size 2160x1440 with 11 Axes>"
            ]
          },
          "metadata": {
            "tags": [],
            "needs_background": "light"
          }
        }
      ]
    },
    {
      "cell_type": "code",
      "metadata": {
        "id": "jxug2eiH6an4"
      },
      "source": [
        "# capping the some outlier on 1 percentile and 99 percentile\n",
        "outlier_cols_99_perc=['dti','revol_util']\n",
        "\n",
        "for cols in ind_df.columns:\n",
        "    percentiles = ind_df[outlier_cols_99_perc].quantile([0.01, 0.99]).values\n",
        "    ind_df[outlier_cols_99_perc] = np.clip(ind_df[outlier_cols_99_perc], percentiles[0],percentiles[1])"
      ],
      "execution_count": null,
      "outputs": []
    },
    {
      "cell_type": "code",
      "metadata": {
        "id": "qxtxrVV4rMa_"
      },
      "source": [
        "# capping installment_ratio with 0.06 and 0.99 percentile value\n",
        "percentiles = ind_df['installment_ratio'].quantile([0.1, 0.99]).values\n",
        "ind_df['installment_ratio'] = np.clip(ind_df['installment_ratio'],percentiles[0], percentiles[1])\n",
        "\n",
        "#  capping installment_ratio with 0.01 and 0.98 percentile value\n",
        "percentiles = ind_df['credit_ratio'].quantile([0.01, 0.98]).values\n",
        "ind_df['credit_ratio'] = np.clip(ind_df['credit_ratio'],percentiles[0], percentiles[1])\n"
      ],
      "execution_count": null,
      "outputs": []
    },
    {
      "cell_type": "code",
      "metadata": {
        "id": "ldyeNfAfRcSR"
      },
      "source": [
        "# capping the some outlier on 1 percentile and 95 percentile\n",
        "outlier_cols_95_perc=['loan_amnt','int_rate','installment','annual_inc','fico_score',\n",
        "                      'mort_acc','total_acc','open_acc']\n",
        "\n",
        "for cols in ind_df.columns:\n",
        "    percentiles = ind_df[outlier_cols_95_perc].quantile([0.01, 0.95]).values\n",
        "    ind_df[outlier_cols_95_perc] = np.clip(ind_df[outlier_cols_95_perc], percentiles[0],percentiles[1])"
      ],
      "execution_count": null,
      "outputs": []
    },
    {
      "cell_type": "code",
      "metadata": {
        "colab": {
          "base_uri": "https://localhost:8080/",
          "height": 958
        },
        "id": "qcMZAq209F-d",
        "outputId": "03f4f635-5282-4cbc-b52e-bff3db3c7b10"
      },
      "source": [
        "# plotting boxplot\n",
        "plt.figure(figsize=(30, 20))\n",
        "i, j = 3,4\n",
        "for k in range(1, 12):\n",
        "    plt.subplot(i, j, k)\n",
        "    sns.boxplot(ind_df[num_vars[k - 1]])"
      ],
      "execution_count": null,
      "outputs": [
        {
          "output_type": "display_data",
          "data": {
            "image/png": "[encoded data removed]",
            "text/plain": [
              "<Figure size 2160x1440 with 11 Axes>"
            ]
          },
          "metadata": {
            "tags": [],
            "needs_background": "light"
          }
        }
      ]
    },
    {
      "cell_type": "markdown",
      "metadata": {
        "id": "BegUbruD9RqY"
      },
      "source": [
        "***Handle outliers for Joint acc type***"
      ]
    },
    {
      "cell_type": "code",
      "metadata": {
        "colab": {
          "base_uri": "https://localhost:8080/"
        },
        "id": "TJl6zfXK9X3S",
        "outputId": "9802f75e-04e6-4dc6-acd3-e28c8f8d8529"
      },
      "source": [
        "# checking for outlier tendency\n",
        "jnt_df.kurtosis(axis=0).sort_values(ascending=False)"
      ],
      "execution_count": null,
      "outputs": [
        {
          "output_type": "execute_result",
          "data": {
            "text/plain": [
              "dti_jnt              184.543619\n",
              "total_annual_inc      57.616982\n",
              "open_acc               2.573276\n",
              "mort_acc               2.262118\n",
              "total_acc              1.655116\n",
              "fico_score             0.836995\n",
              "int_rate               0.298645\n",
              "credit_ratio          -0.089875\n",
              "installment           -0.270276\n",
              "installment_ratio     -0.852184\n",
              "loan_amnt             -0.882478\n",
              "revol_util            -0.896686\n",
              "target                -1.558490\n",
              "dtype: float64"
            ]
          },
          "metadata": {
            "tags": []
          },
          "execution_count": 46
        }
      ]
    },
    {
      "cell_type": "code",
      "metadata": {
        "colab": {
          "base_uri": "https://localhost:8080/"
        },
        "id": "6RzSWN759eYz",
        "outputId": "3941985f-cc85-404b-c7e2-b53ee9176bc7"
      },
      "source": [
        "# Separating the Numerical column from accepted dataset.\n",
        "num_varb = list(jnt_df.columns[jnt_df.dtypes == 'float64'])\n",
        "\n",
        "print(len(num_varb))"
      ],
      "execution_count": null,
      "outputs": [
        {
          "output_type": "stream",
          "text": [
            "12\n"
          ],
          "name": "stdout"
        }
      ]
    },
    {
      "cell_type": "code",
      "metadata": {
        "colab": {
          "base_uri": "https://localhost:8080/",
          "height": 250
        },
        "id": "4tEQkAYF9tIM",
        "outputId": "8b28a2a6-1d33-4f7d-b690-97f78e2c3fa2"
      },
      "source": [
        "# plotting boxplot\n",
        "plt.figure(figsize=(30, 20))\n",
        "i, j = 5, 15\n",
        "for k in range(1, 12):\n",
        "    plt.subplot(i, j, k)\n",
        "    sns.boxplot(jnt_df[num_varb[k-1]])"
      ],
      "execution_count": null,
      "outputs": [
        {
          "output_type": "display_data",
          "data": {
            "image/png": "[encoded data removed]",
            "text/plain": [
              "<Figure size 2160x1440 with 11 Axes>"
            ]
          },
          "metadata": {
            "tags": [],
            "needs_background": "light"
          }
        }
      ]
    },
    {
      "cell_type": "code",
      "metadata": {
        "id": "5aam3osf98lm"
      },
      "source": [
        "# capping the some outlier on 1 percentile and 99 percentile\n",
        "outlier_cols_99_perc=['mort_acc','revol_util','installment','credit_ratio']\n",
        "\n",
        "for cols in jnt_df.columns:\n",
        "    percentiles = jnt_df[outlier_cols_99_perc].quantile([0.01, 0.99]).values\n",
        "    jnt_df[outlier_cols_99_perc] = np.clip(jnt_df[outlier_cols_99_perc], percentiles[0],percentiles[1])"
      ],
      "execution_count": null,
      "outputs": []
    },
    {
      "cell_type": "code",
      "metadata": {
        "colab": {
          "base_uri": "https://localhost:8080/"
        },
        "id": "p0bzkxbI41-n",
        "outputId": "ac3df9e7-38b7-4f44-9bae-f8ede5d14041"
      },
      "source": [
        "jnt_df.info()"
      ],
      "execution_count": null,
      "outputs": [
        {
          "output_type": "stream",
          "text": [
            "<class 'pandas.core.frame.DataFrame'>\n",
            "RangeIndex: 29584 entries, 0 to 29583\n",
            "Data columns (total 22 columns):\n",
            " #   Column                     Non-Null Count  Dtype          \n",
            "---  ------                     --------------  -----          \n",
            " 0   total_annual_inc           29584 non-null  float64        \n",
            " 1   fico_score                 29584 non-null  float64        \n",
            " 2   home_ownership             29584 non-null  object         \n",
            " 3   installment                29584 non-null  float64        \n",
            " 4   int_rate                   29584 non-null  float64        \n",
            " 5   loan_amnt                  29584 non-null  float64        \n",
            " 6   earliest_cr_line           29584 non-null  datetime64[ns] \n",
            " 7   issue_d                    29584 non-null  datetime64[ns] \n",
            " 8   grade                      29584 non-null  object         \n",
            " 9   sub_grade                  29584 non-null  object         \n",
            " 10  dti_jnt                    29584 non-null  float64        \n",
            " 11  mort_acc                   29584 non-null  float64        \n",
            " 12  term                       29584 non-null  object         \n",
            " 13  verification_status_joint  29584 non-null  object         \n",
            " 14  zip_code                   29584 non-null  object         \n",
            " 15  open_acc                   29584 non-null  float64        \n",
            " 16  total_acc                  29584 non-null  float64        \n",
            " 17  revol_util                 29584 non-null  float64        \n",
            " 18  credit_ratio               29584 non-null  float64        \n",
            " 19  installment_ratio          29584 non-null  float64        \n",
            " 20  target                     29584 non-null  int64          \n",
            " 21  credit_history             29584 non-null  timedelta64[ns]\n",
            "dtypes: datetime64[ns](2), float64(12), int64(1), object(6), timedelta64[ns](1)\n",
            "memory usage: 5.0+ MB\n"
          ],
          "name": "stdout"
        }
      ]
    },
    {
      "cell_type": "code",
      "metadata": {
        "id": "hBPdJjEu2CV9"
      },
      "source": [
        "#  capping installment_ratio with 0.01 and 0.98 percentile value\n",
        "percentiles = jnt_df['credit_ratio'].quantile([0.01, 0.98]).values\n",
        "jnt_df['credit_ratio'] = np.clip(jnt_df['credit_ratio'],percentiles[0], percentiles[1])\n"
      ],
      "execution_count": null,
      "outputs": []
    },
    {
      "cell_type": "code",
      "metadata": {
        "id": "1z_pEm_g-B8q"
      },
      "source": [
        "# capping the some outlier on 1 percentile and 95 percentile\n",
        "outlier_cols_95_perc=['loan_amnt','dti_jnt','fico_score','total_annual_inc',\n",
        "                      'total_acc','open_acc','int_rate']\n",
        "\n",
        "for cols in jnt_df.columns:\n",
        "    percentiles = jnt_df[outlier_cols_95_perc].quantile([0.01, 0.95]).values\n",
        "    jnt_df[outlier_cols_95_perc] = np.clip(jnt_df[outlier_cols_95_perc], percentiles[0],percentiles[1])"
      ],
      "execution_count": null,
      "outputs": []
    },
    {
      "cell_type": "code",
      "metadata": {
        "colab": {
          "base_uri": "https://localhost:8080/",
          "height": 250
        },
        "id": "_j0x3CRG-bEY",
        "outputId": "bf796246-ce65-430a-9802-028144b13e90"
      },
      "source": [
        "# plotting boxplot\n",
        "plt.figure(figsize=(30, 20))\n",
        "i, j = 5, 15\n",
        "for k in range(1, 12):\n",
        "    plt.subplot(i, j, k)\n",
        "    sns.boxplot(jnt_df[num_varb[k-1]])"
      ],
      "execution_count": null,
      "outputs": [
        {
          "output_type": "display_data",
          "data": {
            "image/png": "[encoded data removed]",
            "text/plain": [
              "<Figure size 2160x1440 with 11 Axes>"
            ]
          },
          "metadata": {
            "tags": [],
            "needs_background": "light"
          }
        }
      ]
    },
    {
      "cell_type": "markdown",
      "metadata": {
        "id": "mPgJ4kRfw2uI"
      },
      "source": [
        "***All outliers are handled successfully***"
      ]
    },
    {
      "cell_type": "markdown",
      "metadata": {
        "id": "HA0i5pizzzen"
      },
      "source": [
        "There are few columns which denote date or month information but are of the type object in the dataframe. Let's change the dtype of all such columns to datetime."
      ]
    },
    {
      "cell_type": "code",
      "metadata": {
        "id": "ZRb4lahkwmDX"
      },
      "source": [
        "# converting the date column into number for individual data.\n",
        "ind_df['issue_d']= pd.to_datetime(ind_df['issue_d']).apply(lambda x: int(x.strftime('%m%Y')))\n",
        "ind_df['earliest_cr_line']=ind_df['earliest_cr_line'].apply(lambda x: x.strftime('%m%Y'))"
      ],
      "execution_count": null,
      "outputs": []
    },
    {
      "cell_type": "code",
      "metadata": {
        "id": "VIegkgu6z0HP"
      },
      "source": [
        "# converting the date column into number for joint data.\n",
        "jnt_df['issue_d']= pd.to_datetime(jnt_df['issue_d']).apply(lambda x: int(x.strftime('%m%Y')))\n",
        "jnt_df['earliest_cr_line']=jnt_df['earliest_cr_line'].apply(lambda x: x.strftime('%m%Y'))"
      ],
      "execution_count": null,
      "outputs": []
    },
    {
      "cell_type": "markdown",
      "metadata": {
        "id": "wXyykTNmn80k"
      },
      "source": [
        "# **Label Encoding**"
      ]
    },
    {
      "cell_type": "markdown",
      "metadata": {
        "id": "3t86Ag_VCO8q"
      },
      "source": [
        "***Encoding for individual data.***"
      ]
    },
    {
      "cell_type": "code",
      "metadata": {
        "id": "Bo6u-w4_UpB6",
        "colab": {
          "base_uri": "https://localhost:8080/"
        },
        "outputId": "67e87e11-eaa9-4b5f-9224-d4ec060e93ea"
      },
      "source": [
        "ind_df.dtypes"
      ],
      "execution_count": null,
      "outputs": [
        {
          "output_type": "execute_result",
          "data": {
            "text/plain": [
              "annual_inc                     float64\n",
              "dti                            float64\n",
              "fico_score                     float64\n",
              "home_ownership                  object\n",
              "installment                    float64\n",
              "int_rate                       float64\n",
              "loan_amnt                      float64\n",
              "earliest_cr_line                object\n",
              "issue_d                          int64\n",
              "grade                           object\n",
              "sub_grade                       object\n",
              "mort_acc                       float64\n",
              "term                            object\n",
              "verification_status             object\n",
              "zip_code                        object\n",
              "open_acc                       float64\n",
              "total_acc                      float64\n",
              "revol_util                     float64\n",
              "credit_ratio                   float64\n",
              "installment_ratio              float64\n",
              "target                           int64\n",
              "credit_history         timedelta64[ns]\n",
              "dtype: object"
            ]
          },
          "metadata": {
            "tags": []
          },
          "execution_count": 56
        }
      ]
    },
    {
      "cell_type": "code",
      "metadata": {
        "id": "pQ-sI6KaV5It",
        "colab": {
          "base_uri": "https://localhost:8080/"
        },
        "outputId": "98681c2d-db3d-4d63-f59a-fe373f424de2"
      },
      "source": [
        "ind_df['home_ownership'].nunique()\n"
      ],
      "execution_count": null,
      "outputs": [
        {
          "output_type": "execute_result",
          "data": {
            "text/plain": [
              "6"
            ]
          },
          "metadata": {
            "tags": []
          },
          "execution_count": 57
        }
      ]
    },
    {
      "cell_type": "code",
      "metadata": {
        "colab": {
          "base_uri": "https://localhost:8080/"
        },
        "id": "AUJJiJKR9Kk8",
        "outputId": "1cd5d502-2993-4c42-c2cf-6cde9d20688a"
      },
      "source": [
        "ind_df['home_ownership'].value_counts()"
      ],
      "execution_count": null,
      "outputs": [
        {
          "output_type": "execute_result",
          "data": {
            "text/plain": [
              "MORTGAGE    662501\n",
              "RENT        543376\n",
              "OWN         146346\n",
              "ANY            311\n",
              "OTHER          182\n",
              "NONE            51\n",
              "Name: home_ownership, dtype: int64"
            ]
          },
          "metadata": {
            "tags": []
          },
          "execution_count": 58
        }
      ]
    },
    {
      "cell_type": "code",
      "metadata": {
        "id": "d35fAc4l9RdI"
      },
      "source": [
        "ind_df['home_ownership']=ind_df['home_ownership'].map({\"NONE\":0,\"OTHER\":1,'ANY':2,'OWN':3,'RENT':4,'MORTGAGE':6})"
      ],
      "execution_count": null,
      "outputs": []
    },
    {
      "cell_type": "code",
      "metadata": {
        "colab": {
          "base_uri": "https://localhost:8080/"
        },
        "id": "OXRDAXqO_7py",
        "outputId": "4fa63e5a-34be-4eba-9ab6-c8e5ba63d699"
      },
      "source": [
        "ind_df['home_ownership'].value_counts()"
      ],
      "execution_count": null,
      "outputs": [
        {
          "output_type": "execute_result",
          "data": {
            "text/plain": [
              "6    662501\n",
              "4    543376\n",
              "3    146346\n",
              "2       311\n",
              "1       182\n",
              "0        51\n",
              "Name: home_ownership, dtype: int64"
            ]
          },
          "metadata": {
            "tags": []
          },
          "execution_count": 60
        }
      ]
    },
    {
      "cell_type": "code",
      "metadata": {
        "id": "It8j62Q3WCQz",
        "colab": {
          "base_uri": "https://localhost:8080/"
        },
        "outputId": "5069f01d-ae5e-4bdc-a750-73a4a29b6258"
      },
      "source": [
        "ind_df['verification_status'].nunique()\n"
      ],
      "execution_count": null,
      "outputs": [
        {
          "output_type": "execute_result",
          "data": {
            "text/plain": [
              "3"
            ]
          },
          "metadata": {
            "tags": []
          },
          "execution_count": 61
        }
      ]
    },
    {
      "cell_type": "code",
      "metadata": {
        "colab": {
          "base_uri": "https://localhost:8080/"
        },
        "id": "fU3-yKPWAioF",
        "outputId": "0366e45d-2a55-4c53-8064-9fc491bd4f3d"
      },
      "source": [
        "ind_df['verification_status'].value_counts()"
      ],
      "execution_count": null,
      "outputs": [
        {
          "output_type": "execute_result",
          "data": {
            "text/plain": [
              "Source Verified    527480\n",
              "Verified           418173\n",
              "Not Verified       407114\n",
              "Name: verification_status, dtype: int64"
            ]
          },
          "metadata": {
            "tags": []
          },
          "execution_count": 62
        }
      ]
    },
    {
      "cell_type": "code",
      "metadata": {
        "id": "zPvkDEowAm6u"
      },
      "source": [
        "ind_df['verification_status']=ind_df['verification_status'].map({\"Source Verified\":0,\"Verified\":1,\"Not Verified\":2})"
      ],
      "execution_count": null,
      "outputs": []
    },
    {
      "cell_type": "code",
      "metadata": {
        "colab": {
          "base_uri": "https://localhost:8080/"
        },
        "id": "VUJvtyQ9A7Om",
        "outputId": "48813add-728b-45c7-f4d6-428f4b8df5d0"
      },
      "source": [
        "# \"Fit\" is responsible to create dictionaries \n",
        "# \"Transform\" helps to map the variables and convert the categorical variables into numerical variables\n",
        "# For pre-processing the data\n",
        "\n",
        "from sklearn.preprocessing import LabelEncoder\n",
        "\n",
        "cols = ['term','grade','sub_grade']\n",
        "\n",
        "le=LabelEncoder()\n",
        "\n",
        "for x in cols:\n",
        "    ind_df[x]=le.fit_transform(ind_df[x])\n",
        "\n",
        "le_name_mapping = dict(zip(le.classes_, le.transform(le.classes_))) # This is to check how each variable is getting converted\n",
        "print('Feature', x)\n",
        "print('mapping', le_name_mapping)"
      ],
      "execution_count": null,
      "outputs": [
        {
          "output_type": "stream",
          "text": [
            "Feature sub_grade\n",
            "mapping {'A1': 0, 'A2': 1, 'A3': 2, 'A4': 3, 'A5': 4, 'B1': 5, 'B2': 6, 'B3': 7, 'B4': 8, 'B5': 9, 'C1': 10, 'C2': 11, 'C3': 12, 'C4': 13, 'C5': 14, 'D1': 15, 'D2': 16, 'D3': 17, 'D4': 18, 'D5': 19, 'E1': 20, 'E2': 21, 'E3': 22, 'E4': 23, 'E5': 24, 'F1': 25, 'F2': 26, 'F3': 27, 'F4': 28, 'F5': 29, 'G1': 30, 'G2': 31, 'G3': 32, 'G4': 33, 'G5': 34}\n"
          ],
          "name": "stdout"
        }
      ]
    },
    {
      "cell_type": "code",
      "metadata": {
        "id": "wdlIDe1aWDf_",
        "colab": {
          "base_uri": "https://localhost:8080/"
        },
        "outputId": "988c5012-cd00-42dd-fbbf-b1cbd0ce09ed"
      },
      "source": [
        "ind_df['zip_code'].nunique()"
      ],
      "execution_count": null,
      "outputs": [
        {
          "output_type": "execute_result",
          "data": {
            "text/plain": [
              "946"
            ]
          },
          "metadata": {
            "tags": []
          },
          "execution_count": 65
        }
      ]
    },
    {
      "cell_type": "code",
      "metadata": {
        "id": "bGwvOOFoXLyM"
      },
      "source": [
        "ind_df['zip_code'] = ind_df['zip_code'].str[:2]"
      ],
      "execution_count": null,
      "outputs": []
    },
    {
      "cell_type": "code",
      "metadata": {
        "id": "JcQ6B4acmdM2",
        "colab": {
          "base_uri": "https://localhost:8080/"
        },
        "outputId": "277b51a5-827d-4f07-d86c-a49322558ca1"
      },
      "source": [
        "ind_df['zip_code'].astype(int)"
      ],
      "execution_count": null,
      "outputs": [
        {
          "output_type": "execute_result",
          "data": {
            "text/plain": [
              "0          19\n",
              "1          57\n",
              "2          17\n",
              "3          30\n",
              "4          55\n",
              "           ..\n",
              "1352762    77\n",
              "1352763    90\n",
              "1352764    86\n",
              "1352765    28\n",
              "1352766    33\n",
              "Name: zip_code, Length: 1352767, dtype: int64"
            ]
          },
          "metadata": {
            "tags": []
          },
          "execution_count": 67
        }
      ]
    },
    {
      "cell_type": "code",
      "metadata": {
        "id": "7H7uI70WnAfe",
        "colab": {
          "base_uri": "https://localhost:8080/"
        },
        "outputId": "91fd1377-83fa-47dc-9eaf-85049cb64b56"
      },
      "source": [
        "ind_df['zip_code'].isnull().sum()"
      ],
      "execution_count": null,
      "outputs": [
        {
          "output_type": "execute_result",
          "data": {
            "text/plain": [
              "0"
            ]
          },
          "metadata": {
            "tags": []
          },
          "execution_count": 68
        }
      ]
    },
    {
      "cell_type": "code",
      "metadata": {
        "id": "w2HWzymoxXdD"
      },
      "source": [
        "# converting the credit history column from categorical to numerical by removing days from the column\n",
        "\n",
        "ind_df.credit_history=ind_df.credit_history.apply(lambda x: str(x).split(\" \",1)[0]).astype(int)\n"
      ],
      "execution_count": null,
      "outputs": []
    },
    {
      "cell_type": "code",
      "metadata": {
        "colab": {
          "base_uri": "https://localhost:8080/",
          "height": 223
        },
        "id": "vxRfR0AjB2pl",
        "outputId": "98ebecce-44f3-4162-8924-a79e01b873af"
      },
      "source": [
        "ind_df.head()"
      ],
      "execution_count": null,
      "outputs": [
        {
          "output_type": "execute_result",
          "data": {
            "text/html": [
              "<div>\n",
              "<style scoped>\n",
              "    .dataframe tbody tr th:only-of-type {\n",
              "        vertical-align: middle;\n",
              "    }\n",
              "\n",
              "    .dataframe tbody tr th {\n",
              "        vertical-align: top;\n",
              "    }\n",
              "\n",
              "    .dataframe thead th {\n",
              "        text-align: right;\n",
              "    }\n",
              "</style>\n",
              "<table border=\"1\" class=\"dataframe\">\n",
              "  <thead>\n",
              "    <tr style=\"text-align: right;\">\n",
              "      <th></th>\n",
              "      <th>annual_inc</th>\n",
              "      <th>dti</th>\n",
              "      <th>fico_score</th>\n",
              "      <th>home_ownership</th>\n",
              "      <th>installment</th>\n",
              "      <th>int_rate</th>\n",
              "      <th>loan_amnt</th>\n",
              "      <th>earliest_cr_line</th>\n",
              "      <th>issue_d</th>\n",
              "      <th>grade</th>\n",
              "      <th>sub_grade</th>\n",
              "      <th>mort_acc</th>\n",
              "      <th>term</th>\n",
              "      <th>verification_status</th>\n",
              "      <th>zip_code</th>\n",
              "      <th>open_acc</th>\n",
              "      <th>total_acc</th>\n",
              "      <th>revol_util</th>\n",
              "      <th>credit_ratio</th>\n",
              "      <th>installment_ratio</th>\n",
              "      <th>target</th>\n",
              "      <th>credit_history</th>\n",
              "    </tr>\n",
              "  </thead>\n",
              "  <tbody>\n",
              "    <tr>\n",
              "      <th>0</th>\n",
              "      <td>55000.0</td>\n",
              "      <td>5.91</td>\n",
              "      <td>677.0</td>\n",
              "      <td>6</td>\n",
              "      <td>123.03</td>\n",
              "      <td>13.99</td>\n",
              "      <td>3600.0</td>\n",
              "      <td>082003</td>\n",
              "      <td>122015</td>\n",
              "      <td>2</td>\n",
              "      <td>13</td>\n",
              "      <td>1.0</td>\n",
              "      <td>0</td>\n",
              "      <td>2</td>\n",
              "      <td>19</td>\n",
              "      <td>7.0</td>\n",
              "      <td>13.0</td>\n",
              "      <td>29.7</td>\n",
              "      <td>0.538</td>\n",
              "      <td>0.034</td>\n",
              "      <td>0</td>\n",
              "      <td>4505</td>\n",
              "    </tr>\n",
              "    <tr>\n",
              "      <th>1</th>\n",
              "      <td>65000.0</td>\n",
              "      <td>16.06</td>\n",
              "      <td>717.0</td>\n",
              "      <td>6</td>\n",
              "      <td>820.28</td>\n",
              "      <td>11.99</td>\n",
              "      <td>24700.0</td>\n",
              "      <td>121999</td>\n",
              "      <td>122015</td>\n",
              "      <td>2</td>\n",
              "      <td>10</td>\n",
              "      <td>4.0</td>\n",
              "      <td>0</td>\n",
              "      <td>2</td>\n",
              "      <td>57</td>\n",
              "      <td>22.0</td>\n",
              "      <td>38.0</td>\n",
              "      <td>19.2</td>\n",
              "      <td>0.579</td>\n",
              "      <td>0.033</td>\n",
              "      <td>0</td>\n",
              "      <td>5844</td>\n",
              "    </tr>\n",
              "    <tr>\n",
              "      <th>2</th>\n",
              "      <td>104433.0</td>\n",
              "      <td>25.37</td>\n",
              "      <td>697.0</td>\n",
              "      <td>6</td>\n",
              "      <td>289.91</td>\n",
              "      <td>22.15</td>\n",
              "      <td>10400.0</td>\n",
              "      <td>061998</td>\n",
              "      <td>122015</td>\n",
              "      <td>5</td>\n",
              "      <td>25</td>\n",
              "      <td>5.0</td>\n",
              "      <td>1</td>\n",
              "      <td>0</td>\n",
              "      <td>17</td>\n",
              "      <td>12.0</td>\n",
              "      <td>35.0</td>\n",
              "      <td>64.5</td>\n",
              "      <td>0.343</td>\n",
              "      <td>0.028</td>\n",
              "      <td>0</td>\n",
              "      <td>6392</td>\n",
              "    </tr>\n",
              "    <tr>\n",
              "      <th>3</th>\n",
              "      <td>34000.0</td>\n",
              "      <td>10.20</td>\n",
              "      <td>692.0</td>\n",
              "      <td>4</td>\n",
              "      <td>405.18</td>\n",
              "      <td>13.44</td>\n",
              "      <td>11950.0</td>\n",
              "      <td>101987</td>\n",
              "      <td>122015</td>\n",
              "      <td>2</td>\n",
              "      <td>12</td>\n",
              "      <td>0.0</td>\n",
              "      <td>0</td>\n",
              "      <td>0</td>\n",
              "      <td>30</td>\n",
              "      <td>5.0</td>\n",
              "      <td>6.0</td>\n",
              "      <td>68.4</td>\n",
              "      <td>0.833</td>\n",
              "      <td>0.034</td>\n",
              "      <td>0</td>\n",
              "      <td>10288</td>\n",
              "    </tr>\n",
              "    <tr>\n",
              "      <th>4</th>\n",
              "      <td>156000.0</td>\n",
              "      <td>14.67</td>\n",
              "      <td>682.0</td>\n",
              "      <td>6</td>\n",
              "      <td>637.58</td>\n",
              "      <td>9.17</td>\n",
              "      <td>20000.0</td>\n",
              "      <td>061990</td>\n",
              "      <td>122015</td>\n",
              "      <td>1</td>\n",
              "      <td>6</td>\n",
              "      <td>4.0</td>\n",
              "      <td>0</td>\n",
              "      <td>2</td>\n",
              "      <td>55</td>\n",
              "      <td>12.0</td>\n",
              "      <td>27.0</td>\n",
              "      <td>84.5</td>\n",
              "      <td>0.444</td>\n",
              "      <td>0.032</td>\n",
              "      <td>0</td>\n",
              "      <td>9314</td>\n",
              "    </tr>\n",
              "  </tbody>\n",
              "</table>\n",
              "</div>"
            ],
            "text/plain": [
              "   annual_inc    dti  fico_score  ...  installment_ratio  target  credit_history\n",
              "0     55000.0   5.91       677.0  ...              0.034       0            4505\n",
              "1     65000.0  16.06       717.0  ...              0.033       0            5844\n",
              "2    104433.0  25.37       697.0  ...              0.028       0            6392\n",
              "3     34000.0  10.20       692.0  ...              0.034       0           10288\n",
              "4    156000.0  14.67       682.0  ...              0.032       0            9314\n",
              "\n",
              "[5 rows x 22 columns]"
            ]
          },
          "metadata": {
            "tags": []
          },
          "execution_count": 70
        }
      ]
    },
    {
      "cell_type": "markdown",
      "metadata": {
        "id": "AgglGvWAFVQP"
      },
      "source": [
        "***Encoding for joint data.***"
      ]
    },
    {
      "cell_type": "code",
      "metadata": {
        "colab": {
          "base_uri": "https://localhost:8080/"
        },
        "id": "3PmJObMeFb_X",
        "outputId": "9e83a297-9ed2-48df-93d4-20d538830307"
      },
      "source": [
        "jnt_df.dtypes"
      ],
      "execution_count": null,
      "outputs": [
        {
          "output_type": "execute_result",
          "data": {
            "text/plain": [
              "total_annual_inc                     float64\n",
              "fico_score                           float64\n",
              "home_ownership                        object\n",
              "installment                          float64\n",
              "int_rate                             float64\n",
              "loan_amnt                            float64\n",
              "earliest_cr_line                      object\n",
              "issue_d                                int64\n",
              "grade                                 object\n",
              "sub_grade                             object\n",
              "dti_jnt                              float64\n",
              "mort_acc                             float64\n",
              "term                                  object\n",
              "verification_status_joint             object\n",
              "zip_code                              object\n",
              "open_acc                             float64\n",
              "total_acc                            float64\n",
              "revol_util                           float64\n",
              "credit_ratio                         float64\n",
              "installment_ratio                    float64\n",
              "target                                 int64\n",
              "credit_history               timedelta64[ns]\n",
              "dtype: object"
            ]
          },
          "metadata": {
            "tags": []
          },
          "execution_count": 71
        }
      ]
    },
    {
      "cell_type": "code",
      "metadata": {
        "colab": {
          "base_uri": "https://localhost:8080/"
        },
        "id": "F8uQiimOFqeT",
        "outputId": "22a420a8-cbd0-4675-e379-bc6c8d1240e8"
      },
      "source": [
        "jnt_df['home_ownership'].value_counts()"
      ],
      "execution_count": null,
      "outputs": [
        {
          "output_type": "execute_result",
          "data": {
            "text/plain": [
              "MORTGAGE    19641\n",
              "RENT         7072\n",
              "OWN          2869\n",
              "NONE            2\n",
              "Name: home_ownership, dtype: int64"
            ]
          },
          "metadata": {
            "tags": []
          },
          "execution_count": 72
        }
      ]
    },
    {
      "cell_type": "code",
      "metadata": {
        "id": "yiQCaERuFul6"
      },
      "source": [
        "jnt_df['home_ownership']=jnt_df['home_ownership'].map({\"NONE\":0,'OWN':1,'RENT':2,'MORTGAGE':3})"
      ],
      "execution_count": null,
      "outputs": []
    },
    {
      "cell_type": "code",
      "metadata": {
        "colab": {
          "base_uri": "https://localhost:8080/"
        },
        "id": "hKJHuGNDGAIU",
        "outputId": "5192dbd0-00d2-4eed-c0a3-7345da19c8e1"
      },
      "source": [
        "jnt_df['verification_status_joint'].value_counts()"
      ],
      "execution_count": null,
      "outputs": [
        {
          "output_type": "execute_result",
          "data": {
            "text/plain": [
              "Not Verified       16727\n",
              "Source Verified     7504\n",
              "Verified            5353\n",
              "Name: verification_status_joint, dtype: int64"
            ]
          },
          "metadata": {
            "tags": []
          },
          "execution_count": 74
        }
      ]
    },
    {
      "cell_type": "code",
      "metadata": {
        "id": "jMdN9p34GLnE"
      },
      "source": [
        "jnt_df['verification_status_joint']=jnt_df['verification_status_joint'].map({\"Source Verified\":0,\"Verified\":1,\"Not Verified\":2})"
      ],
      "execution_count": null,
      "outputs": []
    },
    {
      "cell_type": "code",
      "metadata": {
        "colab": {
          "base_uri": "https://localhost:8080/"
        },
        "id": "4rXiNKlKGbXR",
        "outputId": "f8b9b2b6-d19c-4e8a-adcf-6c788564d23f"
      },
      "source": [
        "# \"Fit\" is responsible to create dictionaries \n",
        "# \"Transform\" helps to map the variables and convert the categorical variables into numerical variables\n",
        "# For pre-processing the data\n",
        "\n",
        "from sklearn.preprocessing import LabelEncoder\n",
        "\n",
        "cols = ['term','grade','sub_grade']\n",
        "\n",
        "le=LabelEncoder()\n",
        "\n",
        "for x in cols:\n",
        "    jnt_df[x]=le.fit_transform(jnt_df[x])\n",
        "\n",
        "le_name_mapping = dict(zip(le.classes_, le.transform(le.classes_))) # This is to check how each variable is getting converted\n",
        "print('Feature', x)\n",
        "print('mapping', le_name_mapping)"
      ],
      "execution_count": null,
      "outputs": [
        {
          "output_type": "stream",
          "text": [
            "Feature sub_grade\n",
            "mapping {'A1': 0, 'A2': 1, 'A3': 2, 'A4': 3, 'A5': 4, 'B1': 5, 'B2': 6, 'B3': 7, 'B4': 8, 'B5': 9, 'C1': 10, 'C2': 11, 'C3': 12, 'C4': 13, 'C5': 14, 'D1': 15, 'D2': 16, 'D3': 17, 'D4': 18, 'D5': 19, 'E1': 20, 'E2': 21, 'E3': 22, 'E4': 23, 'E5': 24, 'F1': 25, 'F2': 26, 'F3': 27, 'F4': 28, 'F5': 29, 'G1': 30, 'G2': 31, 'G3': 32, 'G4': 33, 'G5': 34}\n"
          ],
          "name": "stdout"
        }
      ]
    },
    {
      "cell_type": "code",
      "metadata": {
        "colab": {
          "base_uri": "https://localhost:8080/"
        },
        "id": "HdqSn1CcGl8N",
        "outputId": "ee66ad59-929c-4299-bd46-eeaf608db341"
      },
      "source": [
        "jnt_df['zip_code'].nunique()"
      ],
      "execution_count": null,
      "outputs": [
        {
          "output_type": "execute_result",
          "data": {
            "text/plain": [
              "848"
            ]
          },
          "metadata": {
            "tags": []
          },
          "execution_count": 77
        }
      ]
    },
    {
      "cell_type": "code",
      "metadata": {
        "id": "96Klkj1bGl5G"
      },
      "source": [
        "jnt_df['zip_code'] = jnt_df['zip_code'].str[:2]"
      ],
      "execution_count": null,
      "outputs": []
    },
    {
      "cell_type": "code",
      "metadata": {
        "colab": {
          "base_uri": "https://localhost:8080/"
        },
        "id": "HAgFthFjGlzw",
        "outputId": "6ed7b51e-d26e-4253-9f06-12008eb6c9b7"
      },
      "source": [
        "jnt_df['zip_code'].astype(int)"
      ],
      "execution_count": null,
      "outputs": [
        {
          "output_type": "execute_result",
          "data": {
            "text/plain": [
              "0        60\n",
              "1        91\n",
              "2        77\n",
              "3        64\n",
              "4        60\n",
              "         ..\n",
              "29579    83\n",
              "29580    10\n",
              "29581    72\n",
              "29582    98\n",
              "29583     6\n",
              "Name: zip_code, Length: 29584, dtype: int64"
            ]
          },
          "metadata": {
            "tags": []
          },
          "execution_count": 79
        }
      ]
    },
    {
      "cell_type": "code",
      "metadata": {
        "id": "eJTEBtmnxkt4"
      },
      "source": [
        "# converting the credit history column from categorical to numerical by removing days from the column\n",
        "jnt_df.credit_history=jnt_df.credit_history.apply(lambda x: str(x).split(\" \",1)[0]).astype(int)\\\n"
      ],
      "execution_count": null,
      "outputs": []
    },
    {
      "cell_type": "code",
      "metadata": {
        "colab": {
          "base_uri": "https://localhost:8080/",
          "height": 223
        },
        "id": "sxxmA68KHD9e",
        "outputId": "55303299-b078-4790-a6c4-13499b4b583f"
      },
      "source": [
        "jnt_df.head()"
      ],
      "execution_count": null,
      "outputs": [
        {
          "output_type": "execute_result",
          "data": {
            "text/html": [
              "<div>\n",
              "<style scoped>\n",
              "    .dataframe tbody tr th:only-of-type {\n",
              "        vertical-align: middle;\n",
              "    }\n",
              "\n",
              "    .dataframe tbody tr th {\n",
              "        vertical-align: top;\n",
              "    }\n",
              "\n",
              "    .dataframe thead th {\n",
              "        text-align: right;\n",
              "    }\n",
              "</style>\n",
              "<table border=\"1\" class=\"dataframe\">\n",
              "  <thead>\n",
              "    <tr style=\"text-align: right;\">\n",
              "      <th></th>\n",
              "      <th>total_annual_inc</th>\n",
              "      <th>fico_score</th>\n",
              "      <th>home_ownership</th>\n",
              "      <th>installment</th>\n",
              "      <th>int_rate</th>\n",
              "      <th>loan_amnt</th>\n",
              "      <th>earliest_cr_line</th>\n",
              "      <th>issue_d</th>\n",
              "      <th>grade</th>\n",
              "      <th>sub_grade</th>\n",
              "      <th>dti_jnt</th>\n",
              "      <th>mort_acc</th>\n",
              "      <th>term</th>\n",
              "      <th>verification_status_joint</th>\n",
              "      <th>zip_code</th>\n",
              "      <th>open_acc</th>\n",
              "      <th>total_acc</th>\n",
              "      <th>revol_util</th>\n",
              "      <th>credit_ratio</th>\n",
              "      <th>installment_ratio</th>\n",
              "      <th>target</th>\n",
              "      <th>credit_history</th>\n",
              "    </tr>\n",
              "  </thead>\n",
              "  <tbody>\n",
              "    <tr>\n",
              "      <th>0</th>\n",
              "      <td>134000.00</td>\n",
              "      <td>697.0</td>\n",
              "      <td>3</td>\n",
              "      <td>432.66</td>\n",
              "      <td>10.78</td>\n",
              "      <td>20000.0</td>\n",
              "      <td>082000</td>\n",
              "      <td>122015</td>\n",
              "      <td>1</td>\n",
              "      <td>8</td>\n",
              "      <td>12.32</td>\n",
              "      <td>5.0</td>\n",
              "      <td>1</td>\n",
              "      <td>2</td>\n",
              "      <td>60</td>\n",
              "      <td>6.0</td>\n",
              "      <td>18.0</td>\n",
              "      <td>56.2</td>\n",
              "      <td>0.333</td>\n",
              "      <td>0.022</td>\n",
              "      <td>0</td>\n",
              "      <td>5600</td>\n",
              "    </tr>\n",
              "    <tr>\n",
              "      <th>1</th>\n",
              "      <td>142000.00</td>\n",
              "      <td>667.0</td>\n",
              "      <td>3</td>\n",
              "      <td>498.15</td>\n",
              "      <td>11.99</td>\n",
              "      <td>15000.0</td>\n",
              "      <td>082004</td>\n",
              "      <td>122015</td>\n",
              "      <td>2</td>\n",
              "      <td>10</td>\n",
              "      <td>16.48</td>\n",
              "      <td>1.0</td>\n",
              "      <td>0</td>\n",
              "      <td>2</td>\n",
              "      <td>91</td>\n",
              "      <td>9.0</td>\n",
              "      <td>16.0</td>\n",
              "      <td>88.3</td>\n",
              "      <td>0.562</td>\n",
              "      <td>0.033</td>\n",
              "      <td>0</td>\n",
              "      <td>4139</td>\n",
              "    </tr>\n",
              "    <tr>\n",
              "      <th>2</th>\n",
              "      <td>156749.00</td>\n",
              "      <td>682.0</td>\n",
              "      <td>3</td>\n",
              "      <td>678.37</td>\n",
              "      <td>23.13</td>\n",
              "      <td>24000.0</td>\n",
              "      <td>071998</td>\n",
              "      <td>122015</td>\n",
              "      <td>5</td>\n",
              "      <td>26</td>\n",
              "      <td>30.57</td>\n",
              "      <td>1.0</td>\n",
              "      <td>1</td>\n",
              "      <td>2</td>\n",
              "      <td>77</td>\n",
              "      <td>13.0</td>\n",
              "      <td>22.0</td>\n",
              "      <td>73.1</td>\n",
              "      <td>0.591</td>\n",
              "      <td>0.028</td>\n",
              "      <td>0</td>\n",
              "      <td>6362</td>\n",
              "    </tr>\n",
              "    <tr>\n",
              "      <th>3</th>\n",
              "      <td>213000.00</td>\n",
              "      <td>677.0</td>\n",
              "      <td>3</td>\n",
              "      <td>551.50</td>\n",
              "      <td>13.44</td>\n",
              "      <td>24000.0</td>\n",
              "      <td>062001</td>\n",
              "      <td>122015</td>\n",
              "      <td>2</td>\n",
              "      <td>12</td>\n",
              "      <td>22.73</td>\n",
              "      <td>2.0</td>\n",
              "      <td>1</td>\n",
              "      <td>2</td>\n",
              "      <td>64</td>\n",
              "      <td>13.0</td>\n",
              "      <td>24.0</td>\n",
              "      <td>53.3</td>\n",
              "      <td>0.542</td>\n",
              "      <td>0.023</td>\n",
              "      <td>0</td>\n",
              "      <td>5296</td>\n",
              "    </tr>\n",
              "    <tr>\n",
              "      <th>4</th>\n",
              "      <td>123872.64</td>\n",
              "      <td>682.0</td>\n",
              "      <td>2</td>\n",
              "      <td>320.70</td>\n",
              "      <td>18.99</td>\n",
              "      <td>8750.0</td>\n",
              "      <td>081998</td>\n",
              "      <td>122015</td>\n",
              "      <td>4</td>\n",
              "      <td>20</td>\n",
              "      <td>31.89</td>\n",
              "      <td>0.0</td>\n",
              "      <td>0</td>\n",
              "      <td>2</td>\n",
              "      <td>60</td>\n",
              "      <td>9.0</td>\n",
              "      <td>12.0</td>\n",
              "      <td>96.5</td>\n",
              "      <td>0.750</td>\n",
              "      <td>0.037</td>\n",
              "      <td>1</td>\n",
              "      <td>6331</td>\n",
              "    </tr>\n",
              "  </tbody>\n",
              "</table>\n",
              "</div>"
            ],
            "text/plain": [
              "   total_annual_inc  fico_score  ...  target  credit_history\n",
              "0         134000.00       697.0  ...       0            5600\n",
              "1         142000.00       667.0  ...       0            4139\n",
              "2         156749.00       682.0  ...       0            6362\n",
              "3         213000.00       677.0  ...       0            5296\n",
              "4         123872.64       682.0  ...       1            6331\n",
              "\n",
              "[5 rows x 22 columns]"
            ]
          },
          "metadata": {
            "tags": []
          },
          "execution_count": 81
        }
      ]
    },
    {
      "cell_type": "markdown",
      "metadata": {
        "id": "qKRf7N72JmbV"
      },
      "source": [
        "# **Train- Test Split for Individual Acc**"
      ]
    },
    {
      "cell_type": "code",
      "metadata": {
        "id": "TnIsssNLJn_o"
      },
      "source": [
        "Y = ind_df['target']\n",
        "X = ind_df.drop('target',axis=1)"
      ],
      "execution_count": null,
      "outputs": []
    },
    {
      "cell_type": "code",
      "metadata": {
        "colab": {
          "base_uri": "https://localhost:8080/"
        },
        "id": "KZ8TXD7aJxgD",
        "outputId": "68efb2c7-fe5e-4ca9-ae26-5471f3a4d0d5"
      },
      "source": [
        "X.shape"
      ],
      "execution_count": null,
      "outputs": [
        {
          "output_type": "execute_result",
          "data": {
            "text/plain": [
              "(1352767, 21)"
            ]
          },
          "metadata": {
            "tags": []
          },
          "execution_count": 83
        }
      ]
    },
    {
      "cell_type": "code",
      "metadata": {
        "colab": {
          "base_uri": "https://localhost:8080/"
        },
        "id": "LaoYRbboJyjH",
        "outputId": "61ab68db-2d03-41f3-e762-d61af5704e6f"
      },
      "source": [
        "Y.shape"
      ],
      "execution_count": null,
      "outputs": [
        {
          "output_type": "execute_result",
          "data": {
            "text/plain": [
              "(1352767,)"
            ]
          },
          "metadata": {
            "tags": []
          },
          "execution_count": 84
        }
      ]
    },
    {
      "cell_type": "code",
      "metadata": {
        "id": "MsLGrxbuKw9e"
      },
      "source": [
        "Y=Y.astype('int')"
      ],
      "execution_count": null,
      "outputs": []
    },
    {
      "cell_type": "code",
      "metadata": {
        "colab": {
          "base_uri": "https://localhost:8080/"
        },
        "id": "x2UnknhfJ57j",
        "outputId": "deb67d41-f592-4ed1-c521-cf37ede62c42"
      },
      "source": [
        "from sklearn.preprocessing import StandardScaler\n",
        "\n",
        "scaler = StandardScaler()\n",
        "\n",
        "scaler.fit(X)\n",
        "\n",
        "X = scaler.transform(X)\n",
        "print(X)"
      ],
      "execution_count": null,
      "outputs": [
        {
          "output_type": "stream",
          "text": [
            "[[-0.50387911 -1.45615205 -0.69581122 ...  0.20454552  0.66881904\n",
            "  -0.5200595 ]\n",
            " [-0.21848311 -0.23472166  0.71709966 ...  0.44067977  0.41388263\n",
            "  -0.03190449]\n",
            " [ 0.90691893  0.88562483  0.01064422 ... -0.91853203 -0.86079944\n",
            "   0.16787814]\n",
            " ...\n",
            " [ 2.37862047 -0.92305484  1.4235551  ...  1.58679481 -1.88054509\n",
            "  -1.45189238]\n",
            " [ 2.20738287 -0.69320932 -1.04903894 ... -0.42322603 -1.88054509\n",
            "   0.38989936]\n",
            " [ 1.06579888  0.03483539 -1.2256528  ... -1.03371947 -1.88054509\n",
            "   0.13506713]]\n"
          ],
          "name": "stdout"
        }
      ]
    },
    {
      "cell_type": "markdown",
      "metadata": {
        "id": "DTl9IWN7J_iW"
      },
      "source": [
        "***Splitting the data into training and testing.***"
      ]
    },
    {
      "cell_type": "code",
      "metadata": {
        "id": "EhdKnJVhKAy7"
      },
      "source": [
        "#Split the data into test and train\n",
        "\n",
        "from sklearn.model_selection import train_test_split\n",
        "\n",
        "X_train, X_test, Y_train, Y_test = train_test_split(X, Y, test_size=0.3,\n",
        "                                                    random_state=44)"
      ],
      "execution_count": null,
      "outputs": []
    },
    {
      "cell_type": "markdown",
      "metadata": {
        "id": "9snau-_kKFjs"
      },
      "source": [
        "**<h3><font color='blue'>Modelling - Random Forest for indvidual acc**"
      ]
    },
    {
      "cell_type": "markdown",
      "metadata": {
        "id": "xsyFGaRWRCrn"
      },
      "source": [
        "**Random forest classifier creates a set of decision trees from randomly selected subset of training set. It then aggregates the votes from different decision trees to decide the final class of the test object.**"
      ]
    },
    {
      "cell_type": "code",
      "metadata": {
        "id": "GHDThlMOKIzH"
      },
      "source": [
        "# Predicting using the Random Forest Classifier\n",
        "from sklearn.ensemble import RandomForestClassifier\n",
        "\n",
        "model_RandomForest=RandomForestClassifier(n_estimators=25, random_state=10,max_depth=6)\n",
        "\n",
        "# Fit the model on the data and predict the values\n",
        "\n",
        "model_RandomForest.fit(X_train,Y_train)\n",
        "\n",
        "Y_pred=model_RandomForest.predict(X_test)"
      ],
      "execution_count": null,
      "outputs": []
    },
    {
      "cell_type": "code",
      "metadata": {
        "colab": {
          "base_uri": "https://localhost:8080/"
        },
        "id": "bZ8DZPmLKQt1",
        "outputId": "956b7489-bb23-49ca-de9f-38126728fa3e"
      },
      "source": [
        "# Checking the accuracy and the type 1 and type 2 error with confusion matrix.\n",
        "from sklearn.metrics import confusion_matrix, accuracy_score, classification_report\n",
        "\n",
        "cfm=confusion_matrix(Y_test,Y_pred)\n",
        "print(cfm)\n",
        "\n",
        "print(\"Classification report: \")\n",
        "\n",
        "print(classification_report(Y_test,Y_pred))\n",
        "\n",
        "acc=accuracy_score(Y_test, Y_pred)\n",
        "print(\"Accuracy of the model: \",acc)"
      ],
      "execution_count": null,
      "outputs": [
        {
          "output_type": "stream",
          "text": [
            "[[316479   1065]\n",
            " [ 86603   1684]]\n",
            "Classification report: \n",
            "              precision    recall  f1-score   support\n",
            "\n",
            "           0       0.79      1.00      0.88    317544\n",
            "           1       0.61      0.02      0.04     88287\n",
            "\n",
            "    accuracy                           0.78    405831\n",
            "   macro avg       0.70      0.51      0.46    405831\n",
            "weighted avg       0.75      0.78      0.70    405831\n",
            "\n",
            "Accuracy of the model:  0.7839790454647377\n"
          ],
          "name": "stdout"
        }
      ]
    },
    {
      "cell_type": "markdown",
      "metadata": {
        "id": "hvVgK4T_ytTM"
      },
      "source": [
        "**The accuracy is 78.3% . And the precision and recall for value 0 for Fully paid is good i.e. 79% and 62%  and  for Default the precision, recall are not that good.This can be because of the target variable imbalance.**"
      ]
    },
    {
      "cell_type": "markdown",
      "metadata": {
        "id": "ullbxyS5L0su"
      },
      "source": [
        "Since our target varible is imbalanced so to fix this lets we are using oversampling method to balance the minority value i.e. here default value to make balance in target column"
      ]
    },
    {
      "cell_type": "code",
      "metadata": {
        "id": "1T16U7XzIkjy"
      },
      "source": [
        "from imblearn import under_sampling, over_sampling\n",
        "from imblearn.over_sampling import SMOTE"
      ],
      "execution_count": null,
      "outputs": []
    },
    {
      "cell_type": "code",
      "metadata": {
        "id": "IbHdXZC_LQX6"
      },
      "source": [
        "smote=SMOTE(\"minority\")\n",
        "X_sm,Y_sm=smote.fit_resample(X_train,Y_train)"
      ],
      "execution_count": null,
      "outputs": []
    },
    {
      "cell_type": "code",
      "metadata": {
        "id": "eEUnjXpOLYWi",
        "colab": {
          "base_uri": "https://localhost:8080/"
        },
        "outputId": "ad3200d1-c60b-49f2-cc9a-66f0f535e932"
      },
      "source": [
        "# fitting the model\n",
        "clf = RandomForestClassifier(n_estimators=25, random_state=10, max_depth=6)\n",
        "clf.fit(X_sm,Y_sm)\n",
        "    \n",
        "# Predict using model\n",
        "y_pred = clf.predict(X_sm)\n",
        "    \n",
        "accuracy_score(Y_sm,y_pred)"
      ],
      "execution_count": null,
      "outputs": [
        {
          "output_type": "execute_result",
          "data": {
            "text/plain": [
              "0.7125059648449276"
            ]
          },
          "metadata": {
            "tags": []
          },
          "execution_count": 92
        }
      ]
    },
    {
      "cell_type": "code",
      "metadata": {
        "id": "TqKy4GdhQe93",
        "colab": {
          "base_uri": "https://localhost:8080/"
        },
        "outputId": "f0b63e7a-c4de-4373-dd9d-e8a4aededa83"
      },
      "source": [
        "from sklearn import metrics\n",
        "print(metrics.classification_report(Y_sm, y_pred,digits=3))"
      ],
      "execution_count": null,
      "outputs": [
        {
          "output_type": "stream",
          "text": [
            "              precision    recall  f1-score   support\n",
            "\n",
            "           0      0.745     0.646     0.692    739751\n",
            "           1      0.688     0.779     0.730    739751\n",
            "\n",
            "    accuracy                          0.713   1479502\n",
            "   macro avg      0.716     0.713     0.711   1479502\n",
            "weighted avg      0.716     0.713     0.711   1479502\n",
            "\n"
          ],
          "name": "stdout"
        }
      ]
    },
    {
      "cell_type": "markdown",
      "metadata": {
        "id": "PAk_bg8SQjHl"
      },
      "source": [
        "**The precision and recall value is improved for target value 1 i.e. Default from 61% to 68% and accuracy dropped from 78.3% to 71% but it is acceptable.**"
      ]
    },
    {
      "cell_type": "markdown",
      "metadata": {
        "id": "fnUCBf-6Qt4V"
      },
      "source": [
        "**Validating the model on test dataset**"
      ]
    },
    {
      "cell_type": "code",
      "metadata": {
        "id": "LzsSXpezQjsY"
      },
      "source": [
        "# predicting the values from test data\n",
        "y_test_pred = clf.predict(X_test)"
      ],
      "execution_count": null,
      "outputs": []
    },
    {
      "cell_type": "code",
      "metadata": {
        "id": "rle1PHoJQ0A_",
        "colab": {
          "base_uri": "https://localhost:8080/"
        },
        "outputId": "6bbbb690-ef1c-4a1c-8a0c-80f98f12bea0"
      },
      "source": [
        "# checking the accuracy for test data set\n",
        "accuracy_score(Y_test,y_test_pred)"
      ],
      "execution_count": null,
      "outputs": [
        {
          "output_type": "execute_result",
          "data": {
            "text/plain": [
              "0.645709667324576"
            ]
          },
          "metadata": {
            "tags": []
          },
          "execution_count": 95
        }
      ]
    },
    {
      "cell_type": "markdown",
      "metadata": {
        "id": "9J5Ikj3_RBai"
      },
      "source": [
        "**accuracy for test dataset is 64 which is almost close to train dataset i.e. 71%**"
      ]
    },
    {
      "cell_type": "code",
      "metadata": {
        "id": "hZLybag0RCeA",
        "colab": {
          "base_uri": "https://localhost:8080/"
        },
        "outputId": "52ad1a66-02f1-4697-8b74-276edde792aa"
      },
      "source": [
        "# confusion metrics for test dataset\n",
        "confusion = metrics.confusion_matrix(Y_test, y_test_pred )\n",
        "confusion"
      ],
      "execution_count": null,
      "outputs": [
        {
          "output_type": "execute_result",
          "data": {
            "text/plain": [
              "array([[205477, 112067],\n",
              "       [ 31715,  56572]])"
            ]
          },
          "metadata": {
            "tags": []
          },
          "execution_count": 96
        }
      ]
    },
    {
      "cell_type": "code",
      "metadata": {
        "id": "UEz8l6cuREt1",
        "colab": {
          "base_uri": "https://localhost:8080/"
        },
        "outputId": "7c9fcec4-fcc0-4f0e-fd20-f228957b8244"
      },
      "source": [
        "# classification report for test dataset\n",
        "print(metrics.classification_report(Y_test, y_test_pred,digits=3))"
      ],
      "execution_count": null,
      "outputs": [
        {
          "output_type": "stream",
          "text": [
            "              precision    recall  f1-score   support\n",
            "\n",
            "           0      0.866     0.647     0.741    317544\n",
            "           1      0.335     0.641     0.440     88287\n",
            "\n",
            "    accuracy                          0.646    405831\n",
            "   macro avg      0.601     0.644     0.591    405831\n",
            "weighted avg      0.751     0.646     0.675    405831\n",
            "\n"
          ],
          "name": "stdout"
        }
      ]
    },
    {
      "cell_type": "markdown",
      "metadata": {
        "id": "NZcOo9sUNNJP"
      },
      "source": [
        "# **Train- Test Split for Joint Account**"
      ]
    },
    {
      "cell_type": "code",
      "metadata": {
        "id": "rvlf0UKwcDDv"
      },
      "source": [
        "y_j = jnt_df['target']\n",
        "x_j = jnt_df.drop('target',axis=1)"
      ],
      "execution_count": null,
      "outputs": []
    },
    {
      "cell_type": "code",
      "metadata": {
        "colab": {
          "base_uri": "https://localhost:8080/"
        },
        "id": "cIJhKy4ccPy7",
        "outputId": "69ea6c35-4bac-4f50-91d0-e194e89d39ef"
      },
      "source": [
        "x_j.shape"
      ],
      "execution_count": null,
      "outputs": [
        {
          "output_type": "execute_result",
          "data": {
            "text/plain": [
              "(29584, 21)"
            ]
          },
          "metadata": {
            "tags": []
          },
          "execution_count": 99
        }
      ]
    },
    {
      "cell_type": "code",
      "metadata": {
        "colab": {
          "base_uri": "https://localhost:8080/"
        },
        "id": "Y4nZZr6FcW-D",
        "outputId": "efeea4d4-1f01-45a2-ab96-a159306daaaa"
      },
      "source": [
        "y_j.shape"
      ],
      "execution_count": null,
      "outputs": [
        {
          "output_type": "execute_result",
          "data": {
            "text/plain": [
              "(29584,)"
            ]
          },
          "metadata": {
            "tags": []
          },
          "execution_count": 100
        }
      ]
    },
    {
      "cell_type": "code",
      "metadata": {
        "id": "7YyB8PofcdFQ"
      },
      "source": [
        "y_j=y_j.astype('int')"
      ],
      "execution_count": null,
      "outputs": []
    },
    {
      "cell_type": "code",
      "metadata": {
        "colab": {
          "base_uri": "https://localhost:8080/"
        },
        "id": "Zd_2RX9ucnm8",
        "outputId": "fea363df-ba00-414a-dd71-3d64bbb883bc"
      },
      "source": [
        "scaler.fit(x_j)\n",
        "\n",
        "x_j = scaler.transform(x_j)\n",
        "print(x_j)"
      ],
      "execution_count": null,
      "outputs": [
        {
          "output_type": "stream",
          "text": [
            "[[-0.51957057 -0.23678042  0.65315817 ... -1.03022355 -1.6699117\n",
            "  -0.14026631]\n",
            " [-0.40347539 -1.09171566  0.65315817 ...  0.29277685  0.49537837\n",
            "  -0.65238113]\n",
            " [-0.18943943 -0.66424804  0.65315817 ...  0.46031838 -0.48884439\n",
            "   0.1268326 ]\n",
            " ...\n",
            " [ 0.27858376 -0.23678042  0.65315817 ... -0.18096128 -1.2762226\n",
            "  -0.18267965]\n",
            " [ 1.07673809 -1.09171566  0.65315817 ... -1.0822192  -1.2762226\n",
            "   0.0626868 ]\n",
            " [-0.02616607  0.90313324  0.65315817 ... -0.75291342 -1.86675625\n",
            "  -0.17216394]]\n"
          ],
          "name": "stdout"
        }
      ]
    },
    {
      "cell_type": "markdown",
      "metadata": {
        "id": "IxdguphUnfsS"
      },
      "source": [
        "**Splitting the data into training and testing for Joint Account.**"
      ]
    },
    {
      "cell_type": "code",
      "metadata": {
        "id": "k223W0Y5czaa"
      },
      "source": [
        "x_j_train, x_j_test, y_j_train, y_j_test = train_test_split(x_j, y_j, test_size=0.3,\n",
        "                                                    random_state=44)"
      ],
      "execution_count": null,
      "outputs": []
    },
    {
      "cell_type": "markdown",
      "metadata": {
        "id": "h3C-Oercl_oh"
      },
      "source": [
        "**<h3><font color='green'>Modelling - Random Forest for Joint acc**"
      ]
    },
    {
      "cell_type": "code",
      "metadata": {
        "id": "Ki1nnB4_hzVd"
      },
      "source": [
        "# Predicting using the Random Forest Classifier\n",
        "from sklearn.ensemble import RandomForestClassifier\n",
        "\n",
        "model_RandomForest=RandomForestClassifier(n_estimators=25, random_state=10,max_depth=6)\n",
        "\n",
        "# Fit the model on the data and predict the values\n",
        "\n",
        "model_RandomForest.fit(x_j_train,y_j_train)\n",
        "\n",
        "y_j_pred =model_RandomForest.predict(x_j_test)"
      ],
      "execution_count": null,
      "outputs": []
    },
    {
      "cell_type": "code",
      "metadata": {
        "colab": {
          "base_uri": "https://localhost:8080/"
        },
        "id": "IdUzPX27Bjbx",
        "outputId": "f32eb180-2157-4006-9888-3cc1a49e9a33"
      },
      "source": [
        "# Checking the accuracy and the type 1 and type 2 error with confusion matrix.\n",
        "from sklearn.metrics import confusion_matrix, accuracy_score, classification_report\n",
        "\n",
        "cfm=confusion_matrix(y_j_test,y_j_pred)\n",
        "print(cfm)\n",
        "\n",
        "print(\"Classification report: \")\n",
        "\n",
        "print(classification_report(y_j_test,y_j_pred))\n",
        "\n",
        "accuracy_score(y_j_test,y_j_pred)"
      ],
      "execution_count": null,
      "outputs": [
        {
          "output_type": "stream",
          "text": [
            "[[5410  434]\n",
            " [2440  592]]\n",
            "Classification report: \n",
            "              precision    recall  f1-score   support\n",
            "\n",
            "           0       0.69      0.93      0.79      5844\n",
            "           1       0.58      0.20      0.29      3032\n",
            "\n",
            "    accuracy                           0.68      8876\n",
            "   macro avg       0.63      0.56      0.54      8876\n",
            "weighted avg       0.65      0.68      0.62      8876\n",
            "\n"
          ],
          "name": "stdout"
        },
        {
          "output_type": "execute_result",
          "data": {
            "text/plain": [
              "0.6762054979720595"
            ]
          },
          "metadata": {
            "tags": []
          },
          "execution_count": 105
        }
      ]
    },
    {
      "cell_type": "markdown",
      "metadata": {
        "id": "ld0Edk8Qzyf-"
      },
      "source": [
        "**The accuracy for the Joint account type is 67.6% which is not doing so well,**\n",
        "**and here also the precision and recall is not good for the default class.**"
      ]
    },
    {
      "cell_type": "markdown",
      "metadata": {
        "id": "HegmU3l_NO64"
      },
      "source": [
        "**Since our target varible is imbalance so to fix this lets use oversampling method to balance the minority value i.e. here default value to make balance in target column.**"
      ]
    },
    {
      "cell_type": "code",
      "metadata": {
        "id": "_jV6Q67JNPab"
      },
      "source": [
        "from imblearn import under_sampling, over_sampling\n",
        "from imblearn.over_sampling import SMOTE"
      ],
      "execution_count": null,
      "outputs": []
    },
    {
      "cell_type": "code",
      "metadata": {
        "id": "UPLh6G-wCYb4"
      },
      "source": [
        "smote=SMOTE(\"minority\")\n",
        "X_j_sm,Y_j_sm = smote.fit_resample(x_j_train,y_j_train)"
      ],
      "execution_count": null,
      "outputs": []
    },
    {
      "cell_type": "code",
      "metadata": {
        "colab": {
          "base_uri": "https://localhost:8080/"
        },
        "id": "DFii_EW2FawH",
        "outputId": "1c965e52-fb26-4063-e497-978b34372a77"
      },
      "source": [
        "# fitting the model\n",
        "clf_rf = RandomForestClassifier(n_estimators=25, random_state=10, max_depth=6)\n",
        "clf_rf.fit(X_j_sm,Y_j_sm)\n",
        "    \n",
        "# Predict using model\n",
        "y_j_pred = clf_rf.predict(X_j_sm)\n",
        "    \n",
        "accuracy_score(Y_j_sm,y_j_pred)"
      ],
      "execution_count": null,
      "outputs": [
        {
          "output_type": "execute_result",
          "data": {
            "text/plain": [
              "0.6929180135174846"
            ]
          },
          "metadata": {
            "tags": []
          },
          "execution_count": 108
        }
      ]
    },
    {
      "cell_type": "code",
      "metadata": {
        "id": "Tka-luesNrjn",
        "colab": {
          "base_uri": "https://localhost:8080/"
        },
        "outputId": "2104e3a9-c2b4-49c6-bad1-2c68dbb68644"
      },
      "source": [
        "from sklearn import metrics\n",
        "print(metrics.classification_report(Y_j_sm, y_j_pred,digits=3))"
      ],
      "execution_count": null,
      "outputs": [
        {
          "output_type": "stream",
          "text": [
            "              precision    recall  f1-score   support\n",
            "\n",
            "           0      0.713     0.646     0.678     13612\n",
            "           1      0.676     0.740     0.707     13612\n",
            "\n",
            "    accuracy                          0.693     27224\n",
            "   macro avg      0.695     0.693     0.692     27224\n",
            "weighted avg      0.695     0.693     0.692     27224\n",
            "\n"
          ],
          "name": "stdout"
        }
      ]
    },
    {
      "cell_type": "markdown",
      "metadata": {
        "id": "dH868-n3ORiE"
      },
      "source": [
        "**The precision and recall value is improved for target value 1 i.e. Default. Now precision improved from 58% to 67% and recall improved from 20% to 70%.**"
      ]
    },
    {
      "cell_type": "markdown",
      "metadata": {
        "id": "PS_J4QqaO7Qx"
      },
      "source": [
        "**Validating the model on test dataset**"
      ]
    },
    {
      "cell_type": "code",
      "metadata": {
        "id": "PeAiYbmiO41o"
      },
      "source": [
        "# predicting the values from test data\n",
        "y_j_test_pred = clf_rf.predict(x_j_test)"
      ],
      "execution_count": null,
      "outputs": []
    },
    {
      "cell_type": "code",
      "metadata": {
        "id": "ybgFYCdrPC6T",
        "colab": {
          "base_uri": "https://localhost:8080/"
        },
        "outputId": "fc3164db-fe77-4303-9595-5713c1206413"
      },
      "source": [
        "# checking the accuracy for test data set\n",
        "accuracy_score(y_j_test,y_j_test_pred)"
      ],
      "execution_count": null,
      "outputs": [
        {
          "output_type": "execute_result",
          "data": {
            "text/plain": [
              "0.6243803515096891"
            ]
          },
          "metadata": {
            "tags": []
          },
          "execution_count": 111
        }
      ]
    },
    {
      "cell_type": "markdown",
      "metadata": {
        "id": "JIa1XsYWPSP5"
      },
      "source": [
        "**Accuracy for test dataset is 62% which is close to train dataset i.e. 69%**"
      ]
    },
    {
      "cell_type": "code",
      "metadata": {
        "id": "-wco2t_IPPvg",
        "colab": {
          "base_uri": "https://localhost:8080/"
        },
        "outputId": "3ff0b570-5b18-4c70-c010-cc77169659d4"
      },
      "source": [
        "# confusion metrics for test dataset\n",
        "confusion = metrics.confusion_matrix(y_j_test, y_j_test_pred )\n",
        "confusion"
      ],
      "execution_count": null,
      "outputs": [
        {
          "output_type": "execute_result",
          "data": {
            "text/plain": [
              "array([[3718, 2126],\n",
              "       [1208, 1824]])"
            ]
          },
          "metadata": {
            "tags": []
          },
          "execution_count": 112
        }
      ]
    },
    {
      "cell_type": "code",
      "metadata": {
        "id": "FvmOa4rJPgPV",
        "colab": {
          "base_uri": "https://localhost:8080/"
        },
        "outputId": "fa9b6dc8-4dfc-4d4a-b494-59f2ee320110"
      },
      "source": [
        "# classification report for test dataset\n",
        "print(metrics.classification_report(y_j_test, y_j_test_pred,digits=3))"
      ],
      "execution_count": null,
      "outputs": [
        {
          "output_type": "stream",
          "text": [
            "              precision    recall  f1-score   support\n",
            "\n",
            "           0      0.755     0.636     0.690      5844\n",
            "           1      0.462     0.602     0.522      3032\n",
            "\n",
            "    accuracy                          0.624      8876\n",
            "   macro avg      0.608     0.619     0.606      8876\n",
            "weighted avg      0.655     0.624     0.633      8876\n",
            "\n"
          ],
          "name": "stdout"
        }
      ]
    },
    {
      "cell_type": "markdown",
      "metadata": {
        "id": "rAx65A812VZ1"
      },
      "source": [
        "# **Conclusion**"
      ]
    },
    {
      "cell_type": "markdown",
      "metadata": {
        "id": "V3orFeDN2o7G"
      },
      "source": [
        "***We have successfully built an machine learning algorithm to predict preventing investing on the bad loans and also have balanced the target variable .***"
      ]
    },
    {
      "cell_type": "code",
      "metadata": {
        "id": "2HYC30HCOL8j"
      },
      "source": [
        ""
      ],
      "execution_count": null,
      "outputs": []
    }
  ]
}